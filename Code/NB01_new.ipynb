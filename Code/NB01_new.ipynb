{
 "cells": [
  {
   "cell_type": "code",
   "execution_count": 1,
   "metadata": {},
   "outputs": [],
   "source": [
    "import pandas as pd \n",
    "import json "
   ]
  },
  {
   "cell_type": "markdown",
   "metadata": {},
   "source": [
    "# construct variable\n",
    "## Monthly change nominal exchange rate"
   ]
  },
  {
   "cell_type": "code",
   "execution_count": 5,
   "metadata": {},
   "outputs": [],
   "source": [
    "file_path = \"../data/IMF.xlsx\"  # Update this with your actual file path\n",
    "df = pd.read_excel(file_path, header=1, engine=\"openpyxl\")\n",
    "df.columns = df.columns.astype(str)\n",
    "\n",
    "# Select columns that are NOT four-digit numbers\n",
    "monthly_cols = [x for x in df.columns if not (x.strip().isdigit() and len(x.strip()) == 4)]\n"
   ]
  },
  {
   "cell_type": "code",
   "execution_count": 9,
   "metadata": {},
   "outputs": [
    {
     "data": {
      "text/html": [
       "<div>\n",
       "<style scoped>\n",
       "    .dataframe tbody tr th:only-of-type {\n",
       "        vertical-align: middle;\n",
       "    }\n",
       "\n",
       "    .dataframe tbody tr th {\n",
       "        vertical-align: top;\n",
       "    }\n",
       "\n",
       "    .dataframe thead th {\n",
       "        text-align: right;\n",
       "    }\n",
       "</style>\n",
       "<table border=\"1\" class=\"dataframe\">\n",
       "  <thead>\n",
       "    <tr style=\"text-align: right;\">\n",
       "      <th></th>\n",
       "      <th>Unnamed: 0</th>\n",
       "      <th>Unnamed: 1</th>\n",
       "      <th>Dec 1959</th>\n",
       "      <th>Jan 1960</th>\n",
       "      <th>Feb 1960</th>\n",
       "      <th>Mar 1960</th>\n",
       "      <th>Apr 1960</th>\n",
       "      <th>May 1960</th>\n",
       "      <th>Jun 1960</th>\n",
       "      <th>Jul 1960</th>\n",
       "      <th>...</th>\n",
       "      <th>Mar 1990</th>\n",
       "      <th>Apr 1990</th>\n",
       "      <th>May 1990</th>\n",
       "      <th>Jun 1990</th>\n",
       "      <th>Jul 1990</th>\n",
       "      <th>Aug 1990</th>\n",
       "      <th>Sep 1990</th>\n",
       "      <th>Oct 1990</th>\n",
       "      <th>Nov 1990</th>\n",
       "      <th>Dec 1990</th>\n",
       "    </tr>\n",
       "  </thead>\n",
       "  <tbody>\n",
       "    <tr>\n",
       "      <th>1</th>\n",
       "      <td>NaN</td>\n",
       "      <td>NaN</td>\n",
       "      <td>NaN</td>\n",
       "      <td>0.0</td>\n",
       "      <td>0.0</td>\n",
       "      <td>0.0</td>\n",
       "      <td>0.0</td>\n",
       "      <td>0.0</td>\n",
       "      <td>0.0</td>\n",
       "      <td>0.0</td>\n",
       "      <td>...</td>\n",
       "      <td>0.0621</td>\n",
       "      <td>-0.0855</td>\n",
       "      <td>-0.0708</td>\n",
       "      <td>0.0662</td>\n",
       "      <td>-0.1643</td>\n",
       "      <td>-0.2274</td>\n",
       "      <td>-0.0156</td>\n",
       "      <td>-0.1525</td>\n",
       "      <td>-0.1045</td>\n",
       "      <td>0.0659</td>\n",
       "    </tr>\n",
       "    <tr>\n",
       "      <th>5</th>\n",
       "      <td>NaN</td>\n",
       "      <td>NaN</td>\n",
       "      <td>NaN</td>\n",
       "      <td>0.0</td>\n",
       "      <td>0.0</td>\n",
       "      <td>0.0</td>\n",
       "      <td>0.0</td>\n",
       "      <td>0.0</td>\n",
       "      <td>0.0</td>\n",
       "      <td>0.0</td>\n",
       "      <td>...</td>\n",
       "      <td>0.0000</td>\n",
       "      <td>0.0000</td>\n",
       "      <td>0.0000</td>\n",
       "      <td>0.0000</td>\n",
       "      <td>0.0000</td>\n",
       "      <td>0.0000</td>\n",
       "      <td>0.0000</td>\n",
       "      <td>0.0000</td>\n",
       "      <td>0.0000</td>\n",
       "      <td>0.0000</td>\n",
       "    </tr>\n",
       "  </tbody>\n",
       "</table>\n",
       "<p>2 rows × 375 columns</p>\n",
       "</div>"
      ],
      "text/plain": [
       "   Unnamed: 0  Unnamed: 1  Dec 1959  Jan 1960  Feb 1960  Mar 1960  Apr 1960  \\\n",
       "1         NaN         NaN       NaN       0.0       0.0       0.0       0.0   \n",
       "5         NaN         NaN       NaN       0.0       0.0       0.0       0.0   \n",
       "\n",
       "   May 1960  Jun 1960  Jul 1960  ...  Mar 1990  Apr 1990  May 1990  Jun 1990  \\\n",
       "1       0.0       0.0       0.0  ...    0.0621   -0.0855   -0.0708    0.0662   \n",
       "5       0.0       0.0       0.0  ...    0.0000    0.0000    0.0000    0.0000   \n",
       "\n",
       "   Jul 1990  Aug 1990  Sep 1990  Oct 1990  Nov 1990  Dec 1990  \n",
       "1   -0.1643   -0.2274   -0.0156   -0.1525   -0.1045    0.0659  \n",
       "5    0.0000    0.0000    0.0000    0.0000    0.0000    0.0000  \n",
       "\n",
       "[2 rows x 375 columns]"
      ]
     },
     "metadata": {},
     "output_type": "display_data"
    }
   ],
   "source": [
    "exchange_rates_df = df[df.iloc[:, 1].str.contains('Exchange Rates', na=False)][monthly_cols]\n",
    "\n",
    "exchange_rates_df = exchange_rates_df.apply(pd.to_numeric, errors='coerce')\n",
    "\n",
    "# Calculate the month-on-month changes\n",
    "monthly_change = exchange_rates_df.diff(axis=1)\n",
    "\n",
    "display(monthly_change)\n",
    "monthly_change.to_json('../Data/monthly_nominal_exchange_rate_growth.json', orient='records', indent=4)\n"
   ]
  }
 ],
 "metadata": {
  "kernelspec": {
   "display_name": "Python 3",
   "language": "python",
   "name": "python3"
  },
  "language_info": {
   "codemirror_mode": {
    "name": "ipython",
    "version": 3
   },
   "file_extension": ".py",
   "mimetype": "text/x-python",
   "name": "python",
   "nbconvert_exporter": "python",
   "pygments_lexer": "ipython3",
   "version": "3.12.9"
  }
 },
 "nbformat": 4,
 "nbformat_minor": 2
}

{
 "cells": [
  {
   "cell_type": "code",
   "execution_count": 1,
   "metadata": {},
   "outputs": [
    {
     "name": "stdout",
     "output_type": "stream",
     "text": [
      "True\n"
     ]
    }
   ],
   "source": [
    "import os\n",
    "file_path = \"../data/IMF.xlsx\"\n",
    "print(os.path.exists(file_path))  # Should return True if the file exists\n"
   ]
  },
  {
   "cell_type": "code",
   "execution_count": 2,
   "metadata": {},
   "outputs": [
    {
     "name": "stdout",
     "output_type": "stream",
     "text": [
      "  International Financial Statistics (IFS)  \\\n",
      "0                                      NaN   \n",
      "1                                   France   \n",
      "2                                   France   \n",
      "3                                   France   \n",
      "4                                   France   \n",
      "5                            United States   \n",
      "6                            United States   \n",
      "7                            United States   \n",
      "8                            United States   \n",
      "\n",
      "                                          Unnamed: 1    Unnamed: 2 Unnamed: 3  \\\n",
      "0                                                NaN   1959.000000   Dec 1959   \n",
      "1    Economic Activity, Industrial Production, Index     32.250545  35.365725   \n",
      "2  Exchange Rates, National Currency Per U.S. Dol...      4.937060    4.93706   \n",
      "3  International Reserves and Liquidity, Reserves...   1735.740000    1735.74   \n",
      "4     Prices, Consumer Price Index, All items, Index     10.018821  10.208981   \n",
      "5    Economic Activity, Industrial Production, Index     25.619438  26.035314   \n",
      "6  Exchange Rates, National Currency Per U.S. Dol...      1.000000          1   \n",
      "7  International Reserves and Liquidity, Reserves...  21504.500000    21504.5   \n",
      "8     Prices, Consumer Price Index, All items, Index     13.368156  13.482806   \n",
      "\n",
      "     Unnamed: 4 Unnamed: 5 Unnamed: 6 Unnamed: 7 Unnamed: 8 Unnamed: 9  ...  \\\n",
      "0   1960.000000   Jan 1960   Feb 1960   Mar 1960   Apr 1960   May 1960  ...   \n",
      "1     35.172258  33.997257  34.793828  34.916378  35.712949  35.743586  ...   \n",
      "2      4.937060    4.93706    4.93706    4.93706    4.93706    4.93706  ...   \n",
      "3   2271.910000    1753.74    1796.74    1869.76    1947.79    2096.79  ...   \n",
      "4     10.433593  10.344146  10.367998  10.367998    10.3839  10.360048  ...   \n",
      "5     26.187777  26.794824   26.94496  26.883139  26.671183  26.609362  ...   \n",
      "6      1.000000          1          1          1          1          1  ...   \n",
      "7  19358.800000    21478.1    21395.7    21344.7      21278    21234.3  ...   \n",
      "8     13.563061  13.436946  13.482806  13.482806  13.528666  13.528666  ...   \n",
      "\n",
      "   Unnamed: 397  Unnamed: 398  Unnamed: 399  Unnamed: 400  Unnamed: 401  \\\n",
      "0      Mar 1990      Apr 1990      May 1990      Jun 1990      Jul 1990   \n",
      "1     97.881044     90.026998     88.456189      94.64125     87.965311   \n",
      "2        5.7549        5.6694        5.5986        5.6648        5.5005   \n",
      "3  59413.535251  62071.408686  62020.707924   58853.29252  58656.451152   \n",
      "4     70.442908     70.833553     70.939133     70.928575     70.949691   \n",
      "5     68.576734      67.15486     67.728908     69.733663     67.296164   \n",
      "6             1             1             1             1             1   \n",
      "7   76303.02854   76283.21061  77028.366838  77298.843254  77906.286647   \n",
      "8     59.021671     59.113391     59.250971      59.57199     59.801289   \n",
      "\n",
      "   Unnamed: 402  Unnamed: 403  Unnamed: 404  Unnamed: 405  Unnamed: 406  \n",
      "0      Aug 1990      Sep 1990      Oct 1990      Nov 1990      Dec 1990  \n",
      "1     65.188579     90.517876      99.74638     94.543075     89.928823  \n",
      "2        5.2731        5.2575         5.105        5.0005        5.0664  \n",
      "3   58918.10618  62161.006201  64564.495082   66533.60926  68098.910213  \n",
      "4     71.414243     71.921026     72.237766     72.121628     72.068838  \n",
      "5     69.548201     70.078092     69.133119     67.340321     66.351191  \n",
      "6             1             1             1             1             1  \n",
      "7  78908.838357  80024.166133  82852.196532  83059.402774  83316.214608  \n",
      "8     60.351608     60.856066     61.222946     61.360525     61.360525  \n",
      "\n",
      "[9 rows x 407 columns]\n"
     ]
    }
   ],
   "source": [
    "import pandas as pd\n",
    "\n",
    "# Replace 'b1/your_file.xlsx' with the correct path\n",
    "file_path = \"../data/IMF.xlsx\"\n",
    "\n",
    "# Read the first sheet of the Excel file\n",
    "df = pd.read_excel(file_path, engine=\"openpyxl\")  \n",
    "\n",
    "# Display the first few rows\n",
    "print(df)\n"
   ]
  },
  {
   "cell_type": "code",
   "execution_count": 3,
   "metadata": {},
   "outputs": [
    {
     "name": "stdout",
     "output_type": "stream",
     "text": [
      "<class 'pandas.core.frame.DataFrame'>\n",
      "RangeIndex: 9 entries, 0 to 8\n",
      "Columns: 407 entries, International Financial Statistics (IFS) to Unnamed: 406\n",
      "dtypes: float64(32), object(375)\n",
      "memory usage: 28.7+ KB\n",
      "None\n",
      "Index(['International Financial Statistics (IFS)', 'Unnamed: 1', 'Unnamed: 2',\n",
      "       'Unnamed: 3', 'Unnamed: 4', 'Unnamed: 5', 'Unnamed: 6', 'Unnamed: 7',\n",
      "       'Unnamed: 8', 'Unnamed: 9',\n",
      "       ...\n",
      "       'Unnamed: 397', 'Unnamed: 398', 'Unnamed: 399', 'Unnamed: 400',\n",
      "       'Unnamed: 401', 'Unnamed: 402', 'Unnamed: 403', 'Unnamed: 404',\n",
      "       'Unnamed: 405', 'Unnamed: 406'],\n",
      "      dtype='object', length=407)\n"
     ]
    }
   ],
   "source": [
    "print(df.info())  # Get data types and non-null counts\n",
    "print(df.columns)  # Show column names\n"
   ]
  },
  {
   "cell_type": "code",
   "execution_count": 4,
   "metadata": {},
   "outputs": [
    {
     "name": "stdout",
     "output_type": "stream",
     "text": [
      "0              NaN\n",
      "1           France\n",
      "2           France\n",
      "3           France\n",
      "4           France\n",
      "5    United States\n",
      "6    United States\n",
      "7    United States\n",
      "8    United States\n",
      "Name: International Financial Statistics (IFS), dtype: object\n"
     ]
    }
   ],
   "source": [
    "print(df.iloc[:, 0].head(10))  # Print the first 10 rows of the first column\n"
   ]
  },
  {
   "cell_type": "markdown",
   "metadata": {},
   "source": [
    "# construct variable"
   ]
  },
  {
   "cell_type": "markdown",
   "metadata": {},
   "source": [
    "## monthly growth in the nominal exchange rate"
   ]
  },
  {
   "cell_type": "code",
   "execution_count": 5,
   "metadata": {},
   "outputs": [],
   "source": [
    "import pandas as pd\n",
    "\n",
    "# Load the dataset\n",
    "file_path = \"../data/IMF.xlsx\"  # Update this with your actual file path\n",
    "df = pd.read_excel(file_path, header=None, engine=\"openpyxl\")\n",
    "\n",
    "# Find the row index where \"Exchange Rates, National Currency Per U.S. Dollar\" appears\n",
    "exchange_rate_row = df[df.iloc[:, 1].str.contains(\"Exchange Rates\", na=False)].index[0]\n",
    "\n",
    "# Extract the relevant row (France's exchange rate data)\n",
    "exchange_rate_data = df.iloc[exchange_rate_row, 1:].reset_index(drop=True)\n",
    "\n",
    "# Convert values to numeric (ignore the first value, which is text)\n",
    "exchange_rate_data = pd.to_numeric(exchange_rate_data[1:], errors=\"coerce\")\n",
    "\n",
    "# Drop NaN values\n",
    "exchange_rate_data.dropna(inplace=True)\n"
   ]
  },
  {
   "cell_type": "code",
   "execution_count": 6,
   "metadata": {},
   "outputs": [
    {
     "name": "stdout",
     "output_type": "stream",
     "text": [
      "     Month  Growth (%)\n",
      "0        1         NaN\n",
      "1        2    0.000000\n",
      "2        3    0.000000\n",
      "3        4    0.000000\n",
      "4        5    0.000000\n",
      "..     ...         ...\n",
      "400    401   -4.134170\n",
      "401    402   -0.295841\n",
      "402    403   -2.900618\n",
      "403    404   -2.047013\n",
      "404    405    1.317868\n",
      "\n",
      "[405 rows x 2 columns]\n"
     ]
    }
   ],
   "source": [
    "# Compute the monthly growth rate in percentage\n",
    "monthly_growth = exchange_rate_data.pct_change() * 100\n",
    "\n",
    "# Convert to DataFrame for better visualization\n",
    "monthly_growth_df = pd.DataFrame({\n",
    "    \"Month\": range(1, len(monthly_growth) + 1),\n",
    "    \"Growth (%)\": monthly_growth.values\n",
    "})\n",
    "\n",
    "# Display the first few rows\n",
    "print(monthly_growth_df)\n"
   ]
  },
  {
   "cell_type": "markdown",
   "metadata": {},
   "source": [
    "## real exchange rate"
   ]
  },
  {
   "cell_type": "code",
   "execution_count": 7,
   "metadata": {},
   "outputs": [
    {
     "name": "stdout",
     "output_type": "stream",
     "text": [
      "   Month  Real Exchange Rate Growth (%)\n",
      "0      1                            NaN\n",
      "1      2                      -1.021015\n",
      "2      3                      -1.570361\n",
      "3      4                      -0.073166\n",
      "4      5                       0.110462\n"
     ]
    }
   ],
   "source": [
    "import pandas as pd\n",
    "\n",
    "# Load the dataset\n",
    "file_path = \"../data/IMF.xlsx\"  # Update this with your actual file path\n",
    "df = pd.read_excel(file_path, header=None, engine=\"openpyxl\")\n",
    "\n",
    "# Find row indices dynamically\n",
    "exchange_rate_row = df[df.iloc[:, 1].str.contains(\"Exchange Rates\", na=False)].index[0]\n",
    "france_cpi_row = df[(df.iloc[:, 1].str.contains(\"Prices, Consumer Price Index\", na=False)) & (df.iloc[:, 0] == \"France\")].index[0]\n",
    "us_cpi_row = df[(df.iloc[:, 1].str.contains(\"Prices, Consumer Price Index\", na=False)) & (df.iloc[:, 0] == \"United States\")].index[0]\n",
    "\n",
    "# Extract data\n",
    "exchange_rate = pd.to_numeric(df.iloc[exchange_rate_row, 2:], errors=\"coerce\")\n",
    "france_cpi = pd.to_numeric(df.iloc[france_cpi_row, 2:], errors=\"coerce\")\n",
    "us_cpi = pd.to_numeric(df.iloc[us_cpi_row, 2:], errors=\"coerce\")\n",
    "\n",
    "# Drop NaN values (optional, depending on data quality)\n",
    "exchange_rate.dropna(inplace=True)\n",
    "france_cpi.dropna(inplace=True)\n",
    "us_cpi.dropna(inplace=True)\n",
    "\n",
    "# Compute Real Exchange Rate (RER)\n",
    "rer = exchange_rate * (us_cpi / france_cpi)\n",
    "\n",
    "# Compute Monthly Growth in RER\n",
    "monthly_growth_rer = rer.pct_change() * 100  # Convert to percentage\n",
    "\n",
    "# Convert to DataFrame for better visualization\n",
    "monthly_growth_rer_df = pd.DataFrame({\n",
    "    \"Month\": range(1, len(monthly_growth_rer) + 1),\n",
    "    \"Real Exchange Rate Growth (%)\": monthly_growth_rer.values\n",
    "})\n",
    "\n",
    "# Display the first few rows\n",
    "print(monthly_growth_rer_df.head())\n"
   ]
  },
  {
   "cell_type": "markdown",
   "metadata": {},
   "source": [
    "## An index of the real exchange rate (setting the real exchange rate for December 1990 = 1)"
   ]
  },
  {
   "cell_type": "code",
   "execution_count": 8,
   "metadata": {},
   "outputs": [
    {
     "name": "stdout",
     "output_type": "stream",
     "text": [
      "                                        0    \\\n",
      "0  International Financial Statistics (IFS)   \n",
      "1                                       NaN   \n",
      "2                                    France   \n",
      "3                                    France   \n",
      "4                                    France   \n",
      "\n",
      "                                                 1            2          3    \\\n",
      "0                                                NaN          NaN        NaN   \n",
      "1                                                NaN  1959.000000   Dec 1959   \n",
      "2    Economic Activity, Industrial Production, Index    32.250545  35.365725   \n",
      "3  Exchange Rates, National Currency Per U.S. Dol...     4.937060    4.93706   \n",
      "4  International Reserves and Liquidity, Reserves...  1735.740000    1735.74   \n",
      "\n",
      "           4          5          6          7          8          9    ...  \\\n",
      "0          NaN        NaN        NaN        NaN        NaN        NaN  ...   \n",
      "1  1960.000000   Jan 1960   Feb 1960   Mar 1960   Apr 1960   May 1960  ...   \n",
      "2    35.172258  33.997257  34.793828  34.916378  35.712949  35.743586  ...   \n",
      "3     4.937060    4.93706    4.93706    4.93706    4.93706    4.93706  ...   \n",
      "4  2271.910000    1753.74    1796.74    1869.76    1947.79    2096.79  ...   \n",
      "\n",
      "            397           398           399          400           401  \\\n",
      "0           NaN           NaN           NaN          NaN           NaN   \n",
      "1      Mar 1990      Apr 1990      May 1990     Jun 1990      Jul 1990   \n",
      "2     97.881044     90.026998     88.456189     94.64125     87.965311   \n",
      "3        5.7549        5.6694        5.5986       5.6648        5.5005   \n",
      "4  59413.535251  62071.408686  62020.707924  58853.29252  58656.451152   \n",
      "\n",
      "           402           403           404          405           406  \n",
      "0          NaN           NaN           NaN          NaN           NaN  \n",
      "1     Aug 1990      Sep 1990      Oct 1990     Nov 1990      Dec 1990  \n",
      "2    65.188579     90.517876      99.74638    94.543075     89.928823  \n",
      "3       5.2731        5.2575         5.105       5.0005        5.0664  \n",
      "4  58918.10618  62161.006201  64564.495082  66533.60926  68098.910213  \n",
      "\n",
      "[5 rows x 407 columns]\n",
      "\n",
      "Raw date row values:\n",
      " ['nan']\n"
     ]
    }
   ],
   "source": [
    "import pandas as pd\n",
    "\n",
    "# Load the dataset\n",
    "file_path = \"../data/IMF.xlsx\"\n",
    "df = pd.read_excel(file_path, header=None, engine=\"openpyxl\")\n",
    "\n",
    "# Print the first few rows to inspect structure\n",
    "print(df.head())\n",
    "\n",
    "# Extract the date row (assuming it's the first row)\n",
    "date_row = df.iloc[0, 2:].astype(str).str.strip()\n",
    "\n",
    "# Print unique values to check format\n",
    "print(\"\\nRaw date row values:\\n\", date_row.unique())\n"
   ]
  },
  {
   "cell_type": "code",
   "execution_count": 9,
   "metadata": {},
   "outputs": [
    {
     "name": "stdout",
     "output_type": "stream",
     "text": [
      "\n",
      "Parsed dates:\n",
      " <DatetimeArray>\n",
      "[]\n",
      "Length: 0, dtype: datetime64[ns]\n"
     ]
    }
   ],
   "source": [
    "# Try parsing month-year format first\n",
    "dates = pd.to_datetime(date_row, format=\"%b %Y\", errors=\"coerce\")\n",
    "\n",
    "# Handle pure year values separately (if parsing failed)\n",
    "dates.loc[dates.isna()] = pd.to_datetime(date_row.loc[dates.isna()], format=\"%Y\", errors=\"coerce\")\n",
    "\n",
    "# Print parsed dates\n",
    "print(\"\\nParsed dates:\\n\", dates.dropna().unique())\n"
   ]
  },
  {
   "cell_type": "code",
   "execution_count": 12,
   "metadata": {},
   "outputs": [
    {
     "name": "stdout",
     "output_type": "stream",
     "text": [
      "Column Headers: Index(['Unnamed: 0', 'Unnamed: 1', '1959', 'Dec 1959', '1960', 'Jan 1960',\n",
      "       'Feb 1960', 'Mar 1960', 'Apr 1960', 'May 1960',\n",
      "       ...\n",
      "       'Mar 1990', 'Apr 1990', 'May 1990', 'Jun 1990', 'Jul 1990', 'Aug 1990',\n",
      "       'Sep 1990', 'Oct 1990', 'Nov 1990', 'Dec 1990'],\n",
      "      dtype='object', length=407)\n"
     ]
    }
   ],
   "source": [
    "df = pd.read_excel(file_path, engine=\"openpyxl\", skiprows=1)  # Skip first row\n",
    "\n",
    "print(\"Column Headers:\", df.columns)\n"
   ]
  },
  {
   "cell_type": "code",
   "execution_count": 13,
   "metadata": {},
   "outputs": [],
   "source": [
    "# Identify columns that are four-digit years\n",
    "year_only_columns = df.columns[2:][df.columns[2:].astype(str).str.match(r\"^\\d{4}$\")]\n",
    "\n",
    "# Drop these columns\n",
    "df_cleaned = df.drop(columns=year_only_columns)"
   ]
  },
  {
   "cell_type": "code",
   "execution_count": null,
   "metadata": {},
   "outputs": [
    {
     "name": "stdout",
     "output_type": "stream",
     "text": [
      "Parsed Dates: DatetimeIndex(['1959-12-01', '1960-01-01', '1960-02-01', '1960-03-01',\n",
      "               '1960-04-01', '1960-05-01', '1960-06-01', '1960-07-01',\n",
      "               '1960-08-01', '1960-09-01',\n",
      "               ...\n",
      "               '1990-03-01', '1990-04-01', '1990-05-01', '1990-06-01',\n",
      "               '1990-07-01', '1990-08-01', '1990-09-01', '1990-10-01',\n",
      "               '1990-11-01', '1990-12-01'],\n",
      "              dtype='datetime64[ns]', length=373, freq=None)\n",
      "December 1990 found at index: 372\n"
     ]
    }
   ],
   "source": [
    "# Load data (skipping first row)\n",
    "df = pd.read_excel(file_path, engine=\"openpyxl\", skiprows=1)\n",
    "\n",
    "# Extract only potential date columns (excluding the first two columns)\n",
    "raw_date_headers = df.columns[2:]  # Ignore first two non-date columns\n",
    "\n",
    "# Filter out standalone years (keep only \"Month Year\" format)\n",
    "filtered_dates = [col for col in raw_date_headers if not col.isdigit()]  # Remove pure years\n",
    "\n",
    "# Convert the filtered date headers to datetime\n",
    "dates = pd.to_datetime(filtered_dates, format=\"%b %Y\", errors=\"coerce\")\n",
    "\n",
    "# Debug: Check parsed dates\n",
    "print(\"Parsed Dates:\", dates)\n",
    "\n",
    "# ✅ FIX: Remove .dt from DatetimeIndex\n",
    "dec_1990_index = (dates.year == 1990) & (dates.month == 12)\n",
    "\n",
    "if dec_1990_index.sum() == 0:\n",
    "    raise ValueError(f\"December 1990 not found! Check the parsed dates: {dates}\")\n",
    "\n",
    "print(\"December 1990 found at index:\", dec_1990_index.argmax())\n"
   ]
  },
  {
   "cell_type": "code",
   "execution_count": 15,
   "metadata": {},
   "outputs": [],
   "source": [
    "# Extract the real exchange rate (RER) series\n",
    "rer_series = rer.values  # Assuming `rer` is already computed\n",
    "\n",
    "# Get RER value for December 1990\n",
    "rer_dec_1990 = rer_series[372]\n",
    "\n",
    "# Normalize the RER series to set Dec 1990 = 1\n",
    "rer_index = rer_series / rer_dec_1990\n"
   ]
  },
  {
   "cell_type": "code",
   "execution_count": 17,
   "metadata": {},
   "outputs": [],
   "source": [
    "rer_series = rer_series[:len(dates)]\n"
   ]
  },
  {
   "cell_type": "code",
   "execution_count": 18,
   "metadata": {},
   "outputs": [
    {
     "name": "stdout",
     "output_type": "stream",
     "text": [
      "Length of dates: 373\n",
      "Length of rer_series: 373\n"
     ]
    }
   ],
   "source": [
    "print(f\"Length of dates: {len(dates)}\")\n",
    "print(f\"Length of rer_series: {len(rer_series)}\")\n"
   ]
  },
  {
   "cell_type": "code",
   "execution_count": 19,
   "metadata": {},
   "outputs": [],
   "source": [
    "rer_index_df = pd.DataFrame({\n",
    "    \"Date\": dates,  \n",
    "    \"RER Index\": rer_series\n",
    "})\n"
   ]
  },
  {
   "cell_type": "code",
   "execution_count": 20,
   "metadata": {},
   "outputs": [
    {
     "name": "stdout",
     "output_type": "stream",
     "text": [
      "        Date  RER Index\n",
      "0 1959-12-01   6.587541\n",
      "1 1960-01-01   6.520281\n",
      "2 1960-02-01   6.417889\n",
      "3 1960-03-01   6.413193\n",
      "4 1960-04-01   6.420277\n"
     ]
    }
   ],
   "source": [
    "print(rer_index_df.head())"
   ]
  },
  {
   "cell_type": "code",
   "execution_count": 21,
   "metadata": {},
   "outputs": [
    {
     "data": {
      "image/png": "[encoded data removed]",
      "text/plain": [
       "<Figure size 1200x600 with 1 Axes>"
      ]
     },
     "metadata": {},
     "output_type": "display_data"
    }
   ],
   "source": [
    "import matplotlib.pyplot as plt\n",
    "\n",
    "plt.figure(figsize=(12,6))\n",
    "plt.plot(rer_index_df[\"Date\"], rer_index_df[\"RER Index\"], marker='o', linestyle='-')\n",
    "plt.xlabel(\"Date\")\n",
    "plt.ylabel(\"RER Index\")\n",
    "plt.title(\"Real Exchange Rate Index Over Time\")\n",
    "plt.grid()\n",
    "plt.show()\n"
   ]
  },
  {
   "cell_type": "markdown",
   "metadata": {},
   "source": [
    "## monthly inflation rate"
   ]
  },
  {
   "cell_type": "code",
   "execution_count": 23,
   "metadata": {},
   "outputs": [
    {
     "name": "stdout",
     "output_type": "stream",
     "text": [
      "     Month  France Inflation (%)  US Inflation (%)\n",
      "0        1                   NaN               NaN\n",
      "1        2              1.898027          0.857633\n",
      "2        3              2.200149          0.595238\n",
      "3        4             -0.857301         -0.929839\n",
      "4        5              0.230580          0.341297\n",
      "..     ...                   ...               ...\n",
      "400    401              0.654762          0.920245\n",
      "401    402              0.709639          0.835866\n",
      "402    403              0.440399          0.602864\n",
      "403    404             -0.160772          0.224719\n",
      "404    405             -0.073196          0.000000\n",
      "\n",
      "[405 rows x 3 columns]\n"
     ]
    }
   ],
   "source": [
    "import pandas as pd\n",
    "\n",
    "# Load the dataset\n",
    "file_path = \"../data/IMF.xlsx\"  # Update this with your actual file path\n",
    "df = pd.read_excel(file_path, header=None, engine=\"openpyxl\")\n",
    "\n",
    "# Find row indices for France and US CPI dynamically\n",
    "france_cpi_row = df[(df.iloc[:, 1].str.contains(\"Prices, Consumer Price Index\", na=False)) & (df.iloc[:, 0] == \"France\")].index[0]\n",
    "us_cpi_row = df[(df.iloc[:, 1].str.contains(\"Prices, Consumer Price Index\", na=False)) & (df.iloc[:, 0] == \"United States\")].index[0]\n",
    "\n",
    "# Extract CPI data\n",
    "france_cpi = pd.to_numeric(df.iloc[france_cpi_row, 2:], errors=\"coerce\")\n",
    "us_cpi = pd.to_numeric(df.iloc[us_cpi_row, 2:], errors=\"coerce\")\n",
    "\n",
    "# Compute Monthly Inflation Rate (percentage change)\n",
    "france_inflation = france_cpi.pct_change() * 100\n",
    "us_inflation = us_cpi.pct_change() * 100\n",
    "\n",
    "# Create DataFrame for visualization\n",
    "inflation_df = pd.DataFrame({\n",
    "    \"Month\": range(1, len(france_inflation) + 1),\n",
    "    \"France Inflation (%)\": france_inflation.values,\n",
    "    \"US Inflation (%)\": us_inflation.values\n",
    "})\n",
    "\n",
    "# Display first few rows\n",
    "print(inflation_df)\n"
   ]
  },
  {
   "cell_type": "markdown",
   "metadata": {},
   "source": [
    "## The monthly growth in industrial production"
   ]
  },
  {
   "cell_type": "code",
   "execution_count": 26,
   "metadata": {},
   "outputs": [
    {
     "name": "stdout",
     "output_type": "stream",
     "text": [
      "     Month  France IP Growth (%)  US IP Growth (%)\n",
      "0        1                   NaN               NaN\n",
      "1        2              9.659310          1.623282\n",
      "2        3             -0.547048          0.585603\n",
      "3        4             -3.340705          2.318054\n",
      "4        5              2.343046          0.560316\n",
      "..     ...                   ...               ...\n",
      "400    401            -25.892857          3.346457\n",
      "401    402             38.855422          0.761905\n",
      "402    403             10.195228         -1.348456\n",
      "403    404             -5.216535         -2.593255\n",
      "404    405             -4.880582         -1.468852\n",
      "\n",
      "[405 rows x 3 columns]\n"
     ]
    }
   ],
   "source": [
    "import pandas as pd\n",
    "\n",
    "# Load the dataset\n",
    "file_path = \"../data/IMF.xlsx\"  # Update this with your actual file path\n",
    "df = pd.read_excel(file_path, header=None, engine=\"openpyxl\")\n",
    "\n",
    "# Find row indices for France and US Industrial Production dynamically\n",
    "france_ip_row = df[(df.iloc[:, 1].str.contains(\"Economic Activity, Industrial Production\", na=False)) & (df.iloc[:, 0] == \"France\")].index[0]\n",
    "us_ip_row = df[(df.iloc[:, 1].str.contains(\"Economic Activity, Industrial Production\", na=False)) & (df.iloc[:, 0] == \"United States\")].index[0]\n",
    "\n",
    "# Extract Industrial Production Index data\n",
    "france_ip = pd.to_numeric(df.iloc[france_ip_row, 2:], errors=\"coerce\")\n",
    "us_ip = pd.to_numeric(df.iloc[us_ip_row, 2:], errors=\"coerce\")\n",
    "\n",
    "# Compute Monthly Growth in Industrial Production (percentage change)\n",
    "france_ip_growth = france_ip.pct_change() * 100\n",
    "us_ip_growth = us_ip.pct_change() * 100\n",
    "\n",
    "# Create DataFrame for visualization\n",
    "industrial_production_df = pd.DataFrame({\n",
    "    \"Month\": range(1, len(france_ip_growth) + 1),\n",
    "    \"France IP Growth (%)\": france_ip_growth.values,\n",
    "    \"US IP Growth (%)\": us_ip_growth.values\n",
    "})\n",
    "\n",
    "# Display first few rows\n",
    "print(industrial_production_df)\n"
   ]
  },
  {
   "cell_type": "markdown",
   "metadata": {},
   "source": [
    "## The growth in industrial production versus 12 months ago (i.e. January 1971 versus January 1970 etc.)\n"
   ]
  },
  {
   "cell_type": "code",
   "execution_count": 28,
   "metadata": {},
   "outputs": [
    {
     "name": "stdout",
     "output_type": "stream",
     "text": [
      "     Month  France YoY IP Growth (%)  US YoY IP Growth (%)\n",
      "0        1                       NaN                   NaN\n",
      "1        2                       NaN                   NaN\n",
      "2        3                       NaN                   NaN\n",
      "3        4                       NaN                   NaN\n",
      "4        5                       NaN                   NaN\n",
      "..     ...                       ...                   ...\n",
      "400    401                -24.512254              1.731043\n",
      "401    402                 -4.405952              3.159126\n",
      "402    403                  5.442428              2.972902\n",
      "403    404                  3.471848              0.144471\n",
      "404    405                  0.000000             -2.766456\n",
      "\n",
      "[405 rows x 3 columns]\n"
     ]
    }
   ],
   "source": [
    "import pandas as pd\n",
    "\n",
    "# Load the dataset\n",
    "file_path = \"../data/IMF.xlsx\"  # Update this with your actual file path\n",
    "df = pd.read_excel(file_path, header=None, engine=\"openpyxl\")\n",
    "\n",
    "# Find row indices for France and US Industrial Production dynamically\n",
    "france_ip_row = df[(df.iloc[:, 1].str.contains(\"Economic Activity, Industrial Production\", na=False)) & (df.iloc[:, 0] == \"France\")].index[0]\n",
    "us_ip_row = df[(df.iloc[:, 1].str.contains(\"Economic Activity, Industrial Production\", na=False)) & (df.iloc[:, 0] == \"United States\")].index[0]\n",
    "\n",
    "# Extract Industrial Production Index data\n",
    "france_ip = pd.to_numeric(df.iloc[france_ip_row, 2:], errors=\"coerce\")\n",
    "us_ip = pd.to_numeric(df.iloc[us_ip_row, 2:], errors=\"coerce\")\n",
    "\n",
    "# Compute Year-over-Year (YoY) Growth in Industrial Production\n",
    "france_ip_yoy_growth = france_ip.pct_change(periods=12) * 100\n",
    "us_ip_yoy_growth = us_ip.pct_change(periods=12) * 100\n",
    "\n",
    "# Create DataFrame for visualization\n",
    "industrial_production_yoy_df = pd.DataFrame({\n",
    "    \"Month\": range(1, len(france_ip_yoy_growth) + 1),\n",
    "    \"France YoY IP Growth (%)\": france_ip_yoy_growth.values,\n",
    "    \"US YoY IP Growth (%)\": us_ip_yoy_growth.values\n",
    "})\n",
    "\n",
    "# Display first few rows\n",
    "print(industrial_production_yoy_df)\n"
   ]
  },
  {
   "cell_type": "markdown",
   "metadata": {},
   "source": [
    "## An index of the value of international reserves (value of reserves for January 1960 = 100)"
   ]
  },
  {
   "cell_type": "code",
   "execution_count": 30,
   "metadata": {},
   "outputs": [
    {
     "name": "stdout",
     "output_type": "stream",
     "text": [
      "     Month  France Reserves Index  US Reserves Index\n",
      "0        1              76.400033         111.083848\n",
      "1        2              76.400033         111.083848\n",
      "2        3             100.000000         100.000000\n",
      "3        4              77.192318         110.947476\n",
      "4        5              79.084999         110.521830\n",
      "..     ...                    ...                ...\n",
      "400    401            2593.329233         407.612240\n",
      "401    402            2736.068163         413.373588\n",
      "402    403            2841.859716         427.982088\n",
      "403    404            2928.531908         429.052435\n",
      "404    405            2997.429925         430.379025\n",
      "\n",
      "[405 rows x 3 columns]\n"
     ]
    }
   ],
   "source": [
    "import pandas as pd\n",
    "\n",
    "# Load the dataset\n",
    "file_path = \"../data/IMF.xlsx\"  # Update this with your actual file path\n",
    "df = pd.read_excel(file_path, header=None, engine=\"openpyxl\")\n",
    "\n",
    "# Find row indices for France and U.S. International Reserves\n",
    "france_reserves_row = df[(df.iloc[:, 1].str.contains(\"International Reserves\", na=False)) & (df.iloc[:, 0] == \"France\")].index[0]\n",
    "us_reserves_row = df[(df.iloc[:, 1].str.contains(\"International Reserves\", na=False)) & (df.iloc[:, 0] == \"United States\")].index[0]\n",
    "\n",
    "# Extract International Reserves data\n",
    "france_reserves = pd.to_numeric(df.iloc[france_reserves_row, 2:], errors=\"coerce\")\n",
    "us_reserves = pd.to_numeric(df.iloc[us_reserves_row, 2:], errors=\"coerce\")\n",
    "\n",
    "# Find the value of reserves in January 1960 (assumes the first column is Jan 1960)\n",
    "jan_1960_index = 2  # Assuming the first data column corresponds to Jan 1960\n",
    "france_reserves_jan_1960 = france_reserves.iloc[jan_1960_index]\n",
    "us_reserves_jan_1960 = us_reserves.iloc[jan_1960_index]\n",
    "\n",
    "# Construct the Index (Normalize to Jan 1960 = 100)\n",
    "france_reserves_index = (france_reserves / france_reserves_jan_1960) * 100\n",
    "us_reserves_index = (us_reserves / us_reserves_jan_1960) * 100\n",
    "\n",
    "# Create DataFrame for visualization\n",
    "reserves_index_df = pd.DataFrame({\n",
    "    \"Month\": range(1, len(france_reserves_index) + 1),\n",
    "    \"France Reserves Index\": france_reserves_index.values,\n",
    "    \"US Reserves Index\": us_reserves_index.values\n",
    "})\n",
    "\n",
    "# Display first few rows\n",
    "print(reserves_index_df)\n"
   ]
  },
  {
   "cell_type": "markdown",
   "metadata": {},
   "source": [
    "# US"
   ]
  },
  {
   "cell_type": "code",
   "execution_count": 32,
   "metadata": {},
   "outputs": [
    {
     "name": "stdout",
     "output_type": "stream",
     "text": [
      "     Month  US Inflation Rate (%)  US Reserves Index\n",
      "0        1                    NaN         111.083848\n",
      "1        2               0.857633         111.083848\n",
      "2        3               0.595238         100.000000\n",
      "3        4              -0.929839         110.947476\n",
      "4        5               0.341297         110.521830\n",
      "..     ...                    ...                ...\n",
      "400    401               0.920245         407.612240\n",
      "401    402               0.835866         413.373588\n",
      "402    403               0.602864         427.982088\n",
      "403    404               0.224719         429.052435\n",
      "404    405               0.000000         430.379025\n",
      "\n",
      "[405 rows x 3 columns]\n"
     ]
    }
   ],
   "source": [
    "import pandas as pd\n",
    "\n",
    "# Load the dataset\n",
    "file_path = \"../data/IMF.xlsx\"  # Update this with your actual file path\n",
    "df = pd.read_excel(file_path, header=None, engine=\"openpyxl\")\n",
    "\n",
    "# Find row indices dynamically\n",
    "us_cpi_row = df[(df.iloc[:, 1].str.contains(\"Prices, Consumer Price Index\", na=False)) & (df.iloc[:, 0] == \"United States\")].index[0]\n",
    "us_reserves_row = df[(df.iloc[:, 1].str.contains(\"International Reserves\", na=False)) & (df.iloc[:, 0] == \"United States\")].index[0]\n",
    "\n",
    "# Extract U.S. data\n",
    "us_cpi = pd.to_numeric(df.iloc[us_cpi_row, 2:], errors=\"coerce\")\n",
    "us_reserves = pd.to_numeric(df.iloc[us_reserves_row, 2:], errors=\"coerce\")\n",
    "\n",
    "# (i) Compute Monthly Inflation Rate\n",
    "us_inflation_rate = us_cpi.pct_change() * 100  # Convert to percentage\n",
    "\n",
    "# (ii) Compute International Reserves Index (Jan 1960 = 100)\n",
    "jan_1960_index = 2  # Assuming first data column corresponds to Jan 1960\n",
    "us_reserves_jan_1960 = us_reserves.iloc[jan_1960_index]\n",
    "us_reserves_index = (us_reserves / us_reserves_jan_1960) * 100\n",
    "\n",
    "# Create DataFrame for visualization\n",
    "us_data_df = pd.DataFrame({\n",
    "    \"Month\": range(1, len(us_cpi) + 1),\n",
    "    \"US Inflation Rate (%)\": us_inflation_rate.values,\n",
    "    \"US Reserves Index\": us_reserves_index.values\n",
    "})\n",
    "\n",
    "# Display first few rows\n",
    "print(us_data_df)\n"
   ]
  },
  {
   "cell_type": "markdown",
   "metadata": {},
   "source": [
    "## Identify outliers"
   ]
  },
  {
   "cell_type": "code",
   "execution_count": null,
   "metadata": {},
   "outputs": [
    {
     "name": "stdout",
     "output_type": "stream",
     "text": [
      "       Exchange Rate  France CPI      US CPI  US Inflation Rate (%)\n",
      "count     359.000000  405.000000  405.000000             351.000000\n",
      "mean        5.127330   31.939606   29.818304               0.409321\n",
      "std         0.634909   21.044375   15.477819               0.342825\n",
      "min         4.004645   10.018821   13.368156              -0.457457\n",
      "25%         4.911522   13.220356   15.363061               0.218161\n",
      "50%         4.937060   23.419448   24.580898               0.333890\n",
      "75%         5.554190   52.313266   45.034406               0.587474\n",
      "max         6.926900   72.237766   61.360525               1.413882\n"
     ]
    }
   ],
   "source": [
    "import pandas as pd\n",
    "import numpy as np\n",
    "\n",
    "# Function to detect and replace outliers\n",
    "def detect_outliers(series, method=\"IQR\"):\n",
    "    if method == \"IQR\":\n",
    "        Q1 = series.quantile(0.25)\n",
    "        Q3 = series.quantile(0.75)\n",
    "        IQR = Q3 - Q1\n",
    "        lower_bound = Q1 - 1.5 * IQR\n",
    "        upper_bound = Q3 + 1.5 * IQR\n",
    "        return series.mask((series < lower_bound) | (series > upper_bound), np.nan)\n",
    "    \n",
    "    elif method == \"Z-score\":\n",
    "        mean = series.mean()\n",
    "        std = series.std()\n",
    "        z_scores = (series - mean) / std\n",
    "        return series.mask((z_scores < -3) | (z_scores > 3), np.nan)\n",
    "\n",
    "# Apply outlier detection to each data series\n",
    "exchange_rate_clean = detect_outliers(exchange_rate)\n",
    "france_cpi_clean = detect_outliers(france_cpi)\n",
    "us_cpi_clean = detect_outliers(us_cpi)\n",
    "industrial_production_clean = detect_outliers(industrial_production)\n",
    "international_reserves_clean = detect_outliers(international_reserves)\n",
    "rer_growth_clean = detect_outliers(monthly_growth_rer)\n",
    "industrial_production_growth_clean = detect_outliers(industrial_production_growth)\n",
    "industrial_production_12m_clean = detect_outliers(industrial_production_12m)\n",
    "us_inflation_rate_clean = detect_outliers(us_inflation_rate)\n",
    "\n",
    "# Create DataFrame for cleaned data\n",
    "cleaned_data = pd.DataFrame({\n",
    "    \"Exchange Rate\": exchange_rate_clean,\n",
    "    \"France CPI\": france_cpi_clean,\n",
    "    \"US CPI\": us_cpi_clean,\n",
    "    # \"Industrial Production\": industrial_production_clean,\n",
    "    # \"International Reserves\": international_reserves_clean,\n",
    "    # \"RER Growth (%)\": rer_growth_clean,\n",
    "    # \"Industrial Production Growth (%)\": industrial_production_growth_clean,\n",
    "    # \"12-Month Industrial Production Growth (%)\": industrial_production_12m_clean,\n",
    "    \"US Inflation Rate (%)\": us_inflation_rate_clean\n",
    "})\n",
    "\n",
    "# Display summary\n",
    "print(cleaned_data.describe())\n"
   ]
  },
  {
   "cell_type": "code",
   "execution_count": null,
   "metadata": {},
   "outputs": [],
   "source": []
  }
 ],
 "metadata": {
  "kernelspec": {
   "display_name": "Python 3",
   "language": "python",
   "name": "python3"
  },
  "language_info": {
   "codemirror_mode": {
    "name": "ipython",
    "version": 3
   },
   "file_extension": ".py",
   "mimetype": "text/x-python",
   "name": "python",
   "nbconvert_exporter": "python",
   "pygments_lexer": "ipython3",
   "version": "3.13.1"
  }
 },
 "nbformat": 4,
 "nbformat_minor": 2
}

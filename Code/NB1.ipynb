{
 "cells": [
  {
   "cell_type": "code",
   "execution_count": 1,
   "metadata": {},
   "outputs": [],
   "source": [
    "import pandas as pd \n",
    "import json "
   ]
  },
  {
   "cell_type": "markdown",
   "metadata": {},
   "source": [
    "# construct variable"
   ]
  },
  {
   "cell_type": "markdown",
   "metadata": {},
   "source": [
    "## monthly growth in the nominal exchange rate"
   ]
  },
  {
   "cell_type": "code",
   "execution_count": 2,
   "metadata": {},
   "outputs": [],
   "source": [
    "# Load the dataset\n",
    "file_path = \"../data/IMF.xlsx\"  # Update this with your actual file path\n",
    "df = pd.read_excel(file_path, header=None, engine=\"openpyxl\")\n",
    "\n",
    "# Find the row index where \"Exchange Rates, National Currency Per U.S. Dollar\" appears\n",
    "exchange_rate_row = df[df.iloc[:, 1].str.contains(\"Exchange Rates\", na=False)].index[0]\n",
    "\n",
    "# Extract the relevant row (France's exchange rate data)\n",
    "exchange_rate_data = df.iloc[exchange_rate_row, 1:].reset_index(drop=True)\n",
    "\n",
    "# Convert values to numeric (ignore the first value, which is text)\n",
    "exchange_rate_data = pd.to_numeric(exchange_rate_data[1:], errors=\"coerce\")\n",
    "\n",
    "# Drop NaN values\n",
    "exchange_rate_data.dropna(inplace=True)\n"
   ]
  },
  {
   "cell_type": "code",
   "execution_count": 27,
   "metadata": {},
   "outputs": [
    {
     "data": {
      "text/html": [
       "<div>\n",
       "<style scoped>\n",
       "    .dataframe tbody tr th:only-of-type {\n",
       "        vertical-align: middle;\n",
       "    }\n",
       "\n",
       "    .dataframe tbody tr th {\n",
       "        vertical-align: top;\n",
       "    }\n",
       "\n",
       "    .dataframe thead th {\n",
       "        text-align: right;\n",
       "    }\n",
       "</style>\n",
       "<table border=\"1\" class=\"dataframe\">\n",
       "  <thead>\n",
       "    <tr style=\"text-align: right;\">\n",
       "      <th></th>\n",
       "      <th>Month</th>\n",
       "      <th>Growth (%)</th>\n",
       "    </tr>\n",
       "  </thead>\n",
       "  <tbody>\n",
       "    <tr>\n",
       "      <th>0</th>\n",
       "      <td>1</td>\n",
       "      <td>NaN</td>\n",
       "    </tr>\n",
       "    <tr>\n",
       "      <th>1</th>\n",
       "      <td>2</td>\n",
       "      <td>0.000000</td>\n",
       "    </tr>\n",
       "    <tr>\n",
       "      <th>2</th>\n",
       "      <td>3</td>\n",
       "      <td>0.000000</td>\n",
       "    </tr>\n",
       "    <tr>\n",
       "      <th>3</th>\n",
       "      <td>4</td>\n",
       "      <td>0.000000</td>\n",
       "    </tr>\n",
       "    <tr>\n",
       "      <th>4</th>\n",
       "      <td>5</td>\n",
       "      <td>0.000000</td>\n",
       "    </tr>\n",
       "    <tr>\n",
       "      <th>...</th>\n",
       "      <td>...</td>\n",
       "      <td>...</td>\n",
       "    </tr>\n",
       "    <tr>\n",
       "      <th>368</th>\n",
       "      <td>369</td>\n",
       "      <td>-4.134170</td>\n",
       "    </tr>\n",
       "    <tr>\n",
       "      <th>369</th>\n",
       "      <td>370</td>\n",
       "      <td>-0.295841</td>\n",
       "    </tr>\n",
       "    <tr>\n",
       "      <th>370</th>\n",
       "      <td>371</td>\n",
       "      <td>-2.900618</td>\n",
       "    </tr>\n",
       "    <tr>\n",
       "      <th>371</th>\n",
       "      <td>372</td>\n",
       "      <td>-2.047013</td>\n",
       "    </tr>\n",
       "    <tr>\n",
       "      <th>372</th>\n",
       "      <td>373</td>\n",
       "      <td>1.317868</td>\n",
       "    </tr>\n",
       "  </tbody>\n",
       "</table>\n",
       "<p>373 rows × 2 columns</p>\n",
       "</div>"
      ],
      "text/plain": [
       "     Month  Growth (%)\n",
       "0        1         NaN\n",
       "1        2    0.000000\n",
       "2        3    0.000000\n",
       "3        4    0.000000\n",
       "4        5    0.000000\n",
       "..     ...         ...\n",
       "368    369   -4.134170\n",
       "369    370   -0.295841\n",
       "370    371   -2.900618\n",
       "371    372   -2.047013\n",
       "372    373    1.317868\n",
       "\n",
       "[373 rows x 2 columns]"
      ]
     },
     "metadata": {},
     "output_type": "display_data"
    }
   ],
   "source": [
    "# Compute the monthly growth rate in percentage\n",
    "monthly_growth = exchange_rate_data.pct_change() * 100\n",
    "\n",
    "# Convert to DataFrame for better visualization\n",
    "monthly_growth_df = pd.DataFrame({\n",
    "    \"Month\": range(1, len(monthly_growth) + 1),\n",
    "    \"Growth (%)\": monthly_growth.values\n",
    "})\n",
    "\n",
    "# Display the first few rows\n",
    "display(monthly_growth_df)\n",
    "monthly_growth_df.to_json('../Data/monthly_nominal_exchange_rate_growth.json', orient='records', indent=4)\n"
   ]
  },
  {
   "cell_type": "markdown",
   "metadata": {},
   "source": [
    "## Real exchange rate"
   ]
  },
  {
   "cell_type": "code",
   "execution_count": 4,
   "metadata": {},
   "outputs": [
    {
     "name": "stdout",
     "output_type": "stream",
     "text": [
      "   Month  Real Exchange Rate Growth (%)\n",
      "0      1                            NaN\n",
      "1      2                      -1.642377\n",
      "2      3                       0.110462\n",
      "3      4                       0.000000\n",
      "4      5                       0.186470\n"
     ]
    }
   ],
   "source": [
    "# Load the dataset\n",
    "file_path = \"../data/IMF.xlsx\"  # Update this with your actual file path\n",
    "df = pd.read_excel(file_path, header=None, engine=\"openpyxl\")\n",
    "\n",
    "# Find row indices dynamically\n",
    "exchange_rate_row = df[df.iloc[:, 1].str.contains(\"Exchange Rates\", na=False)].index[0]\n",
    "france_cpi_row = df[(df.iloc[:, 1].str.contains(\"Prices, Consumer Price Index\", na=False)) & (df.iloc[:, 0] == \"France\")].index[0]\n",
    "us_cpi_row = df[(df.iloc[:, 1].str.contains(\"Prices, Consumer Price Index\", na=False)) & (df.iloc[:, 0] == \"United States\")].index[0]\n",
    "\n",
    "# Extract data\n",
    "exchange_rate = pd.to_numeric(df.iloc[exchange_rate_row, 2:], errors=\"coerce\")\n",
    "france_cpi = pd.to_numeric(df.iloc[france_cpi_row, 2:], errors=\"coerce\")\n",
    "us_cpi = pd.to_numeric(df.iloc[us_cpi_row, 2:], errors=\"coerce\")\n",
    "\n",
    "# Drop NaN values (optional, depending on data quality)\n",
    "exchange_rate.dropna(inplace=True)\n",
    "france_cpi.dropna(inplace=True)\n",
    "us_cpi.dropna(inplace=True)\n",
    "\n",
    "# Compute Real Exchange Rate (RER)\n",
    "rer = exchange_rate * (us_cpi / france_cpi)\n",
    "\n",
    "# Compute Monthly Growth in RER\n",
    "monthly_growth_rer = rer.pct_change() * 100  # Convert to percentage\n",
    "\n",
    "# Convert to DataFrame for better visualization\n",
    "monthly_growth_rer_df = pd.DataFrame({\n",
    "    \"Month\": range(1, len(monthly_growth_rer) + 1),\n",
    "    \"Real Exchange Rate Growth (%)\": monthly_growth_rer.values\n",
    "})\n",
    "\n",
    "# Display the first few rows\n",
    "print(monthly_growth_rer_df.head())\n"
   ]
  },
  {
   "cell_type": "markdown",
   "metadata": {},
   "source": [
    "## An index of the real exchange rate (setting the real exchange rate for December 1990 = 1)"
   ]
  },
  {
   "cell_type": "code",
   "execution_count": 5,
   "metadata": {},
   "outputs": [
    {
     "name": "stdout",
     "output_type": "stream",
     "text": [
      "                                        0    \\\n",
      "0  International Financial Statistics (IFS)   \n",
      "1                                       NaN   \n",
      "2                                    France   \n",
      "3                                    France   \n",
      "4                                    France   \n",
      "\n",
      "                                                 1          2          3    \\\n",
      "0                                                NaN        NaN        NaN   \n",
      "1                                                NaN   Dec 1959   Jan 1960   \n",
      "2    Economic Activity, Industrial Production, Index  35.365725  33.997257   \n",
      "3  Exchange Rates, National Currency Per U.S. Dol...    4.93706    4.93706   \n",
      "4  International Reserves and Liquidity, Reserves...    1735.74    1753.74   \n",
      "\n",
      "         4          5          6          7          8          9    ...  \\\n",
      "0        NaN        NaN        NaN        NaN        NaN        NaN  ...   \n",
      "1   Feb 1960   Mar 1960   Apr 1960   May 1960   Jun 1960   Jul 1960  ...   \n",
      "2  34.793828  34.916378  35.712949  35.743586  35.743586  33.016861  ...   \n",
      "3    4.93706    4.93706    4.93706    4.93706    4.93706    4.93706  ...   \n",
      "4    1796.74    1869.76    1947.79    2096.79    2057.79    2058.79  ...   \n",
      "\n",
      "            365           366           367          368           369  \\\n",
      "0           NaN           NaN           NaN          NaN           NaN   \n",
      "1      Mar 1990      Apr 1990      May 1990     Jun 1990      Jul 1990   \n",
      "2     97.881044     90.026998     88.456189     94.64125     87.965311   \n",
      "3        5.7549        5.6694        5.5986       5.6648        5.5005   \n",
      "4  59413.535251  62071.408686  62020.707924  58853.29252  58656.451152   \n",
      "\n",
      "           370           371           372          373           374  \n",
      "0          NaN           NaN           NaN          NaN           NaN  \n",
      "1     Aug 1990      Sep 1990      Oct 1990     Nov 1990      Dec 1990  \n",
      "2    65.188579     90.517876      99.74638    94.543075     89.928823  \n",
      "3       5.2731        5.2575         5.105       5.0005        5.0664  \n",
      "4  58918.10618  62161.006201  64564.495082  66533.60926  68098.910213  \n",
      "\n",
      "[5 rows x 375 columns]\n"
     ]
    },
    {
     "data": {
      "text/plain": [
       "'\\nRaw date row values:\\n'"
      ]
     },
     "metadata": {},
     "output_type": "display_data"
    },
    {
     "data": {
      "text/plain": [
       "array(['nan'], dtype=object)"
      ]
     },
     "metadata": {},
     "output_type": "display_data"
    }
   ],
   "source": [
    "import pandas as pd\n",
    "\n",
    "# Load the dataset\n",
    "file_path = \"../data/IMF.xlsx\"\n",
    "df = pd.read_excel(file_path, header=None, engine=\"openpyxl\")\n",
    "\n",
    "# Print the first few rows to inspect structure\n",
    "print(df.head())\n",
    "\n",
    "# Extract the date row (assuming it's the first row)\n",
    "date_row = df.iloc[0, 2:].astype(str).str.strip()\n",
    "\n",
    "# Print unique values to check format\n",
    "display(\"\\nRaw date row values:\\n\", date_row.unique())\n"
   ]
  },
  {
   "cell_type": "code",
   "execution_count": 6,
   "metadata": {},
   "outputs": [
    {
     "name": "stdout",
     "output_type": "stream",
     "text": [
      "\n",
      "Parsed dates:\n",
      " <DatetimeArray>\n",
      "[]\n",
      "Length: 0, dtype: datetime64[ns]\n"
     ]
    }
   ],
   "source": [
    "# Try parsing month-year format first\n",
    "dates = pd.to_datetime(date_row, format=\"%b %Y\", errors=\"coerce\")\n",
    "\n",
    "# Handle pure year values separately (if parsing failed)\n",
    "dates.loc[dates.isna()] = pd.to_datetime(date_row.loc[dates.isna()], format=\"%Y\", errors=\"coerce\")\n",
    "\n",
    "# Print parsed dates\n",
    "print(\"\\nParsed dates:\\n\", dates.dropna().unique())\n"
   ]
  },
  {
   "cell_type": "code",
   "execution_count": 7,
   "metadata": {},
   "outputs": [
    {
     "name": "stdout",
     "output_type": "stream",
     "text": [
      "Column Headers: Index(['Unnamed: 0', 'Unnamed: 1', 'Dec 1959', 'Jan 1960', 'Feb 1960',\n",
      "       'Mar 1960', 'Apr 1960', 'May 1960', 'Jun 1960', 'Jul 1960',\n",
      "       ...\n",
      "       'Mar 1990', 'Apr 1990', 'May 1990', 'Jun 1990', 'Jul 1990', 'Aug 1990',\n",
      "       'Sep 1990', 'Oct 1990', 'Nov 1990', 'Dec 1990'],\n",
      "      dtype='object', length=375)\n"
     ]
    }
   ],
   "source": [
    "df = pd.read_excel(file_path, engine=\"openpyxl\", skiprows=1)  # Skip first row\n",
    "\n",
    "print(\"Column Headers:\", df.columns)\n"
   ]
  },
  {
   "cell_type": "code",
   "execution_count": 8,
   "metadata": {},
   "outputs": [],
   "source": [
    "# Identify columns that are four-digit years\n",
    "year_only_columns = df.columns[2:][df.columns[2:].astype(str).str.match(r\"^\\d{4}$\")]\n",
    "\n",
    "# Drop these columns\n",
    "df_cleaned = df.drop(columns=year_only_columns)"
   ]
  },
  {
   "cell_type": "code",
   "execution_count": 9,
   "metadata": {},
   "outputs": [
    {
     "name": "stdout",
     "output_type": "stream",
     "text": [
      "Parsed Dates: DatetimeIndex(['1959-12-01', '1960-01-01', '1960-02-01', '1960-03-01',\n",
      "               '1960-04-01', '1960-05-01', '1960-06-01', '1960-07-01',\n",
      "               '1960-08-01', '1960-09-01',\n",
      "               ...\n",
      "               '1990-03-01', '1990-04-01', '1990-05-01', '1990-06-01',\n",
      "               '1990-07-01', '1990-08-01', '1990-09-01', '1990-10-01',\n",
      "               '1990-11-01', '1990-12-01'],\n",
      "              dtype='datetime64[ns]', length=373, freq=None)\n",
      "December 1990 found at index: 372\n"
     ]
    }
   ],
   "source": [
    "# Load data (skipping first row)\n",
    "df = pd.read_excel(file_path, engine=\"openpyxl\", skiprows=1)\n",
    "\n",
    "# Extract only potential date columns (excluding the first two columns)\n",
    "raw_date_headers = df.columns[2:]  # Ignore first two non-date columns\n",
    "\n",
    "# Filter out standalone years (keep only \"Month Year\" format)\n",
    "filtered_dates = [col for col in raw_date_headers if not col.isdigit()]  # Remove pure years\n",
    "\n",
    "# Convert the filtered date headers to datetime\n",
    "dates = pd.to_datetime(filtered_dates, format=\"%b %Y\", errors=\"coerce\")\n",
    "\n",
    "# Debug: Check parsed dates\n",
    "print(\"Parsed Dates:\", dates)\n",
    "\n",
    "# ✅ FIX: Remove .dt from DatetimeIndex\n",
    "dec_1990_index = (dates.year == 1990) & (dates.month == 12)\n",
    "\n",
    "if dec_1990_index.sum() == 0:\n",
    "    raise ValueError(f\"December 1990 not found! Check the parsed dates: {dates}\")\n",
    "\n",
    "print(\"December 1990 found at index:\", dec_1990_index.argmax())\n"
   ]
  },
  {
   "cell_type": "code",
   "execution_count": 10,
   "metadata": {},
   "outputs": [],
   "source": [
    "# Extract the real exchange rate (RER) series\n",
    "rer_series = rer.values  # Assuming `rer` is already computed\n",
    "\n",
    "# Get RER value for December 1990\n",
    "rer_dec_1990 = rer_series[372]\n",
    "\n",
    "# Normalize the RER series to set Dec 1990 = 1\n",
    "rer_index = rer_series / rer_dec_1990\n"
   ]
  },
  {
   "cell_type": "code",
   "execution_count": 11,
   "metadata": {},
   "outputs": [],
   "source": [
    "rer_series = rer_series[:len(dates)]\n"
   ]
  },
  {
   "cell_type": "code",
   "execution_count": 12,
   "metadata": {},
   "outputs": [
    {
     "name": "stdout",
     "output_type": "stream",
     "text": [
      "Length of dates: 373\n",
      "Length of rer_series: 373\n"
     ]
    }
   ],
   "source": [
    "print(f\"Length of dates: {len(dates)}\")\n",
    "print(f\"Length of rer_series: {len(rer_series)}\")\n"
   ]
  },
  {
   "cell_type": "code",
   "execution_count": 13,
   "metadata": {},
   "outputs": [],
   "source": [
    "rer_index_df = pd.DataFrame({\n",
    "    \"Date\": dates,  \n",
    "    \"RER Index\": rer_series\n",
    "})\n"
   ]
  },
  {
   "cell_type": "code",
   "execution_count": 14,
   "metadata": {},
   "outputs": [
    {
     "name": "stdout",
     "output_type": "stream",
     "text": [
      "        Date  RER Index\n",
      "0 1959-12-01   6.520281\n",
      "1 1960-01-01   6.413193\n",
      "2 1960-02-01   6.420277\n",
      "3 1960-03-01   6.420277\n",
      "4 1960-04-01   6.432249\n"
     ]
    }
   ],
   "source": [
    "print(rer_index_df.head())"
   ]
  },
  {
   "cell_type": "code",
   "execution_count": 15,
   "metadata": {},
   "outputs": [
    {
     "data": {
      "image/png": "[encoded data removed]",
      "text/plain": [
       "<Figure size 1200x600 with 1 Axes>"
      ]
     },
     "metadata": {},
     "output_type": "display_data"
    }
   ],
   "source": [
    "import matplotlib.pyplot as plt\n",
    "\n",
    "plt.figure(figsize=(12,6))\n",
    "plt.plot(rer_index_df[\"Date\"], rer_index_df[\"RER Index\"], marker='o', linestyle='-')\n",
    "plt.xlabel(\"Date\")\n",
    "plt.ylabel(\"RER Index\")\n",
    "plt.title(\"Real Exchange Rate Index Over Time\")\n",
    "plt.grid()\n",
    "plt.show()\n"
   ]
  },
  {
   "cell_type": "markdown",
   "metadata": {},
   "source": [
    "## monthly inflation rate"
   ]
  },
  {
   "cell_type": "code",
   "execution_count": 16,
   "metadata": {},
   "outputs": [
    {
     "name": "stdout",
     "output_type": "stream",
     "text": [
      "     Month  France Inflation (%)  US Inflation (%)\n",
      "0        1                   NaN               NaN\n",
      "1        2              1.323986         -0.340136\n",
      "2        3              0.230580          0.341297\n",
      "3        4              0.000000          0.000000\n",
      "4        5              0.153380          0.340136\n",
      "..     ...                   ...               ...\n",
      "368    369              0.654762          0.920245\n",
      "369    370              0.709639          0.835866\n",
      "370    371              0.440399          0.602864\n",
      "371    372             -0.160772          0.224719\n",
      "372    373             -0.073196          0.000000\n",
      "\n",
      "[373 rows x 3 columns]\n"
     ]
    }
   ],
   "source": [
    "import pandas as pd\n",
    "\n",
    "# Load the dataset\n",
    "file_path = \"../data/IMF.xlsx\"  # Update this with your actual file path\n",
    "df = pd.read_excel(file_path, header=None, engine=\"openpyxl\")\n",
    "\n",
    "# Find row indices for France and US CPI dynamically\n",
    "france_cpi_row = df[(df.iloc[:, 1].str.contains(\"Prices, Consumer Price Index\", na=False)) & (df.iloc[:, 0] == \"France\")].index[0]\n",
    "us_cpi_row = df[(df.iloc[:, 1].str.contains(\"Prices, Consumer Price Index\", na=False)) & (df.iloc[:, 0] == \"United States\")].index[0]\n",
    "\n",
    "# Extract CPI data\n",
    "france_cpi = pd.to_numeric(df.iloc[france_cpi_row, 2:], errors=\"coerce\")\n",
    "us_cpi = pd.to_numeric(df.iloc[us_cpi_row, 2:], errors=\"coerce\")\n",
    "\n",
    "# Compute Monthly Inflation Rate (percentage change)\n",
    "france_inflation = france_cpi.pct_change() * 100\n",
    "us_inflation = us_cpi.pct_change() * 100\n",
    "\n",
    "# Create DataFrame for visualization\n",
    "inflation_df = pd.DataFrame({\n",
    "    \"Month\": range(1, len(france_inflation) + 1),\n",
    "    \"France Inflation (%)\": france_inflation.values,\n",
    "    \"US Inflation (%)\": us_inflation.values\n",
    "})\n",
    "\n",
    "# Display first few rows\n",
    "print(inflation_df)\n"
   ]
  },
  {
   "cell_type": "markdown",
   "metadata": {},
   "source": [
    "## The monthly growth in industrial production"
   ]
  },
  {
   "cell_type": "code",
   "execution_count": 17,
   "metadata": {},
   "outputs": [
    {
     "name": "stdout",
     "output_type": "stream",
     "text": [
      "     Month  France IP Growth (%)  US IP Growth (%)\n",
      "0        1                   NaN               NaN\n",
      "1        2             -3.869477          2.917232\n",
      "2        3              2.343046          0.560316\n",
      "3        4              0.352216         -0.229433\n",
      "4        5              2.281369         -0.788436\n",
      "..     ...                   ...               ...\n",
      "368    369            -25.892857          3.346457\n",
      "369    370             38.855422          0.761905\n",
      "370    371             10.195228         -1.348456\n",
      "371    372             -5.216535         -2.593255\n",
      "372    373             -4.880582         -1.468852\n",
      "\n",
      "[373 rows x 3 columns]\n"
     ]
    }
   ],
   "source": [
    "import pandas as pd\n",
    "\n",
    "# Load the dataset\n",
    "file_path = \"../data/IMF.xlsx\"  # Update this with your actual file path\n",
    "df = pd.read_excel(file_path, header=None, engine=\"openpyxl\")\n",
    "\n",
    "# Find row indices for France and US Industrial Production dynamically\n",
    "france_ip_row = df[(df.iloc[:, 1].str.contains(\"Economic Activity, Industrial Production\", na=False)) & (df.iloc[:, 0] == \"France\")].index[0]\n",
    "us_ip_row = df[(df.iloc[:, 1].str.contains(\"Economic Activity, Industrial Production\", na=False)) & (df.iloc[:, 0] == \"United States\")].index[0]\n",
    "\n",
    "# Extract Industrial Production Index data\n",
    "france_ip = pd.to_numeric(df.iloc[france_ip_row, 2:], errors=\"coerce\")\n",
    "us_ip = pd.to_numeric(df.iloc[us_ip_row, 2:], errors=\"coerce\")\n",
    "\n",
    "# Compute Monthly Growth in Industrial Production (percentage change)\n",
    "france_ip_growth = france_ip.pct_change() * 100\n",
    "us_ip_growth = us_ip.pct_change() * 100\n",
    "\n",
    "# Create DataFrame for visualization\n",
    "industrial_production_df = pd.DataFrame({\n",
    "    \"Month\": range(1, len(france_ip_growth) + 1),\n",
    "    \"France IP Growth (%)\": france_ip_growth.values,\n",
    "    \"US IP Growth (%)\": us_ip_growth.values\n",
    "})\n",
    "\n",
    "# Display first few rows\n",
    "print(industrial_production_df)\n"
   ]
  },
  {
   "cell_type": "markdown",
   "metadata": {},
   "source": [
    "## The growth in industrial production versus 12 months ago (i.e. January 1971 versus January 1970 etc.)\n"
   ]
  },
  {
   "cell_type": "code",
   "execution_count": 18,
   "metadata": {},
   "outputs": [
    {
     "name": "stdout",
     "output_type": "stream",
     "text": [
      "     Month  France YoY IP Growth (%)  US YoY IP Growth (%)\n",
      "0        1                       NaN                   NaN\n",
      "1        2                       NaN                   NaN\n",
      "2        3                       NaN                   NaN\n",
      "3        4                       NaN                   NaN\n",
      "4        5                       NaN                   NaN\n",
      "..     ...                       ...                   ...\n",
      "368    369                  4.097257              1.915362\n",
      "369    370                  4.818828              2.506136\n",
      "370    371                  5.340079              1.768071\n",
      "371    372                 -0.058014              0.302552\n",
      "372    373                 -1.578180             -1.326504\n",
      "\n",
      "[373 rows x 3 columns]\n"
     ]
    }
   ],
   "source": [
    "import pandas as pd\n",
    "\n",
    "# Load the dataset\n",
    "file_path = \"../data/IMF.xlsx\"  # Update this with your actual file path\n",
    "df = pd.read_excel(file_path, header=None, engine=\"openpyxl\")\n",
    "\n",
    "# Find row indices for France and US Industrial Production dynamically\n",
    "france_ip_row = df[(df.iloc[:, 1].str.contains(\"Economic Activity, Industrial Production\", na=False)) & (df.iloc[:, 0] == \"France\")].index[0]\n",
    "us_ip_row = df[(df.iloc[:, 1].str.contains(\"Economic Activity, Industrial Production\", na=False)) & (df.iloc[:, 0] == \"United States\")].index[0]\n",
    "\n",
    "# Extract Industrial Production Index data\n",
    "france_ip = pd.to_numeric(df.iloc[france_ip_row, 2:], errors=\"coerce\")\n",
    "us_ip = pd.to_numeric(df.iloc[us_ip_row, 2:], errors=\"coerce\")\n",
    "\n",
    "# Compute Year-over-Year (YoY) Growth in Industrial Production\n",
    "france_ip_yoy_growth = france_ip.pct_change(periods=12) * 100\n",
    "us_ip_yoy_growth = us_ip.pct_change(periods=12) * 100\n",
    "\n",
    "# Create DataFrame for visualization\n",
    "industrial_production_yoy_df = pd.DataFrame({\n",
    "    \"Month\": range(1, len(france_ip_yoy_growth) + 1),\n",
    "    \"France YoY IP Growth (%)\": france_ip_yoy_growth.values,\n",
    "    \"US YoY IP Growth (%)\": us_ip_yoy_growth.values\n",
    "})\n",
    "\n",
    "# Display first few rows\n",
    "print(industrial_production_yoy_df)\n"
   ]
  },
  {
   "cell_type": "markdown",
   "metadata": {},
   "source": [
    "## An index of the value of international reserves (value of reserves for January 1960 = 100)"
   ]
  },
  {
   "cell_type": "code",
   "execution_count": 19,
   "metadata": {},
   "outputs": [
    {
     "name": "stdout",
     "output_type": "stream",
     "text": [
      "     Month  France Reserves Index  US Reserves Index\n",
      "0        1              96.604962         100.508513\n",
      "1        2              97.606777         100.385124\n",
      "2        3             100.000000         100.000000\n",
      "3        4             104.064027          99.761634\n",
      "4        5             108.406892          99.449889\n",
      "..     ...                    ...                ...\n",
      "368    369            3279.167057         368.806996\n",
      "369    370            3459.655053         374.019855\n",
      "370    371            3593.424484         387.237606\n",
      "371    372            3703.018203         388.206054\n",
      "372    373            3790.137149         389.406351\n",
      "\n",
      "[373 rows x 3 columns]\n"
     ]
    }
   ],
   "source": [
    "import pandas as pd\n",
    "\n",
    "# Load the dataset\n",
    "file_path = \"../data/IMF.xlsx\"  # Update this with your actual file path\n",
    "df = pd.read_excel(file_path, header=None, engine=\"openpyxl\")\n",
    "\n",
    "# Find row indices for France and U.S. International Reserves\n",
    "france_reserves_row = df[(df.iloc[:, 1].str.contains(\"International Reserves\", na=False)) & (df.iloc[:, 0] == \"France\")].index[0]\n",
    "us_reserves_row = df[(df.iloc[:, 1].str.contains(\"International Reserves\", na=False)) & (df.iloc[:, 0] == \"United States\")].index[0]\n",
    "\n",
    "# Extract International Reserves data\n",
    "france_reserves = pd.to_numeric(df.iloc[france_reserves_row, 2:], errors=\"coerce\")\n",
    "us_reserves = pd.to_numeric(df.iloc[us_reserves_row, 2:], errors=\"coerce\")\n",
    "\n",
    "# Find the value of reserves in January 1960 (assumes the first column is Jan 1960)\n",
    "jan_1960_index = 2  # Assuming the first data column corresponds to Jan 1960\n",
    "france_reserves_jan_1960 = france_reserves.iloc[jan_1960_index]\n",
    "us_reserves_jan_1960 = us_reserves.iloc[jan_1960_index]\n",
    "\n",
    "# Construct the Index (Normalize to Jan 1960 = 100)\n",
    "france_reserves_index = (france_reserves / france_reserves_jan_1960) * 100\n",
    "us_reserves_index = (us_reserves / us_reserves_jan_1960) * 100\n",
    "\n",
    "# Create DataFrame for visualization\n",
    "reserves_index_df = pd.DataFrame({\n",
    "    \"Month\": range(1, len(france_reserves_index) + 1),\n",
    "    \"France Reserves Index\": france_reserves_index.values,\n",
    "    \"US Reserves Index\": us_reserves_index.values\n",
    "})\n",
    "\n",
    "# Display first few rows\n",
    "print(reserves_index_df)\n"
   ]
  },
  {
   "cell_type": "markdown",
   "metadata": {},
   "source": [
    "# US"
   ]
  },
  {
   "cell_type": "code",
   "execution_count": 20,
   "metadata": {},
   "outputs": [
    {
     "name": "stdout",
     "output_type": "stream",
     "text": [
      "     Month  US Inflation Rate (%)  US Reserves Index\n",
      "0        1                    NaN         100.508513\n",
      "1        2              -0.340136         100.385124\n",
      "2        3               0.341297         100.000000\n",
      "3        4               0.000000          99.761634\n",
      "4        5               0.340136          99.449889\n",
      "..     ...                    ...                ...\n",
      "368    369               0.920245         368.806996\n",
      "369    370               0.835866         374.019855\n",
      "370    371               0.602864         387.237606\n",
      "371    372               0.224719         388.206054\n",
      "372    373               0.000000         389.406351\n",
      "\n",
      "[373 rows x 3 columns]\n"
     ]
    }
   ],
   "source": [
    "import pandas as pd\n",
    "\n",
    "# Load the dataset\n",
    "file_path = \"../data/IMF.xlsx\"  # Update this with your actual file path\n",
    "df = pd.read_excel(file_path, header=None, engine=\"openpyxl\")\n",
    "\n",
    "# Find row indices dynamically\n",
    "us_cpi_row = df[(df.iloc[:, 1].str.contains(\"Prices, Consumer Price Index\", na=False)) & (df.iloc[:, 0] == \"United States\")].index[0]\n",
    "us_reserves_row = df[(df.iloc[:, 1].str.contains(\"International Reserves\", na=False)) & (df.iloc[:, 0] == \"United States\")].index[0]\n",
    "\n",
    "# Extract U.S. data\n",
    "us_cpi = pd.to_numeric(df.iloc[us_cpi_row, 2:], errors=\"coerce\")\n",
    "us_reserves = pd.to_numeric(df.iloc[us_reserves_row, 2:], errors=\"coerce\")\n",
    "\n",
    "# (i) Compute Monthly Inflation Rate\n",
    "us_inflation_rate = us_cpi.pct_change() * 100  # Convert to percentage\n",
    "\n",
    "# (ii) Compute International Reserves Index (Jan 1960 = 100)\n",
    "jan_1960_index = 2  # Assuming first data column corresponds to Jan 1960\n",
    "us_reserves_jan_1960 = us_reserves.iloc[jan_1960_index]\n",
    "us_reserves_index = (us_reserves / us_reserves_jan_1960) * 100\n",
    "\n",
    "# Create DataFrame for visualization\n",
    "us_data_df = pd.DataFrame({\n",
    "    \"Month\": range(1, len(us_cpi) + 1),\n",
    "    \"US Inflation Rate (%)\": us_inflation_rate.values,\n",
    "    \"US Reserves Index\": us_reserves_index.values\n",
    "})\n",
    "\n",
    "# Display first few rows\n",
    "print(us_data_df)\n"
   ]
  },
  {
   "cell_type": "markdown",
   "metadata": {},
   "source": [
    "## Identify outliers"
   ]
  },
  {
   "cell_type": "code",
   "execution_count": 21,
   "metadata": {},
   "outputs": [
    {
     "ename": "NameError",
     "evalue": "name 'industrial_production' is not defined",
     "output_type": "error",
     "traceback": [
      "\u001b[1;31m---------------------------------------------------------------------------\u001b[0m",
      "\u001b[1;31mNameError\u001b[0m                                 Traceback (most recent call last)",
      "Cell \u001b[1;32mIn[21], line 24\u001b[0m\n\u001b[0;32m     22\u001b[0m france_cpi_clean \u001b[38;5;241m=\u001b[39m detect_outliers(france_cpi)\n\u001b[0;32m     23\u001b[0m us_cpi_clean \u001b[38;5;241m=\u001b[39m detect_outliers(us_cpi)\n\u001b[1;32m---> 24\u001b[0m industrial_production_clean \u001b[38;5;241m=\u001b[39m detect_outliers(\u001b[43mindustrial_production\u001b[49m)\n\u001b[0;32m     25\u001b[0m international_reserves_clean \u001b[38;5;241m=\u001b[39m detect_outliers(international_reserves)\n\u001b[0;32m     26\u001b[0m rer_growth_clean \u001b[38;5;241m=\u001b[39m detect_outliers(monthly_growth_rer)\n",
      "\u001b[1;31mNameError\u001b[0m: name 'industrial_production' is not defined"
     ]
    }
   ],
   "source": [
    "import pandas as pd\n",
    "import numpy as np\n",
    "\n",
    "# Function to detect and replace outliers\n",
    "def detect_outliers(series, method=\"IQR\"):\n",
    "    if method == \"IQR\":\n",
    "        Q1 = series.quantile(0.25)\n",
    "        Q3 = series.quantile(0.75)\n",
    "        IQR = Q3 - Q1\n",
    "        lower_bound = Q1 - 1.5 * IQR\n",
    "        upper_bound = Q3 + 1.5 * IQR\n",
    "        return series.mask((series < lower_bound) | (series > upper_bound), np.nan)\n",
    "    \n",
    "    elif method == \"Z-score\":\n",
    "        mean = series.mean()\n",
    "        std = series.std()\n",
    "        z_scores = (series - mean) / std\n",
    "        return series.mask((z_scores < -3) | (z_scores > 3), np.nan)\n",
    "\n",
    "# Apply outlier detection to each data series\n",
    "exchange_rate_clean = detect_outliers(exchange_rate)\n",
    "france_cpi_clean = detect_outliers(france_cpi)\n",
    "us_cpi_clean = detect_outliers(us_cpi)\n",
    "industrial_production_clean = detect_outliers(industrial_production)\n",
    "international_reserves_clean = detect_outliers(international_reserves)\n",
    "rer_growth_clean = detect_outliers(monthly_growth_rer)\n",
    "industrial_production_growth_clean = detect_outliers(industrial_production_growth)\n",
    "industrial_production_12m_clean = detect_outliers(industrial_production_12m)\n",
    "us_inflation_rate_clean = detect_outliers(us_inflation_rate)\n",
    "\n",
    "# Create DataFrame for cleaned data\n",
    "cleaned_data = pd.DataFrame({\n",
    "    \"Exchange Rate\": exchange_rate_clean,\n",
    "    \"France CPI\": france_cpi_clean,\n",
    "    \"US CPI\": us_cpi_clean,\n",
    "    # \"Industrial Production\": industrial_production_clean,\n",
    "    # \"International Reserves\": international_reserves_clean,\n",
    "    # \"RER Growth (%)\": rer_growth_clean,\n",
    "    # \"Industrial Production Growth (%)\": industrial_production_growth_clean,\n",
    "    # \"12-Month Industrial Production Growth (%)\": industrial_production_12m_clean,\n",
    "    \"US Inflation Rate (%)\": us_inflation_rate_clean\n",
    "})\n",
    "\n",
    "# Display summary\n",
    "print(cleaned_data.describe())\n"
   ]
  },
  {
   "cell_type": "markdown",
   "metadata": {},
   "source": [
    "## Question 5 \n",
    "### Zhu Zhu - changes to question 4 to be made above, dont put anything of Q4 here"
   ]
  },
  {
   "cell_type": "markdown",
   "metadata": {},
   "source": [
    " For the graphs in 5.2, you should clearly indicate the time at which your country left the Bretton\n",
    " Woods system if it is sensible to do so and show the relevant data for every month from January 1960\n",
    " to December 1990\n",
    "\n",
    " 5.2.1 Exchange Rate and International Reserve Graphs\n",
    "\n",
    " Plot the following time series graphs for your country versus the US dollar, presenting all the graphs\n",
    " together:\n",
    "\n",
    " • The monthly growth in the nominal exchange rate - used Ming's numbers\n",
    "\n",
    " • The level of the nominal exchange rate - im j taking raw nominal data idk what else it would be?\n",
    "\n",
    " • The monthly growth in the real exchange rate.\n",
    "\n",
    " • The real exchange rate index"
   ]
  },
  {
   "cell_type": "code",
   "execution_count": 29,
   "metadata": {},
   "outputs": [
    {
     "data": {
      "text/html": [
       "\n",
       "            <div id=\"yCwmlv\"></div>\n",
       "            <script type=\"text/javascript\" data-lets-plot-script=\"library\">\n",
       "                if(!window.letsPlotCallQueue) {\n",
       "                    window.letsPlotCallQueue = [];\n",
       "                }; \n",
       "                window.letsPlotCall = function(f) {\n",
       "                    window.letsPlotCallQueue.push(f);\n",
       "                };\n",
       "                (function() {\n",
       "                    var script = document.createElement(\"script\");\n",
       "                    script.type = \"text/javascript\";\n",
       "                    script.src = \"https://cdn.jsdelivr.net/gh/JetBrains/lets-plot@v4.5.1/js-package/distr/lets-plot.min.js\";\n",
       "                    script.onload = function() {\n",
       "                        window.letsPlotCall = function(f) {f();};\n",
       "                        window.letsPlotCallQueue.forEach(function(f) {f();});\n",
       "                        window.letsPlotCallQueue = [];\n",
       "                        \n",
       "                    };\n",
       "                    script.onerror = function(event) {\n",
       "                        window.letsPlotCall = function(f) {};    // noop\n",
       "                        window.letsPlotCallQueue = [];\n",
       "                        var div = document.createElement(\"div\");\n",
       "                        div.style.color = 'darkred';\n",
       "                        div.textContent = 'Error loading Lets-Plot JS';\n",
       "                        document.getElementById(\"yCwmlv\").appendChild(div);\n",
       "                    };\n",
       "                    var e = document.getElementById(\"yCwmlv\");\n",
       "                    e.appendChild(script);\n",
       "                })()\n",
       "            </script>\n",
       "            "
      ]
     },
     "metadata": {},
     "output_type": "display_data"
    }
   ],
   "source": [
    "import pandas as pd\n",
    "import sqlite3\n",
    "import json\n",
    "import numpy as np\n",
    "from lets_plot import *\n",
    "LetsPlot.setup_html()"
   ]
  },
  {
   "cell_type": "code",
   "execution_count": 37,
   "metadata": {},
   "outputs": [
    {
     "data": {
      "text/html": [
       "<div>\n",
       "<style scoped>\n",
       "    .dataframe tbody tr th:only-of-type {\n",
       "        vertical-align: middle;\n",
       "    }\n",
       "\n",
       "    .dataframe tbody tr th {\n",
       "        vertical-align: top;\n",
       "    }\n",
       "\n",
       "    .dataframe thead th {\n",
       "        text-align: right;\n",
       "    }\n",
       "</style>\n",
       "<table border=\"1\" class=\"dataframe\">\n",
       "  <thead>\n",
       "    <tr style=\"text-align: right;\">\n",
       "      <th></th>\n",
       "      <th>Month</th>\n",
       "      <th>Growth (%)</th>\n",
       "    </tr>\n",
       "  </thead>\n",
       "  <tbody>\n",
       "    <tr>\n",
       "      <th>0</th>\n",
       "      <td>1</td>\n",
       "      <td>NaN</td>\n",
       "    </tr>\n",
       "    <tr>\n",
       "      <th>1</th>\n",
       "      <td>2</td>\n",
       "      <td>0.0</td>\n",
       "    </tr>\n",
       "    <tr>\n",
       "      <th>2</th>\n",
       "      <td>3</td>\n",
       "      <td>0.0</td>\n",
       "    </tr>\n",
       "    <tr>\n",
       "      <th>3</th>\n",
       "      <td>4</td>\n",
       "      <td>0.0</td>\n",
       "    </tr>\n",
       "    <tr>\n",
       "      <th>4</th>\n",
       "      <td>5</td>\n",
       "      <td>0.0</td>\n",
       "    </tr>\n",
       "  </tbody>\n",
       "</table>\n",
       "</div>"
      ],
      "text/plain": [
       "   Month  Growth (%)\n",
       "0      1         NaN\n",
       "1      2         0.0\n",
       "2      3         0.0\n",
       "3      4         0.0\n",
       "4      5         0.0"
      ]
     },
     "metadata": {},
     "output_type": "display_data"
    }
   ],
   "source": [
    "df_graph_1 = pd.read_json('../Data/monthly_nominal_exchange_rate_growth.json')\n",
    "\n",
    "# Display the first few rows\n",
    "display(df_graph_1.head())"
   ]
  },
  {
   "cell_type": "code",
   "execution_count": 41,
   "metadata": {},
   "outputs": [
    {
     "name": "stderr",
     "output_type": "stream",
     "text": [
      "C:\\Users\\eleph\\AppData\\Local\\Temp\\ipykernel_33556\\610503480.py:3: FutureWarning: A value is trying to be set on a copy of a DataFrame or Series through chained assignment using an inplace method.\n",
      "The behavior will change in pandas 3.0. This inplace method will never work because the intermediate object on which we are setting values always behaves as a copy.\n",
      "\n",
      "For example, when doing 'df[col].method(value, inplace=True)', try using 'df.method({col: value}, inplace=True)' or df[col] = df[col].method(value) instead, to perform the operation inplace on the original object.\n",
      "\n",
      "\n",
      "  df_graph_1['Growth (%)'].fillna(0, inplace=True)\n"
     ]
    },
    {
     "data": {
      "text/html": [
       "   <div id=\"PlEOYN\"></div>\n",
       "   <script type=\"text/javascript\" data-lets-plot-script=\"plot\">\n",
       "   \n",
       "   (function() {\n",
       "   // ----------\n",
       "   \n",
       "   var containerDiv = document.getElementById(\"PlEOYN\");\n",
       "   var observer = new ResizeObserver(function(entries) {\n",
       "       for (let entry of entries) {\n",
       "           var width = containerDiv.clientWidth\n",
       "           if (entry.contentBoxSize && width > 0) {\n",
       "           \n",
       "               // Render plot\n",
       "               if (observer) {\n",
       "                   observer.disconnect();\n",
       "                   observer = null;\n",
       "               }\n",
       "\n",
       "               var plotSpec={\n",
       "\"data\":{\n",
       "\"Month\":[2.0,3.0,4.0,5.0,6.0,7.0,8.0,9.0,10.0,11.0,12.0,13.0,14.0,15.0,16.0,17.0,18.0,19.0,20.0,21.0,22.0,23.0,24.0,25.0,26.0,27.0,28.0,29.0,30.0,31.0,32.0,33.0,34.0,35.0,36.0,37.0,38.0,39.0,40.0,41.0,42.0,43.0,44.0,45.0,46.0,47.0,48.0,49.0,50.0,51.0,52.0,53.0,54.0,55.0,56.0,57.0,58.0,59.0,60.0,61.0,62.0,63.0,64.0,65.0,66.0,67.0,68.0,69.0,70.0,71.0,72.0,73.0,74.0,75.0,76.0,77.0,78.0,79.0,80.0,81.0,82.0,83.0,84.0,85.0,86.0,87.0,88.0,89.0,90.0,91.0,92.0,93.0,94.0,95.0,96.0,97.0,98.0,99.0,100.0,101.0,102.0,103.0,104.0,105.0,106.0,107.0,108.0,109.0,110.0,111.0,112.0,113.0,114.0,115.0,116.0,117.0,118.0,119.0,120.0,121.0,122.0,123.0,124.0,125.0,126.0,127.0,128.0,129.0,130.0,131.0,132.0,133.0,134.0,135.0,136.0,137.0,138.0,139.0,140.0,141.0,142.0,143.0,144.0,145.0,146.0,147.0,148.0,149.0,150.0,151.0,152.0,153.0,154.0,155.0,156.0,157.0,158.0,159.0,160.0,161.0,162.0,163.0,164.0,165.0,166.0,167.0,168.0,169.0,170.0,171.0,172.0,173.0,174.0,175.0,176.0,177.0,178.0,179.0,180.0,181.0,182.0,183.0,184.0,185.0,186.0,187.0,188.0,189.0,190.0,191.0,192.0,193.0,194.0,195.0,196.0,197.0,198.0,199.0,200.0,201.0,202.0,203.0,204.0,205.0,206.0,207.0,208.0,209.0,210.0,211.0,212.0,213.0,214.0,215.0,216.0,217.0,218.0,219.0,220.0,221.0,222.0,223.0,224.0,225.0,226.0,227.0,228.0,229.0,230.0,231.0,232.0,233.0,234.0,235.0,236.0,237.0,238.0,239.0,240.0,241.0,242.0,243.0,244.0,245.0,246.0,247.0,248.0,249.0,250.0,251.0,252.0,253.0,254.0,255.0,256.0,257.0,258.0,259.0,260.0,261.0,262.0,263.0,264.0,265.0,266.0,267.0,268.0,269.0,270.0,271.0,272.0,273.0,274.0,275.0,276.0,277.0,278.0,279.0,280.0,281.0,282.0,283.0,284.0,285.0,286.0,287.0,288.0,289.0,290.0,291.0,292.0,293.0,294.0,295.0,296.0,297.0,298.0,299.0,300.0,301.0,302.0,303.0,304.0,305.0,306.0,307.0,308.0,309.0,310.0,311.0,312.0,313.0,314.0,315.0,316.0,317.0,318.0,319.0,320.0,321.0,322.0,323.0,324.0,325.0,326.0,327.0,328.0,329.0,330.0,331.0,332.0,333.0,334.0,335.0,336.0,337.0,338.0,339.0,340.0,341.0,342.0,343.0,344.0,345.0,346.0,347.0,348.0,349.0,350.0,351.0,352.0,353.0,354.0,355.0,356.0,357.0,358.0,359.0,360.0,361.0,362.0,363.0,364.0,365.0,366.0,367.0,368.0,369.0,370.0,371.0,372.0,373.0],\n",
       "\"Growth (%)\":[0.0,0.0,0.0,0.0,0.0,0.0,0.0,0.0,0.0,0.0,0.0,0.0,0.0,0.0,0.0,0.0,0.0,0.0,0.0,0.0,0.0,0.0,0.0,0.0,0.0,0.0,0.0,0.0,0.0,0.0,0.0,0.0,0.0,0.0,0.0,0.0,0.0,0.0,0.0,0.0,0.0,0.0,0.0,0.0,0.0,0.0,0.0,0.0,0.0,0.0,0.0,0.0,0.0,0.0,0.0,0.0,0.0,0.0,0.0,0.0,0.0,0.0,0.0,0.0,0.0,0.0,0.0,0.0,0.0,0.0,0.0,0.0,0.0,0.0,0.0,0.0,0.0,0.0,0.0,0.0,0.0,0.0,0.0,0.0,0.0,0.0,0.0,0.0,0.0,0.0,0.0,0.0,0.0,0.0,0.0,0.0,0.0,0.0,0.0,0.0,0.0,0.0,0.0,0.0,0.0,0.0,0.0,0.0,0.0,0.0,0.0,0.0,0.0,0.0,0.0,12.4999493651,0.0,0.0,0.0,0.0,0.0,0.0,0.0,0.0,0.0,0.0,0.0,0.0,0.0,0.0,0.0,0.0,0.0,0.0,0.0,0.0,0.0,0.0,0.0,0.0,0.0,0.0,0.0,-2.9358699984000003,-4.0353872422,-1.6335877863000001,-0.9326947316,-0.08563368930000001,-0.4612916165,0.0351105984,-0.2651325663,0.0200140098,0.0450518096,0.35667637900000004,0.33771863500000004,0.9258788167,-0.07117075390000001,-6.270548435,-5.4256230006,1.0565144133,-1.7098607941,-4.8185071577,-4.7982153723,4.7944914311,0.2599505711,-1.0624841893,4.5444527705,4.2744863724,9.3041949264,-1.3969386239000001,-2.6757304022,0.9785307434,0.0048685492,0.6468051745,-2.7449485323,0.3442999235,0.3888435457,-1.4197151058,-1.1831275721,-3.2792075627,-3.4246276156,-2.1248396752,-1.7392034953,-0.008401243400000001,-3.4435205842,-1.2654679429,5.5454583882,3.5495448181,2.1504895606,-1.4409094916,0.0440839358,1.141430355,0.3984063745,-0.053688873000000005,3.2045066214,1.1489421373,1.4306693828000001,2.2178102756,2.5830808208000002,-0.9983279237,1.3053009168,0.1496856601,-0.0648217402,-0.2635766909,0.1244833989,0.0398505604,-0.28808423980000003,-0.2823179792,-0.24703557310000002,-1.7809482216,0.9404849376000001,0.4971940534,-1.2637309226,-0.0268192254,-0.111129404,-1.2423256008,-1.5979972883,2.5864444874,-2.5914980683,-2.7325766421,1.4461142717,-1.4835519243,-3.1209079004999998,-1.7706690921,0.0344005137,-3.1660514920000002,3.3405938026,-1.0240784669,-1.8286190458,0.8252381639,0.2642532856,1.471720117,1.303268515,-0.9620402516000001,-2.7560768638,0.29920369410000003,-1.343574566,-0.08333137310000001,-0.8554543919,-2.276059341,-0.6837186426,1.4214253879,5.3227854296,0.6676557865,-3.7145357414999998,-1.6335414129,-1.4005057385000002,2.3426711389,0.20721892930000002,2.0150043527,4.8649412860000005,2.6612721966,1.6136095155999999,7.0457434444,0.038243996700000005,2.728370242,7.509401422,3.1371834584,2.4411785491,3.1399799985,-5.6373819286,-0.34548126430000003,-0.1795619578,1.79706841,1.9158093642,3.3012308807,2.0723235953,1.6492730502000001,-3.6822884812,9.4055042654,4.0446261653,1.0328405307,2.1443340711,1.1763540105,0.9430134458,-4.9537749324,-1.2818456246,1.6604130354,1.8759626845000001,4.3589268146,1.5512881981,3.1399730686,1.5176229564,3.3523574481000002,0.24874384360000001,-1.3820654064,2.8104164048999998,2.5622828059,2.509007624,-3.1307829285,-3.8603405101,1.3971856459,4.1448925261,-0.3562172333,3.7981899689,1.4005217632,4.7066125146,1.4893685702,-2.5824811679,3.5175112436,2.1207143461,3.8409189441000002,0.4051356807,-6.9257775807,0.6322254442,-1.3863811545,-4.9435723922,-3.9830136184000002,1.579052334,-6.827814799,-2.1431670282,-2.4852430775,-2.6031383144999998,-4.4798612963,-2.7813071584999998,3.3534877709,-1.1352898672,0.203803393,-2.83762554,-2.8973999913,-0.6868662841000001,-1.9595808383,1.1558840146,-1.2377732158,-5.3264657333,-1.7742117753,0.3319965814,-1.1974576549,-1.0262787035,1.7656124363,1.2576131687,0.8225769743,-2.413737504,-0.5353336748,-5.2044053888,-2.9737496933000003,0.6935288699000001,2.8984987355,-0.7443044153,-0.2458642127,0.9453892469,3.2787457054,4.9528023101,2.8317672802000002,-0.6399424208000001,-2.0912397839,-3.9774829111,0.4405212556,4.2324689402,0.9103563029,0.2790461695,0.0,4.6135846193,1.5763383006,-4.4220268119,1.2173669381,1.3995908888,-3.9421195529,-1.7843044370999999,-4.4115755627,-3.125,-1.1632348345,1.090851602,-1.4856904551,-1.2488093978,1.1824384668,-2.9003671798,-4.1341696209,-0.2958411561,-2.9006181645,-2.0470127326,1.3178682132000001]\n",
       "},\n",
       "\"mapping\":{\n",
       "\"x\":\"Month\",\n",
       "\"y\":\"Growth (%)\"\n",
       "},\n",
       "\"data_meta\":{\n",
       "\"series_annotations\":[{\n",
       "\"type\":\"int\",\n",
       "\"column\":\"Month\"\n",
       "},{\n",
       "\"type\":\"float\",\n",
       "\"column\":\"Growth (%)\"\n",
       "}]\n",
       "},\n",
       "\"ggtitle\":{\n",
       "\"text\":\"Monthly Nominal Growth Over Time\"\n",
       "},\n",
       "\"guides\":{\n",
       "\"x\":{\n",
       "\"title\":\"Month\"\n",
       "},\n",
       "\"y\":{\n",
       "\"title\":\"Growth (%)\"\n",
       "}\n",
       "},\n",
       "\"ggsize\":{\n",
       "\"width\":800.0,\n",
       "\"height\":400.0\n",
       "},\n",
       "\"kind\":\"plot\",\n",
       "\"scales\":[],\n",
       "\"layers\":[{\n",
       "\"geom\":\"line\",\n",
       "\"mapping\":{\n",
       "},\n",
       "\"data_meta\":{\n",
       "},\n",
       "\"color\":\"blue\",\n",
       "\"size\":1.0,\n",
       "\"data\":{\n",
       "}\n",
       "}],\n",
       "\"metainfo_list\":[],\n",
       "\"spec_id\":\"9\"\n",
       "};\n",
       "               window.letsPlotCall(function() {\n",
       "       \n",
       "               var toolbar = null;\n",
       "               var plotContainer = containerDiv;               \n",
       "               \n",
       "                   var options = {\n",
       "                       sizing: {\n",
       "                           width_mode: \"min\",\n",
       "                           height_mode: \"scaled\",\n",
       "                           width: width\n",
       "                       }\n",
       "                   };\n",
       "                   var fig = LetsPlot.buildPlotFromProcessedSpecs(plotSpec, -1, -1, plotContainer, options);\n",
       "                   if (toolbar) {\n",
       "                     toolbar.bind(fig);\n",
       "                   }\n",
       "               });\n",
       "               \n",
       "               break;\n",
       "           }\n",
       "       }\n",
       "   });\n",
       "   \n",
       "   observer.observe(containerDiv);\n",
       "   \n",
       "   // ----------\n",
       "   })();\n",
       "   \n",
       "   </script>"
      ],
      "text/plain": [
       "<lets_plot.plot.core.PlotSpec at 0x1b7edc99b80>"
      ]
     },
     "metadata": {},
     "output_type": "display_data"
    }
   ],
   "source": [
    "df_graph_1['Growth (%)'] = pd.to_numeric(df_graph_1['Growth (%)'], errors='coerce')\n",
    "df_graph_1 = df_graph_1.dropna(subset=['Growth (%)'])\n",
    "df_graph_1['Growth (%)'].fillna(0, inplace=True)\n",
    "\n",
    "a =   ggplot(df_graph_1, aes(x='Month', y='Growth (%)')) + \\\n",
    "        geom_line(color='blue', size=1) + \\\n",
    "        labs(title='Monthly Nominal Growth Over Time', x='Month', y='Growth (%)') + \\\n",
    "        ggsize(800, 400)\n",
    "\n",
    "display(a)"
   ]
  },
  {
   "cell_type": "code",
   "execution_count": 51,
   "metadata": {},
   "outputs": [
    {
     "data": {
      "text/html": [
       "<div>\n",
       "<style scoped>\n",
       "    .dataframe tbody tr th:only-of-type {\n",
       "        vertical-align: middle;\n",
       "    }\n",
       "\n",
       "    .dataframe tbody tr th {\n",
       "        vertical-align: top;\n",
       "    }\n",
       "\n",
       "    .dataframe thead th {\n",
       "        text-align: right;\n",
       "    }\n",
       "</style>\n",
       "<table border=\"1\" class=\"dataframe\">\n",
       "  <thead>\n",
       "    <tr style=\"text-align: right;\">\n",
       "      <th></th>\n",
       "      <th>Date</th>\n",
       "      <th>Exchange Rate</th>\n",
       "    </tr>\n",
       "  </thead>\n",
       "  <tbody>\n",
       "    <tr>\n",
       "      <th>0</th>\n",
       "      <td>Dec 1959</td>\n",
       "      <td>4.93706</td>\n",
       "    </tr>\n",
       "    <tr>\n",
       "      <th>1</th>\n",
       "      <td>Jan 1960</td>\n",
       "      <td>4.93706</td>\n",
       "    </tr>\n",
       "    <tr>\n",
       "      <th>2</th>\n",
       "      <td>Feb 1960</td>\n",
       "      <td>4.93706</td>\n",
       "    </tr>\n",
       "    <tr>\n",
       "      <th>3</th>\n",
       "      <td>Mar 1960</td>\n",
       "      <td>4.93706</td>\n",
       "    </tr>\n",
       "    <tr>\n",
       "      <th>4</th>\n",
       "      <td>Apr 1960</td>\n",
       "      <td>4.93706</td>\n",
       "    </tr>\n",
       "    <tr>\n",
       "      <th>...</th>\n",
       "      <td>...</td>\n",
       "      <td>...</td>\n",
       "    </tr>\n",
       "    <tr>\n",
       "      <th>368</th>\n",
       "      <td>Aug 1990</td>\n",
       "      <td>5.27310</td>\n",
       "    </tr>\n",
       "    <tr>\n",
       "      <th>369</th>\n",
       "      <td>Sep 1990</td>\n",
       "      <td>5.25750</td>\n",
       "    </tr>\n",
       "    <tr>\n",
       "      <th>370</th>\n",
       "      <td>Oct 1990</td>\n",
       "      <td>5.10500</td>\n",
       "    </tr>\n",
       "    <tr>\n",
       "      <th>371</th>\n",
       "      <td>Nov 1990</td>\n",
       "      <td>5.00050</td>\n",
       "    </tr>\n",
       "    <tr>\n",
       "      <th>372</th>\n",
       "      <td>Dec 1990</td>\n",
       "      <td>5.06640</td>\n",
       "    </tr>\n",
       "  </tbody>\n",
       "</table>\n",
       "<p>373 rows × 2 columns</p>\n",
       "</div>"
      ],
      "text/plain": [
       "         Date  Exchange Rate\n",
       "0    Dec 1959        4.93706\n",
       "1    Jan 1960        4.93706\n",
       "2    Feb 1960        4.93706\n",
       "3    Mar 1960        4.93706\n",
       "4    Apr 1960        4.93706\n",
       "..        ...            ...\n",
       "368  Aug 1990        5.27310\n",
       "369  Sep 1990        5.25750\n",
       "370  Oct 1990        5.10500\n",
       "371  Nov 1990        5.00050\n",
       "372  Dec 1990        5.06640\n",
       "\n",
       "[373 rows x 2 columns]"
      ]
     },
     "metadata": {},
     "output_type": "display_data"
    }
   ],
   "source": [
    "nominal_rate_df = pd.read_excel(file_path, header=1, engine=\"openpyxl\")\n",
    "nominal_rate_df.columns = nominal_rate_df.columns.astype(str)\n",
    "\n",
    "# Select only relevant columns (not four-digit years) and filter for France Exchange Rates\n",
    "monthly_cols = [x for x in nominal_rate_df.columns if not (x.strip().isdigit() and len(x.strip()) == 4)]\n",
    "filtered_df = nominal_rate_df.loc[(nominal_rate_df.iloc[:, 0] == 'France') & \n",
    "                      (nominal_rate_df.iloc[:, 1].str.contains('Exchange Rates', na=False)), monthly_cols]\n",
    "\n",
    "# Melt and reshape the data\n",
    "df_graph_2 = pd.melt(filtered_df, id_vars=['Unnamed: 0', 'Unnamed: 1'], \n",
    "                    var_name='Date', value_name='Exchange Rate')[['Date', 'Exchange Rate']]\n",
    "\n",
    "# Display the result\n",
    "display(df_graph_2)"
   ]
  },
  {
   "cell_type": "code",
   "execution_count": 54,
   "metadata": {},
   "outputs": [
    {
     "name": "stderr",
     "output_type": "stream",
     "text": [
      "C:\\Users\\eleph\\AppData\\Local\\Temp\\ipykernel_33556\\2198901466.py:3: FutureWarning: A value is trying to be set on a copy of a DataFrame or Series through chained assignment using an inplace method.\n",
      "The behavior will change in pandas 3.0. This inplace method will never work because the intermediate object on which we are setting values always behaves as a copy.\n",
      "\n",
      "For example, when doing 'df[col].method(value, inplace=True)', try using 'df.method({col: value}, inplace=True)' or df[col] = df[col].method(value) instead, to perform the operation inplace on the original object.\n",
      "\n",
      "\n",
      "  df_graph_2['Exchange Rate'].fillna(0, inplace=True)\n"
     ]
    },
    {
     "data": {
      "text/html": [
       "   <div id=\"z12HZL\"></div>\n",
       "   <script type=\"text/javascript\" data-lets-plot-script=\"plot\">\n",
       "   \n",
       "   (function() {\n",
       "   // ----------\n",
       "   \n",
       "   var containerDiv = document.getElementById(\"z12HZL\");\n",
       "   var observer = new ResizeObserver(function(entries) {\n",
       "       for (let entry of entries) {\n",
       "           var width = containerDiv.clientWidth\n",
       "           if (entry.contentBoxSize && width > 0) {\n",
       "           \n",
       "               // Render plot\n",
       "               if (observer) {\n",
       "                   observer.disconnect();\n",
       "                   observer = null;\n",
       "               }\n",
       "\n",
       "               var plotSpec={\n",
       "\"data\":{\n",
       "\"Date\":[\"Dec 1959\",\"Jan 1960\",\"Feb 1960\",\"Mar 1960\",\"Apr 1960\",\"May 1960\",\"Jun 1960\",\"Jul 1960\",\"Aug 1960\",\"Sep 1960\",\"Oct 1960\",\"Nov 1960\",\"Dec 1960\",\"Jan 1961\",\"Feb 1961\",\"Mar 1961\",\"Apr 1961\",\"May 1961\",\"Jun 1961\",\"Jul 1961\",\"Aug 1961\",\"Sep 1961\",\"Oct 1961\",\"Nov 1961\",\"Dec 1961\",\"Jan 1962\",\"Feb 1962\",\"Mar 1962\",\"Apr 1962\",\"May 1962\",\"Jun 1962\",\"Jul 1962\",\"Aug 1962\",\"Sep 1962\",\"Oct 1962\",\"Nov 1962\",\"Dec 1962\",\"Jan 1963\",\"Feb 1963\",\"Mar 1963\",\"Apr 1963\",\"May 1963\",\"Jun 1963\",\"Jul 1963\",\"Aug 1963\",\"Sep 1963\",\"Oct 1963\",\"Nov 1963\",\"Dec 1963\",\"Jan 1964\",\"Feb 1964\",\"Mar 1964\",\"Apr 1964\",\"May 1964\",\"Jun 1964\",\"Jul 1964\",\"Aug 1964\",\"Sep 1964\",\"Oct 1964\",\"Nov 1964\",\"Dec 1964\",\"Jan 1965\",\"Feb 1965\",\"Mar 1965\",\"Apr 1965\",\"May 1965\",\"Jun 1965\",\"Jul 1965\",\"Aug 1965\",\"Sep 1965\",\"Oct 1965\",\"Nov 1965\",\"Dec 1965\",\"Jan 1966\",\"Feb 1966\",\"Mar 1966\",\"Apr 1966\",\"May 1966\",\"Jun 1966\",\"Jul 1966\",\"Aug 1966\",\"Sep 1966\",\"Oct 1966\",\"Nov 1966\",\"Dec 1966\",\"Jan 1967\",\"Feb 1967\",\"Mar 1967\",\"Apr 1967\",\"May 1967\",\"Jun 1967\",\"Jul 1967\",\"Aug 1967\",\"Sep 1967\",\"Oct 1967\",\"Nov 1967\",\"Dec 1967\",\"Jan 1968\",\"Feb 1968\",\"Mar 1968\",\"Apr 1968\",\"May 1968\",\"Jun 1968\",\"Jul 1968\",\"Aug 1968\",\"Sep 1968\",\"Oct 1968\",\"Nov 1968\",\"Dec 1968\",\"Jan 1969\",\"Feb 1969\",\"Mar 1969\",\"Apr 1969\",\"May 1969\",\"Jun 1969\",\"Jul 1969\",\"Aug 1969\",\"Sep 1969\",\"Oct 1969\",\"Nov 1969\",\"Dec 1969\",\"Jan 1970\",\"Feb 1970\",\"Mar 1970\",\"Apr 1970\",\"May 1970\",\"Jun 1970\",\"Jul 1970\",\"Aug 1970\",\"Sep 1970\",\"Oct 1970\",\"Nov 1970\",\"Dec 1970\",\"Jan 1971\",\"Feb 1971\",\"Mar 1971\",\"Apr 1971\",\"May 1971\",\"Jun 1971\",\"Jul 1971\",\"Aug 1971\",\"Sep 1971\",\"Oct 1971\",\"Nov 1971\",\"Dec 1971\",\"Jan 1972\",\"Feb 1972\",\"Mar 1972\",\"Apr 1972\",\"May 1972\",\"Jun 1972\",\"Jul 1972\",\"Aug 1972\",\"Sep 1972\",\"Oct 1972\",\"Nov 1972\",\"Dec 1972\",\"Jan 1973\",\"Feb 1973\",\"Mar 1973\",\"Apr 1973\",\"May 1973\",\"Jun 1973\",\"Jul 1973\",\"Aug 1973\",\"Sep 1973\",\"Oct 1973\",\"Nov 1973\",\"Dec 1973\",\"Jan 1974\",\"Feb 1974\",\"Mar 1974\",\"Apr 1974\",\"May 1974\",\"Jun 1974\",\"Jul 1974\",\"Aug 1974\",\"Sep 1974\",\"Oct 1974\",\"Nov 1974\",\"Dec 1974\",\"Jan 1975\",\"Feb 1975\",\"Mar 1975\",\"Apr 1975\",\"May 1975\",\"Jun 1975\",\"Jul 1975\",\"Aug 1975\",\"Sep 1975\",\"Oct 1975\",\"Nov 1975\",\"Dec 1975\",\"Jan 1976\",\"Feb 1976\",\"Mar 1976\",\"Apr 1976\",\"May 1976\",\"Jun 1976\",\"Jul 1976\",\"Aug 1976\",\"Sep 1976\",\"Oct 1976\",\"Nov 1976\",\"Dec 1976\",\"Jan 1977\",\"Feb 1977\",\"Mar 1977\",\"Apr 1977\",\"May 1977\",\"Jun 1977\",\"Jul 1977\",\"Aug 1977\",\"Sep 1977\",\"Oct 1977\",\"Nov 1977\",\"Dec 1977\",\"Jan 1978\",\"Feb 1978\",\"Mar 1978\",\"Apr 1978\",\"May 1978\",\"Jun 1978\",\"Jul 1978\",\"Aug 1978\",\"Sep 1978\",\"Oct 1978\",\"Nov 1978\",\"Dec 1978\",\"Jan 1979\",\"Feb 1979\",\"Mar 1979\",\"Apr 1979\",\"May 1979\",\"Jun 1979\",\"Jul 1979\",\"Aug 1979\",\"Sep 1979\",\"Oct 1979\",\"Nov 1979\",\"Dec 1979\",\"Jan 1980\",\"Feb 1980\",\"Mar 1980\",\"Apr 1980\",\"May 1980\",\"Jun 1980\",\"Jul 1980\",\"Aug 1980\",\"Sep 1980\",\"Oct 1980\",\"Nov 1980\",\"Dec 1980\",\"Jan 1981\",\"Feb 1981\",\"Mar 1981\",\"Apr 1981\",\"May 1981\",\"Jun 1981\",\"Jul 1981\",\"Aug 1981\",\"Sep 1981\",\"Oct 1981\",\"Nov 1981\",\"Dec 1981\",\"Jan 1982\",\"Feb 1982\",\"Mar 1982\",\"Apr 1982\",\"May 1982\",\"Jun 1982\",\"Jul 1982\",\"Aug 1982\",\"Sep 1982\",\"Oct 1982\",\"Nov 1982\",\"Dec 1982\",\"Jan 1983\",\"Feb 1983\",\"Mar 1983\",\"Apr 1983\",\"May 1983\",\"Jun 1983\",\"Jul 1983\",\"Aug 1983\",\"Sep 1983\",\"Oct 1983\",\"Nov 1983\",\"Dec 1983\",\"Jan 1984\",\"Feb 1984\",\"Mar 1984\",\"Apr 1984\",\"May 1984\",\"Jun 1984\",\"Jul 1984\",\"Aug 1984\",\"Sep 1984\",\"Oct 1984\",\"Nov 1984\",\"Dec 1984\",\"Jan 1985\",\"Feb 1985\",\"Mar 1985\",\"Apr 1985\",\"May 1985\",\"Jun 1985\",\"Jul 1985\",\"Aug 1985\",\"Sep 1985\",\"Oct 1985\",\"Nov 1985\",\"Dec 1985\",\"Jan 1986\",\"Feb 1986\",\"Mar 1986\",\"Apr 1986\",\"May 1986\",\"Jun 1986\",\"Jul 1986\",\"Aug 1986\",\"Sep 1986\",\"Oct 1986\",\"Nov 1986\",\"Dec 1986\",\"Jan 1987\",\"Feb 1987\",\"Mar 1987\",\"Apr 1987\",\"May 1987\",\"Jun 1987\",\"Jul 1987\",\"Aug 1987\",\"Sep 1987\",\"Oct 1987\",\"Nov 1987\",\"Dec 1987\",\"Jan 1988\",\"Feb 1988\",\"Mar 1988\",\"Apr 1988\",\"May 1988\",\"Jun 1988\",\"Jul 1988\",\"Aug 1988\",\"Sep 1988\",\"Oct 1988\",\"Nov 1988\",\"Dec 1988\",\"Jan 1989\",\"Feb 1989\",\"Mar 1989\",\"Apr 1989\",\"May 1989\",\"Jun 1989\",\"Jul 1989\",\"Aug 1989\",\"Sep 1989\",\"Oct 1989\",\"Nov 1989\",\"Dec 1989\",\"Jan 1990\",\"Feb 1990\",\"Mar 1990\",\"Apr 1990\",\"May 1990\",\"Jun 1990\",\"Jul 1990\",\"Aug 1990\",\"Sep 1990\",\"Oct 1990\",\"Nov 1990\",\"Dec 1990\"],\n",
       "\"Exchange Rate\":[4.93706000393706,4.93706000393706,4.93706000393706,4.93706000393706,4.93706000393706,4.93706000393706,4.93706000393706,4.93706000393706,4.93706000393706,4.93706000393706,4.93706000393706,4.93706000393706,4.93706000393706,4.93706000393706,4.93706000393706,4.93706000393706,4.93706000393706,4.93706000393706,4.93706000393706,4.93706000393706,4.93706000393706,4.93706000393706,4.93706000393706,4.93706000393706,4.93706000393706,4.93706000393706,4.93706000393706,4.93706000393706,4.93706000393706,4.93706000393706,4.93706000393706,4.93706000393706,4.93706000393706,4.93706000393706,4.93706000393706,4.93706000393706,4.93706000393706,4.93706000393706,4.93706000393706,4.93706000393706,4.93706000393706,4.93706000393706,4.93706000393706,4.93706000393706,4.93706000393706,4.93706000393706,4.93706000393706,4.93706000393706,4.93706000393706,4.93706000393706,4.93706000393706,4.93706000393706,4.93706000393706,4.93706000393706,4.93706000393706,4.93706000393706,4.93706000393706,4.93706000393706,4.93706000393706,4.93706000393706,4.93706000393706,4.93706000393706,4.93706000393706,4.93706000393706,4.93706000393706,4.93706000393706,4.93706000393706,4.93706000393706,4.93706000393706,4.93706000393706,4.93706000393706,4.93706000393706,4.93706000393706,4.93706000393706,4.93706000393706,4.93706000393706,4.93706000393706,4.93706000393706,4.93706000393706,4.93706000393706,4.93706000393706,4.93706000393706,4.93706000393706,4.93706000393706,4.93706000393706,4.93706000393706,4.93706000393706,4.93706000393706,4.93706000393706,4.93706000393706,4.93706000393706,4.93706000393706,4.93706000393706,4.93706000393706,4.93706000393706,4.93706000393706,4.93706000393706,4.93706000393706,4.93706000393706,4.93706000393706,4.93706000393706,4.93706000393706,4.93706000393706,4.93706000393706,4.93706000393706,4.93706000393706,4.93706000393706,4.93706000393706,4.93706000393706,4.93706000393706,4.93706000393706,4.93706000393706,4.93706000393706,4.93706000393706,4.93706000393706,4.93706000393706,5.55419000455419,5.55419000455419,5.55419000455419,5.55419000455419,5.55419000455419,5.55419000455419,5.55419000455419,5.55419000455419,5.55419000455419,5.55419000455419,5.55419000455419,5.55419000455419,5.55419000455419,5.55419000455419,5.55419000455419,5.55419000455419,5.55419000455419,5.55419000455419,5.55419000455419,5.55419000455419,5.55419000455419,5.55419000455419,5.55419000455419,5.55419000455419,5.55419000455419,5.55419000455419,5.55419000455419,5.55419000455419,5.39112620655513,5.17357338740616,5.08905852443201,5.0415931436875,5.03727584147881,5.0140393103196,5.01579976952479,5.00250125087556,5.00350245196655,5.00575662036371,5.02361097181873,5.04057664222192,5.08724627359211,5.08362564206617,4.76485443392409,4.5063313958139,4.55394143652051,4.4760753773097,4.26039536487135,4.05597241955206,4.25043566965614,4.26148470145153,4.21620710027052,4.40781064064917,4.59622190580486,5.02386335116925,4.953683063603,4.82113585984096,4.86831215641246,4.86854917258367,4.90003920055371,4.76553564643374,4.78194338201903,4.80053766021794,4.73238370189449,4.67639356550114,4.52304491404057,4.36814746884935,4.27533133836149,4.20097462628974,4.20062169218687,4.05597241955206,4.00464538881121,4.22672133244122,4.37675070047167,4.47087226737921,4.40645104452307,4.40839358157329,4.45871232407966,4.4764761182003,4.47407274862306,4.61744470609965,4.6704964739933,4.73731583707126,4.8423805144953,4.96746311683312,4.91787154543709,4.98206456780501,4.98952200404099,4.98628770904943,4.97314501690869,4.97933575685801,4.98132005006134,4.96696965206214,4.95294700371238,4.9407114626947,4.8527199497672,4.89835904995828,4.9227133998682,4.86050354840384,4.859199999,4.853799999,4.793499999,4.716899999,4.838899999,4.713499999,4.584699999,4.651,4.582,4.439,4.360399999,4.361899999,4.223799999,4.3649,4.320199999,4.241199999,4.2762,4.287499999,4.350599999,4.407299999,4.364899999,4.2446,4.2573,4.2001,4.196599999,4.1607,4.065999999,4.038199999,4.095599999,4.313599999,4.342399999,4.181099999,4.112799999,4.055199999,4.150199999,4.158799999,4.2426,4.448999999,4.567399999,4.6411,4.968099999,4.969999999,5.1056,5.488999999,5.661199999,5.799399999,5.981499999,5.644299999,5.6248,5.614699999,5.715599999,5.825099999,6.017399999,6.142099999,6.243399999,6.0135,6.579099999,6.845199999,6.915899999,7.064199999,7.147299999,7.214699999,6.857299999,6.769399999,6.881799999,7.010899999,7.316499999,7.43,7.663299999,7.779599999,8.040399999,8.060399999,7.948999999,8.172399999,8.381799999,8.5921,8.3231,8.001799999,8.1136,8.4499,8.4198,8.739599999,8.861999999,9.2791,9.417299999,9.1741,9.496799999,9.698199999,10.0707,10.111499999,9.411199999,9.4707,9.3394,8.8777,8.5241,8.6587,8.0675,7.8946,7.6984,7.498,7.1621,6.9629,7.1964,7.1147,7.1292,6.9269,6.7262,6.68,6.5491,6.6248,6.5428,6.1943,6.0844,6.1046,6.0315,5.9696,6.075,6.1514,6.202,6.0523,6.0199,5.7066,5.5369,5.5753,5.7369,5.6942,5.6802,5.7339,5.9219,6.2152,6.3912,6.3503,6.2175,5.9702,5.9965,6.2503,6.3072,6.3248,6.3248,6.6166,6.7209,6.4237,6.5019,6.5929,6.333,6.22,5.9456,5.7598,5.6928,5.7549,5.6694,5.5986,5.6648,5.5005,5.2731,5.2575,5.105,5.0005,5.0664]\n",
       "},\n",
       "\"mapping\":{\n",
       "\"x\":\"Date\",\n",
       "\"y\":\"Exchange Rate\"\n",
       "},\n",
       "\"data_meta\":{\n",
       "\"series_annotations\":[{\n",
       "\"type\":\"str\",\n",
       "\"column\":\"Date\"\n",
       "},{\n",
       "\"type\":\"float\",\n",
       "\"column\":\"Exchange Rate\"\n",
       "}]\n",
       "},\n",
       "\"ggtitle\":{\n",
       "\"text\":\"Monthly Nominal Exchange Rate Over Time\"\n",
       "},\n",
       "\"guides\":{\n",
       "\"x\":{\n",
       "\"title\":\"Date\"\n",
       "},\n",
       "\"y\":{\n",
       "\"title\":\"Nominal Exchange Rate\"\n",
       "}\n",
       "},\n",
       "\"ggsize\":{\n",
       "\"width\":800.0,\n",
       "\"height\":400.0\n",
       "},\n",
       "\"kind\":\"plot\",\n",
       "\"scales\":[],\n",
       "\"layers\":[{\n",
       "\"geom\":\"line\",\n",
       "\"mapping\":{\n",
       "},\n",
       "\"data_meta\":{\n",
       "},\n",
       "\"color\":\"red\",\n",
       "\"size\":1.0,\n",
       "\"data\":{\n",
       "}\n",
       "}],\n",
       "\"metainfo_list\":[],\n",
       "\"spec_id\":\"12\"\n",
       "};\n",
       "               window.letsPlotCall(function() {\n",
       "       \n",
       "               var toolbar = null;\n",
       "               var plotContainer = containerDiv;               \n",
       "               \n",
       "                   var options = {\n",
       "                       sizing: {\n",
       "                           width_mode: \"min\",\n",
       "                           height_mode: \"scaled\",\n",
       "                           width: width\n",
       "                       }\n",
       "                   };\n",
       "                   var fig = LetsPlot.buildPlotFromProcessedSpecs(plotSpec, -1, -1, plotContainer, options);\n",
       "                   if (toolbar) {\n",
       "                     toolbar.bind(fig);\n",
       "                   }\n",
       "               });\n",
       "               \n",
       "               break;\n",
       "           }\n",
       "       }\n",
       "   });\n",
       "   \n",
       "   observer.observe(containerDiv);\n",
       "   \n",
       "   // ----------\n",
       "   })();\n",
       "   \n",
       "   </script>"
      ],
      "text/plain": [
       "<lets_plot.plot.core.PlotSpec at 0x1b7ede241a0>"
      ]
     },
     "metadata": {},
     "output_type": "display_data"
    }
   ],
   "source": [
    "df_graph_2['Exchange Rate'] = pd.to_numeric(df_graph_2['Exchange Rate'], errors='coerce')\n",
    "df_graph_2 = df_graph_2.dropna(subset=['Exchange Rate'])\n",
    "df_graph_2['Exchange Rate'].fillna(0, inplace=True)\n",
    "\n",
    "b =   ggplot(df_graph_2, aes(x='Date', y='Exchange Rate')) + \\\n",
    "        geom_line(color='red', size=1) + \\\n",
    "        labs(title='Monthly Nominal Exchange Rate Over Time', x='Date', y='Nominal Exchange Rate') + \\\n",
    "        ggsize(800, 400)\n",
    "\n",
    "display(b)"
   ]
  }
 ],
 "metadata": {
  "kernelspec": {
   "display_name": "Python 3",
   "language": "python",
   "name": "python3"
  },
  "language_info": {
   "codemirror_mode": {
    "name": "ipython",
    "version": 3
   },
   "file_extension": ".py",
   "mimetype": "text/x-python",
   "name": "python",
   "nbconvert_exporter": "python",
   "pygments_lexer": "ipython3",
   "version": "3.12.9"
  }
 },
 "nbformat": 4,
 "nbformat_minor": 2
}

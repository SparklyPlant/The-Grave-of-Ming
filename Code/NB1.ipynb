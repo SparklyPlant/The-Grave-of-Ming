{
 "cells": [
  {
   "cell_type": "code",
   "execution_count": 7,
   "metadata": {},
   "outputs": [
    {
     "name": "stdout",
     "output_type": "stream",
     "text": [
      "  International Financial Statistics (IFS)  \\\n",
      "0                                      NaN   \n",
      "1                                   France   \n",
      "2                                   France   \n",
      "3                                   France   \n",
      "4                                   France   \n",
      "\n",
      "                                          Unnamed: 1   Unnamed: 2 Unnamed: 3  \\\n",
      "0                                                NaN  1959.000000   Dec 1959   \n",
      "1    Economic Activity, Industrial Production, Index    32.250545  35.365725   \n",
      "2  Exchange Rates, National Currency Per U.S. Dol...     4.937060    4.93706   \n",
      "3  International Reserves and Liquidity, Reserves...  1735.740000    1735.74   \n",
      "4     Prices, Consumer Price Index, All items, Index    10.018821  10.208981   \n",
      "\n",
      "    Unnamed: 4 Unnamed: 5 Unnamed: 6 Unnamed: 7 Unnamed: 8 Unnamed: 9  ...  \\\n",
      "0  1960.000000   Jan 1960   Feb 1960   Mar 1960   Apr 1960   May 1960  ...   \n",
      "1    35.172258  33.997257  34.793828  34.916378  35.712949  35.743586  ...   \n",
      "2     4.937060    4.93706    4.93706    4.93706    4.93706    4.93706  ...   \n",
      "3  2271.910000    1753.74    1796.74    1869.76    1947.79    2096.79  ...   \n",
      "4    10.433593  10.344146  10.367998  10.367998    10.3839  10.360048  ...   \n",
      "\n",
      "   Unnamed: 397  Unnamed: 398  Unnamed: 399 Unnamed: 400  Unnamed: 401  \\\n",
      "0      Mar 1990      Apr 1990      May 1990     Jun 1990      Jul 1990   \n",
      "1     97.881044     90.026998     88.456189     94.64125     87.965311   \n",
      "2        5.7549        5.6694        5.5986       5.6648        5.5005   \n",
      "3  59413.535251  62071.408686  62020.707924  58853.29252  58656.451152   \n",
      "4     70.442908     70.833553     70.939133    70.928575     70.949691   \n",
      "\n",
      "  Unnamed: 402  Unnamed: 403  Unnamed: 404 Unnamed: 405  Unnamed: 406  \n",
      "0     Aug 1990      Sep 1990      Oct 1990     Nov 1990      Dec 1990  \n",
      "1    65.188579     90.517876      99.74638    94.543075     89.928823  \n",
      "2       5.2731        5.2575         5.105       5.0005        5.0664  \n",
      "3  58918.10618  62161.006201  64564.495082  66533.60926  68098.910213  \n",
      "4    71.414243     71.921026     72.237766    72.121628     72.068838  \n",
      "\n",
      "[5 rows x 407 columns]\n"
     ]
    }
   ],
   "source": [
    "import pandas as pd\n",
    "\n",
    "# Replace 'b1/your_file.xlsx' with the correct path\n",
    "file_path = \"IMF.xlsx\"\n",
    "\n",
    "# Read the first sheet of the Excel file\n",
    "df = pd.read_excel(file_path, engine=\"openpyxl\")  \n",
    "\n",
    "# Display the first few rows\n",
    "print(df.head())\n"
   ]
  },
  {
   "cell_type": "code",
   "execution_count": 14,
   "metadata": {},
   "outputs": [
    {
     "name": "stdout",
     "output_type": "stream",
     "text": [
      "<class 'pandas.core.frame.DataFrame'>\n",
      "RangeIndex: 10 entries, 0 to 9\n",
      "Columns: 407 entries, 0 to 406\n",
      "dtypes: float64(32), object(375)\n",
      "memory usage: 31.9+ KB\n",
      "None\n",
      "Index([  0,   1,   2,   3,   4,   5,   6,   7,   8,   9,\n",
      "       ...\n",
      "       397, 398, 399, 400, 401, 402, 403, 404, 405, 406],\n",
      "      dtype='int64', length=407)\n"
     ]
    }
   ],
   "source": [
    "print(df.info())  # Get data types and non-null counts\n",
    "print(df.columns)  # Show column names\n"
   ]
  },
  {
   "cell_type": "code",
   "execution_count": 15,
   "metadata": {},
   "outputs": [
    {
     "name": "stdout",
     "output_type": "stream",
     "text": [
      "0    International Financial Statistics (IFS)\n",
      "1                                         NaN\n",
      "2                                      France\n",
      "3                                      France\n",
      "4                                      France\n",
      "5                                      France\n",
      "6                               United States\n",
      "7                               United States\n",
      "8                               United States\n",
      "9                               United States\n",
      "Name: 0, dtype: object\n"
     ]
    }
   ],
   "source": [
    "print(df.iloc[:, 0].head(10))  # Print the first 10 rows of the first column\n"
   ]
  },
  {
   "cell_type": "markdown",
   "metadata": {},
   "source": [
    "# construct variable"
   ]
  },
  {
   "cell_type": "markdown",
   "metadata": {},
   "source": [
    "## monthly growth in the nominal exchange rate"
   ]
  },
  {
   "cell_type": "code",
   "execution_count": 18,
   "metadata": {},
   "outputs": [],
   "source": [
    "import pandas as pd\n",
    "\n",
    "# Load the dataset\n",
    "file_path = \"IMF.xlsx\"  # Update this with your actual file path\n",
    "df = pd.read_excel(file_path, header=None, engine=\"openpyxl\")\n",
    "\n",
    "# Find the row index where \"Exchange Rates, National Currency Per U.S. Dollar\" appears\n",
    "exchange_rate_row = df[df.iloc[:, 1].str.contains(\"Exchange Rates\", na=False)].index[0]\n",
    "\n",
    "# Extract the relevant row (France's exchange rate data)\n",
    "exchange_rate_data = df.iloc[exchange_rate_row, 1:].reset_index(drop=True)\n",
    "\n",
    "# Convert values to numeric (ignore the first value, which is text)\n",
    "exchange_rate_data = pd.to_numeric(exchange_rate_data[1:], errors=\"coerce\")\n",
    "\n",
    "# Drop NaN values\n",
    "exchange_rate_data.dropna(inplace=True)\n"
   ]
  },
  {
   "cell_type": "code",
   "execution_count": 22,
   "metadata": {},
   "outputs": [
    {
     "name": "stdout",
     "output_type": "stream",
     "text": [
      "     Month  Growth (%)\n",
      "0        1         NaN\n",
      "1        2    0.000000\n",
      "2        3    0.000000\n",
      "3        4    0.000000\n",
      "4        5    0.000000\n",
      "..     ...         ...\n",
      "400    401   -4.134170\n",
      "401    402   -0.295841\n",
      "402    403   -2.900618\n",
      "403    404   -2.047013\n",
      "404    405    1.317868\n",
      "\n",
      "[405 rows x 2 columns]\n"
     ]
    }
   ],
   "source": [
    "# Compute the monthly growth rate in percentage\n",
    "monthly_growth = exchange_rate_data.pct_change() * 100\n",
    "\n",
    "# Convert to DataFrame for better visualization\n",
    "monthly_growth_df = pd.DataFrame({\n",
    "    \"Month\": range(1, len(monthly_growth) + 1),\n",
    "    \"Growth (%)\": monthly_growth.values\n",
    "})\n",
    "\n",
    "# Display the first few rows\n",
    "print(monthly_growth_df)\n"
   ]
  },
  {
   "cell_type": "markdown",
   "metadata": {},
   "source": [
    "## real exchange rate"
   ]
  },
  {
   "cell_type": "code",
   "execution_count": 25,
   "metadata": {},
   "outputs": [
    {
     "ename": "IndexError",
     "evalue": "index 0 is out of bounds for axis 0 with size 0",
     "output_type": "error",
     "traceback": [
      "\u001b[1;31m---------------------------------------------------------------------------\u001b[0m",
      "\u001b[1;31mIndexError\u001b[0m                                Traceback (most recent call last)",
      "Cell \u001b[1;32mIn[25], line 2\u001b[0m\n\u001b[0;32m      1\u001b[0m \u001b[38;5;66;03m# Find row indices dynamically\u001b[39;00m\n\u001b[1;32m----> 2\u001b[0m nominal_exchange_row \u001b[38;5;241m=\u001b[39m \u001b[43mdf\u001b[49m\u001b[43m[\u001b[49m\u001b[43mdf\u001b[49m\u001b[38;5;241;43m.\u001b[39;49m\u001b[43miloc\u001b[49m\u001b[43m[\u001b[49m\u001b[43m:\u001b[49m\u001b[43m,\u001b[49m\u001b[43m \u001b[49m\u001b[38;5;241;43m0\u001b[39;49m\u001b[43m]\u001b[49m\u001b[38;5;241;43m.\u001b[39;49m\u001b[43mstr\u001b[49m\u001b[38;5;241;43m.\u001b[39;49m\u001b[43mcontains\u001b[49m\u001b[43m(\u001b[49m\u001b[38;5;124;43m\"\u001b[39;49m\u001b[38;5;124;43mExchange Rates\u001b[39;49m\u001b[38;5;124;43m\"\u001b[39;49m\u001b[43m,\u001b[49m\u001b[43m \u001b[49m\u001b[43mcase\u001b[49m\u001b[38;5;241;43m=\u001b[39;49m\u001b[38;5;28;43;01mFalse\u001b[39;49;00m\u001b[43m,\u001b[49m\u001b[43m \u001b[49m\u001b[43mna\u001b[49m\u001b[38;5;241;43m=\u001b[39;49m\u001b[38;5;28;43;01mFalse\u001b[39;49;00m\u001b[43m)\u001b[49m\u001b[43m]\u001b[49m\u001b[38;5;241;43m.\u001b[39;49m\u001b[43mindex\u001b[49m\u001b[43m[\u001b[49m\u001b[38;5;241;43m0\u001b[39;49m\u001b[43m]\u001b[49m\n\u001b[0;32m      3\u001b[0m france_cpi_row \u001b[38;5;241m=\u001b[39m df[df\u001b[38;5;241m.\u001b[39miloc[:, \u001b[38;5;241m0\u001b[39m]\u001b[38;5;241m.\u001b[39mstr\u001b[38;5;241m.\u001b[39mcontains(\u001b[38;5;124m\"\u001b[39m\u001b[38;5;124mPrices, Consumer Price Index\u001b[39m\u001b[38;5;124m\"\u001b[39m, case\u001b[38;5;241m=\u001b[39m\u001b[38;5;28;01mFalse\u001b[39;00m, na\u001b[38;5;241m=\u001b[39m\u001b[38;5;28;01mFalse\u001b[39;00m) \u001b[38;5;241m&\u001b[39m df\u001b[38;5;241m.\u001b[39miloc[:, \u001b[38;5;241m1\u001b[39m]\u001b[38;5;241m.\u001b[39mstr\u001b[38;5;241m.\u001b[39mcontains(\u001b[38;5;124m\"\u001b[39m\u001b[38;5;124mFrance\u001b[39m\u001b[38;5;124m\"\u001b[39m, na\u001b[38;5;241m=\u001b[39m\u001b[38;5;28;01mFalse\u001b[39;00m)]\u001b[38;5;241m.\u001b[39mindex[\u001b[38;5;241m0\u001b[39m]\n\u001b[0;32m      4\u001b[0m us_cpi_row \u001b[38;5;241m=\u001b[39m df[df\u001b[38;5;241m.\u001b[39miloc[:, \u001b[38;5;241m0\u001b[39m]\u001b[38;5;241m.\u001b[39mstr\u001b[38;5;241m.\u001b[39mcontains(\u001b[38;5;124m\"\u001b[39m\u001b[38;5;124mPrices, Consumer Price Index\u001b[39m\u001b[38;5;124m\"\u001b[39m, case\u001b[38;5;241m=\u001b[39m\u001b[38;5;28;01mFalse\u001b[39;00m, na\u001b[38;5;241m=\u001b[39m\u001b[38;5;28;01mFalse\u001b[39;00m) \u001b[38;5;241m&\u001b[39m df\u001b[38;5;241m.\u001b[39miloc[:, \u001b[38;5;241m1\u001b[39m]\u001b[38;5;241m.\u001b[39mstr\u001b[38;5;241m.\u001b[39mcontains(\u001b[38;5;124m\"\u001b[39m\u001b[38;5;124mUnited States\u001b[39m\u001b[38;5;124m\"\u001b[39m, na\u001b[38;5;241m=\u001b[39m\u001b[38;5;28;01mFalse\u001b[39;00m)]\u001b[38;5;241m.\u001b[39mindex[\u001b[38;5;241m0\u001b[39m]\n",
      "File \u001b[1;32mc:\\Users\\Xueli\\AppData\\Local\\Programs\\Python\\Python313\\Lib\\site-packages\\pandas\\core\\indexes\\base.py:5389\u001b[0m, in \u001b[0;36mIndex.__getitem__\u001b[1;34m(self, key)\u001b[0m\n\u001b[0;32m   5386\u001b[0m \u001b[38;5;28;01mif\u001b[39;00m is_integer(key) \u001b[38;5;129;01mor\u001b[39;00m is_float(key):\n\u001b[0;32m   5387\u001b[0m     \u001b[38;5;66;03m# GH#44051 exclude bool, which would return a 2d ndarray\u001b[39;00m\n\u001b[0;32m   5388\u001b[0m     key \u001b[38;5;241m=\u001b[39m com\u001b[38;5;241m.\u001b[39mcast_scalar_indexer(key)\n\u001b[1;32m-> 5389\u001b[0m     \u001b[38;5;28;01mreturn\u001b[39;00m \u001b[43mgetitem\u001b[49m\u001b[43m(\u001b[49m\u001b[43mkey\u001b[49m\u001b[43m)\u001b[49m\n\u001b[0;32m   5391\u001b[0m \u001b[38;5;28;01mif\u001b[39;00m \u001b[38;5;28misinstance\u001b[39m(key, \u001b[38;5;28mslice\u001b[39m):\n\u001b[0;32m   5392\u001b[0m     \u001b[38;5;66;03m# This case is separated from the conditional above to avoid\u001b[39;00m\n\u001b[0;32m   5393\u001b[0m     \u001b[38;5;66;03m# pessimization com.is_bool_indexer and ndim checks.\u001b[39;00m\n\u001b[0;32m   5394\u001b[0m     \u001b[38;5;28;01mreturn\u001b[39;00m \u001b[38;5;28mself\u001b[39m\u001b[38;5;241m.\u001b[39m_getitem_slice(key)\n",
      "\u001b[1;31mIndexError\u001b[0m: index 0 is out of bounds for axis 0 with size 0"
     ]
    }
   ],
   "source": [
    "# Find row indices dynamically\n",
    "nominal_exchange_row = df[df.iloc[:, 0].str.contains(\"Exchange Rates\", case=False, na=False)].index[0]\n",
    "france_cpi_row = df[df.iloc[:, 0].str.contains(\"Prices, Consumer Price Index\", case=False, na=False) & df.iloc[:, 1].str.contains(\"France\", na=False)].index[0]\n",
    "us_cpi_row = df[df.iloc[:, 0].str.contains(\"Prices, Consumer Price Index\", case=False, na=False) & df.iloc[:, 1].str.contains(\"United States\", na=False)].index[0]\n",
    "\n",
    "# Extract the monthly data (skip the row label)\n",
    "nominal_exchange_rate = pd.to_numeric(df.iloc[nominal_exchange_row, 1:], errors=\"coerce\")\n",
    "france_cpi = pd.to_numeric(df.iloc[france_cpi_row, 1:], errors=\"coerce\")\n",
    "us_cpi = pd.to_numeric(df.iloc[us_cpi_row, 1:], errors=\"coerce\")\n"
   ]
  }
 ],
 "metadata": {
  "kernelspec": {
   "display_name": "Python 3",
   "language": "python",
   "name": "python3"
  },
  "language_info": {
   "codemirror_mode": {
    "name": "ipython",
    "version": 3
   },
   "file_extension": ".py",
   "mimetype": "text/x-python",
   "name": "python",
   "nbconvert_exporter": "python",
   "pygments_lexer": "ipython3",
   "version": "3.13.1"
  }
 },
 "nbformat": 4,
 "nbformat_minor": 2
}

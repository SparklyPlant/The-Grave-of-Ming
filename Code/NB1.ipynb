{
 "cells": [
  {
   "cell_type": "code",
   "execution_count": 59,
   "metadata": {},
   "outputs": [],
   "source": [
    "import pandas as pd \n",
    "import json "
   ]
  },
  {
   "cell_type": "markdown",
   "metadata": {},
   "source": [
    "# Constructing variable"
   ]
  },
  {
   "cell_type": "markdown",
   "metadata": {},
   "source": [
    "## 1. Monthly growth in the nominal exchange rate"
   ]
  },
  {
   "cell_type": "code",
   "execution_count": 60,
   "metadata": {},
   "outputs": [],
   "source": [
    "# Load the dataset\n",
    "file_path = \"../data/IMF.xlsx\"  # Update this with your actual file path\n",
    "df = pd.read_excel(file_path, header=None, engine=\"openpyxl\")\n",
    "\n",
    "# Find the row index where \"Exchange Rates, National Currency Per U.S. Dollar\" appears\n",
    "exchange_rate_row = df[df.iloc[:, 1].str.contains(\"Exchange Rates\", na=False)].index[0]\n",
    "\n",
    "# Extract the relevant row (France's exchange rate data)\n",
    "exchange_rate_data = df.iloc[exchange_rate_row, 1:].reset_index(drop=True)\n",
    "\n",
    "# Convert values to numeric (ignore the first value, which is text)\n",
    "exchange_rate_data = pd.to_numeric(exchange_rate_data[1:], errors=\"coerce\")\n",
    "\n",
    "# Drop NaN values\n",
    "exchange_rate_data.dropna(inplace=True)\n"
   ]
  },
  {
   "cell_type": "code",
   "execution_count": 61,
   "metadata": {},
   "outputs": [
    {
     "data": {
      "text/html": [
       "<div>\n",
       "<style scoped>\n",
       "    .dataframe tbody tr th:only-of-type {\n",
       "        vertical-align: middle;\n",
       "    }\n",
       "\n",
       "    .dataframe tbody tr th {\n",
       "        vertical-align: top;\n",
       "    }\n",
       "\n",
       "    .dataframe thead th {\n",
       "        text-align: right;\n",
       "    }\n",
       "</style>\n",
       "<table border=\"1\" class=\"dataframe\">\n",
       "  <thead>\n",
       "    <tr style=\"text-align: right;\">\n",
       "      <th></th>\n",
       "      <th>Month</th>\n",
       "      <th>Growth (%)</th>\n",
       "    </tr>\n",
       "  </thead>\n",
       "  <tbody>\n",
       "    <tr>\n",
       "      <th>0</th>\n",
       "      <td>1</td>\n",
       "      <td>NaN</td>\n",
       "    </tr>\n",
       "    <tr>\n",
       "      <th>1</th>\n",
       "      <td>2</td>\n",
       "      <td>0.0</td>\n",
       "    </tr>\n",
       "    <tr>\n",
       "      <th>2</th>\n",
       "      <td>3</td>\n",
       "      <td>0.0</td>\n",
       "    </tr>\n",
       "    <tr>\n",
       "      <th>3</th>\n",
       "      <td>4</td>\n",
       "      <td>0.0</td>\n",
       "    </tr>\n",
       "    <tr>\n",
       "      <th>4</th>\n",
       "      <td>5</td>\n",
       "      <td>0.0</td>\n",
       "    </tr>\n",
       "  </tbody>\n",
       "</table>\n",
       "</div>"
      ],
      "text/plain": [
       "   Month  Growth (%)\n",
       "0      1         NaN\n",
       "1      2         0.0\n",
       "2      3         0.0\n",
       "3      4         0.0\n",
       "4      5         0.0"
      ]
     },
     "metadata": {},
     "output_type": "display_data"
    }
   ],
   "source": [
    "# Compute the monthly growth rate in percentage\n",
    "monthly_growth = exchange_rate_data.pct_change() * 100\n",
    "\n",
    "# Convert to DataFrame for better visualization\n",
    "monthly_growth_df = pd.DataFrame({\n",
    "    \"Month\": range(1, len(monthly_growth) + 1),\n",
    "    \"Growth (%)\": monthly_growth.values\n",
    "})\n",
    "\n",
    "# Display the first few rows\n",
    "display(monthly_growth_df.head())\n",
    "monthly_growth_df.to_json('../Data/monthly_nominal_exchange_rate_growth.json', orient='records', indent=4)\n"
   ]
  },
  {
   "cell_type": "markdown",
   "metadata": {},
   "source": [
    "## 2. Monthly growth in real exchange rate"
   ]
  },
  {
   "cell_type": "code",
   "execution_count": 62,
   "metadata": {},
   "outputs": [
    {
     "name": "stdout",
     "output_type": "stream",
     "text": [
      "   Month  Real Exchange Rate Growth (%)\n",
      "0      1                            NaN\n",
      "1      2                      -1.642377\n",
      "2      3                       0.110462\n",
      "3      4                       0.000000\n",
      "4      5                       0.186470\n"
     ]
    }
   ],
   "source": [
    "import pandas as pd\n",
    "\n",
    "# Load the dataset from an Excel file\n",
    "file_path = \"../data/IMF.xlsx\"  # Update this with your actual file path\n",
    "df = pd.read_excel(file_path, header=None, engine=\"openpyxl\")\n",
    "\n",
    "# Dynamically locate row indices for relevant data\n",
    "exchange_rate_row = df[df.iloc[:, 1].str.contains(\"Exchange Rates, National Currency Per U.S. Dollar, Period Average, Rate\", na=False)].index[0]  # Row for nominal exchange rate (national currency per USD)\n",
    "france_cpi_row = df[(df.iloc[:, 1].str.contains(\"Prices, Consumer Price Index\", na=False)) & (df.iloc[:, 0] == \"France\")].index[0]  # Row for France's CPI\n",
    "us_cpi_row = df[(df.iloc[:, 1].str.contains(\"Prices, Consumer Price Index\", na=False)) & (df.iloc[:, 0] == \"United States\")].index[0]  # Row for US CPI\n",
    "\n",
    "# Extract numerical data from the identified rows\n",
    "exchange_rate = pd.to_numeric(df.iloc[exchange_rate_row, 2:], errors=\"coerce\")  # Nominal exchange rate (national currency per USD)\n",
    "france_cpi = pd.to_numeric(df.iloc[france_cpi_row, 2:], errors=\"coerce\")  # France's consumer price index\n",
    "us_cpi = pd.to_numeric(df.iloc[us_cpi_row, 2:], errors=\"coerce\")  # US consumer price index\n",
    "\n",
    "# Drop NaN values to ensure data consistency (optional, depending on data quality)\n",
    "exchange_rate.dropna(inplace=True)\n",
    "france_cpi.dropna(inplace=True)\n",
    "us_cpi.dropna(inplace=True)\n",
    "\n",
    "# Compute Real Exchange Rate (RER) using the formula:\n",
    "# RER = (Nominal Exchange Rate) * (US CPI / France CPI)\n",
    "# Since the nominal exchange rate is in national currency per USD, this formula adjusts it for relative price levels.\n",
    "rer = exchange_rate * (us_cpi / france_cpi)\n",
    "\n",
    "# Compute the Monthly Growth Rate of the Real Exchange Rate (RER) using percentage change:\n",
    "# Monthly Growth = (Current Month RER - Previous Month RER) / Previous Month RER * 100\n",
    "monthly_growth_rer = rer.pct_change() * 100  # Convert to percentage\n",
    "\n",
    "# Convert results into a DataFrame for better visualization\n",
    "monthly_growth_rer_df = pd.DataFrame({\n",
    "    \"Month\": range(1, len(monthly_growth_rer) + 1),\n",
    "    \"Real Exchange Rate Growth (%)\": monthly_growth_rer.values\n",
    "})\n",
    "\n",
    "# Display the first few rows of the computed RER growth\n",
    "print(monthly_growth_rer_df.head())\n",
    "\n",
    "# Save the computed RER growth data to a JSON file\n",
    "monthly_growth_rer_df.to_json('../Data/monthly_real_exchange_rate_growth.json', orient='records', indent=4)\n"
   ]
  },
  {
   "cell_type": "markdown",
   "metadata": {},
   "source": [
    "## 3. An index of the real exchange rate (setting the real exchange rate for December 1990 = 1)"
   ]
  },
  {
   "cell_type": "code",
   "execution_count": 63,
   "metadata": {},
   "outputs": [
    {
     "name": "stdout",
     "output_type": "stream",
     "text": [
      "                                        0    \\\n",
      "0  International Financial Statistics (IFS)   \n",
      "1                                       NaN   \n",
      "2                                    France   \n",
      "3                                    France   \n",
      "4                                    France   \n",
      "\n",
      "                                                 1          2          3    \\\n",
      "0                                                NaN        NaN        NaN   \n",
      "1                                                NaN   Dec 1959   Jan 1960   \n",
      "2    Economic Activity, Industrial Production, Index  35.365725  33.997257   \n",
      "3  Exchange Rates, National Currency Per U.S. Dol...    4.93706    4.93706   \n",
      "4  International Reserves and Liquidity, Reserves...    1735.74    1753.74   \n",
      "\n",
      "         4          5          6          7          8          9    ...  \\\n",
      "0        NaN        NaN        NaN        NaN        NaN        NaN  ...   \n",
      "1   Feb 1960   Mar 1960   Apr 1960   May 1960   Jun 1960   Jul 1960  ...   \n",
      "2  34.793828  34.916378  35.712949  35.743586  35.743586  33.016861  ...   \n",
      "3    4.93706    4.93706    4.93706    4.93706    4.93706    4.93706  ...   \n",
      "4    1796.74    1869.76    1947.79    2096.79    2057.79    2058.79  ...   \n",
      "\n",
      "            365           366           367          368           369  \\\n",
      "0           NaN           NaN           NaN          NaN           NaN   \n",
      "1      Mar 1990      Apr 1990      May 1990     Jun 1990      Jul 1990   \n",
      "2     97.881044     90.026998     88.456189     94.64125     87.965311   \n",
      "3        5.7549        5.6694        5.5986       5.6648        5.5005   \n",
      "4  59413.535251  62071.408686  62020.707924  58853.29252  58656.451152   \n",
      "\n",
      "           370           371           372          373           374  \n",
      "0          NaN           NaN           NaN          NaN           NaN  \n",
      "1     Aug 1990      Sep 1990      Oct 1990     Nov 1990      Dec 1990  \n",
      "2    65.188579     90.517876      99.74638    94.543075     89.928823  \n",
      "3       5.2731        5.2575         5.105       5.0005        5.0664  \n",
      "4  58918.10618  62161.006201  64564.495082  66533.60926  68098.910213  \n",
      "\n",
      "[5 rows x 375 columns]\n"
     ]
    },
    {
     "data": {
      "text/plain": [
       "'\\nRaw date row values:\\n'"
      ]
     },
     "metadata": {},
     "output_type": "display_data"
    },
    {
     "data": {
      "text/plain": [
       "array(['nan'], dtype=object)"
      ]
     },
     "metadata": {},
     "output_type": "display_data"
    }
   ],
   "source": [
    "import pandas as pd\n",
    "\n",
    "# Load the dataset\n",
    "file_path = \"../data/IMF.xlsx\"\n",
    "df = pd.read_excel(file_path, header=None, engine=\"openpyxl\")\n",
    "\n",
    "# Print the first few rows to inspect structure\n",
    "print(df.head())\n",
    "\n",
    "# Extract the date row (assuming it's the first row)\n",
    "date_row = df.iloc[0, 2:].astype(str).str.strip()\n",
    "\n",
    "# Print unique values to check format\n",
    "display(\"\\nRaw date row values:\\n\", date_row.unique())\n"
   ]
  },
  {
   "cell_type": "code",
   "execution_count": 64,
   "metadata": {},
   "outputs": [
    {
     "name": "stdout",
     "output_type": "stream",
     "text": [
      "\n",
      "Parsed dates:\n",
      " <DatetimeArray>\n",
      "[]\n",
      "Length: 0, dtype: datetime64[ns]\n"
     ]
    }
   ],
   "source": [
    "# Try parsing month-year format first\n",
    "dates = pd.to_datetime(date_row, format=\"%b %Y\", errors=\"coerce\")\n",
    "\n",
    "# Handle pure year values separately (if parsing failed)\n",
    "dates.loc[dates.isna()] = pd.to_datetime(date_row.loc[dates.isna()], format=\"%Y\", errors=\"coerce\")\n",
    "\n",
    "# Print parsed dates\n",
    "print(\"\\nParsed dates:\\n\", dates.dropna().unique())\n"
   ]
  },
  {
   "cell_type": "code",
   "execution_count": 65,
   "metadata": {},
   "outputs": [
    {
     "name": "stdout",
     "output_type": "stream",
     "text": [
      "Column Headers: Index(['Unnamed: 0', 'Unnamed: 1', 'Dec 1959', 'Jan 1960', 'Feb 1960',\n",
      "       'Mar 1960', 'Apr 1960', 'May 1960', 'Jun 1960', 'Jul 1960',\n",
      "       ...\n",
      "       'Mar 1990', 'Apr 1990', 'May 1990', 'Jun 1990', 'Jul 1990', 'Aug 1990',\n",
      "       'Sep 1990', 'Oct 1990', 'Nov 1990', 'Dec 1990'],\n",
      "      dtype='object', length=375)\n"
     ]
    }
   ],
   "source": [
    "df = pd.read_excel(file_path, engine=\"openpyxl\", skiprows=1)  # Skip first row\n",
    "\n",
    "print(\"Column Headers:\", df.columns)\n"
   ]
  },
  {
   "cell_type": "code",
   "execution_count": 66,
   "metadata": {},
   "outputs": [],
   "source": [
    "# Identify columns that are four-digit years\n",
    "year_only_columns = df.columns[2:][df.columns[2:].astype(str).str.match(r\"^\\d{4}$\")]\n",
    "\n",
    "# Drop these columns\n",
    "df_cleaned = df.drop(columns=year_only_columns)"
   ]
  },
  {
   "cell_type": "code",
   "execution_count": 67,
   "metadata": {},
   "outputs": [
    {
     "name": "stdout",
     "output_type": "stream",
     "text": [
      "Parsed Dates: DatetimeIndex(['1959-12-01', '1960-01-01', '1960-02-01', '1960-03-01',\n",
      "               '1960-04-01', '1960-05-01', '1960-06-01', '1960-07-01',\n",
      "               '1960-08-01', '1960-09-01',\n",
      "               ...\n",
      "               '1990-03-01', '1990-04-01', '1990-05-01', '1990-06-01',\n",
      "               '1990-07-01', '1990-08-01', '1990-09-01', '1990-10-01',\n",
      "               '1990-11-01', '1990-12-01'],\n",
      "              dtype='datetime64[ns]', length=373, freq=None)\n",
      "December 1990 found at index: 372\n"
     ]
    }
   ],
   "source": [
    "# Load data (skipping first row)\n",
    "df = pd.read_excel(file_path, engine=\"openpyxl\", skiprows=1)\n",
    "\n",
    "# Extract only potential date columns (excluding the first two columns)\n",
    "raw_date_headers = df.columns[2:]  # Ignore first two non-date columns\n",
    "\n",
    "# Filter out standalone years (keep only \"Month Year\" format)\n",
    "filtered_dates = [col for col in raw_date_headers if not col.isdigit()]  # Remove pure years\n",
    "\n",
    "# Convert the filtered date headers to datetime\n",
    "dates = pd.to_datetime(filtered_dates, format=\"%b %Y\", errors=\"coerce\")\n",
    "\n",
    "# Debug: Check parsed dates\n",
    "print(\"Parsed Dates:\", dates)\n",
    "\n",
    "# ✅ FIX: Remove .dt from DatetimeIndex\n",
    "dec_1990_index = (dates.year == 1990) & (dates.month == 12)\n",
    "\n",
    "if dec_1990_index.sum() == 0:\n",
    "    raise ValueError(f\"December 1990 not found! Check the parsed dates: {dates}\")\n",
    "\n",
    "print(\"December 1990 found at index:\", dec_1990_index.argmax())\n"
   ]
  },
  {
   "cell_type": "code",
   "execution_count": 68,
   "metadata": {},
   "outputs": [],
   "source": [
    "# Extract the real exchange rate (RER) series\n",
    "rer_series = rer.values  # Assuming `rer` is already computed\n",
    "\n",
    "# Get RER value for December 1990\n",
    "rer_dec_1990 = rer_series[372]\n",
    "\n",
    "# Normalize the RER series to set Dec 1990 = 1\n",
    "rer_index = rer_series / rer_dec_1990\n"
   ]
  },
  {
   "cell_type": "code",
   "execution_count": 69,
   "metadata": {},
   "outputs": [],
   "source": [
    "rer_series = rer_series[:len(dates)]\n"
   ]
  },
  {
   "cell_type": "code",
   "execution_count": 70,
   "metadata": {},
   "outputs": [
    {
     "name": "stdout",
     "output_type": "stream",
     "text": [
      "Length of dates: 373\n",
      "Length of rer_series: 373\n"
     ]
    }
   ],
   "source": [
    "print(f\"Length of dates: {len(dates)}\")\n",
    "print(f\"Length of rer_series: {len(rer_series)}\")\n"
   ]
  },
  {
   "cell_type": "code",
   "execution_count": 71,
   "metadata": {},
   "outputs": [],
   "source": [
    "rer_index_df = pd.DataFrame({\n",
    "    \"Date\": dates,  \n",
    "    \"RER Index\": rer_series\n",
    "})\n"
   ]
  },
  {
   "cell_type": "code",
   "execution_count": 72,
   "metadata": {},
   "outputs": [
    {
     "name": "stdout",
     "output_type": "stream",
     "text": [
      "        Date  RER Index\n",
      "0 1959-12-01   6.520281\n",
      "1 1960-01-01   6.413193\n",
      "2 1960-02-01   6.420277\n",
      "3 1960-03-01   6.420277\n",
      "4 1960-04-01   6.432249\n"
     ]
    }
   ],
   "source": [
    "print(rer_index_df.head())\n",
    "rer_index_df.to_json('../Data/real_exchange_rate_index.json', orient='records', indent=4)"
   ]
  },
  {
   "cell_type": "code",
   "execution_count": 73,
   "metadata": {},
   "outputs": [
    {
     "data": {
      "image/png": "[encoded data removed]",
      "text/plain": [
       "<Figure size 1200x600 with 1 Axes>"
      ]
     },
     "metadata": {},
     "output_type": "display_data"
    }
   ],
   "source": [
    "import matplotlib.pyplot as plt\n",
    "\n",
    "plt.figure(figsize=(12,6))\n",
    "plt.plot(rer_index_df[\"Date\"], rer_index_df[\"RER Index\"], marker='o', linestyle='-')\n",
    "plt.xlabel(\"Date\")\n",
    "plt.ylabel(\"RER Index\")\n",
    "plt.title(\"Real Exchange Rate Index Over Time\")\n",
    "plt.grid()\n",
    "plt.show()\n"
   ]
  },
  {
   "cell_type": "markdown",
   "metadata": {},
   "source": [
    "## 4. Monthly inflation rate"
   ]
  },
  {
   "cell_type": "code",
   "execution_count": 74,
   "metadata": {},
   "outputs": [
    {
     "name": "stdout",
     "output_type": "stream",
     "text": [
      "     Month  France Inflation (%)  US Inflation (%)\n",
      "0        1                   NaN               NaN\n",
      "1        2              1.323986         -0.340136\n",
      "2        3              0.230580          0.341297\n",
      "3        4              0.000000          0.000000\n",
      "4        5              0.153380          0.340136\n",
      "..     ...                   ...               ...\n",
      "368    369              0.654762          0.920245\n",
      "369    370              0.709639          0.835866\n",
      "370    371              0.440399          0.602864\n",
      "371    372             -0.160772          0.224719\n",
      "372    373             -0.073196          0.000000\n",
      "\n",
      "[373 rows x 3 columns]\n"
     ]
    }
   ],
   "source": [
    "import pandas as pd\n",
    "\n",
    "# Load the dataset\n",
    "file_path = \"../data/IMF.xlsx\"  # Update this with your actual file path\n",
    "df = pd.read_excel(file_path, header=None, engine=\"openpyxl\")\n",
    "\n",
    "# Find row indices for France and US CPI dynamically\n",
    "france_cpi_row = df[(df.iloc[:, 1].str.contains(\"Prices, Consumer Price Index\", na=False)) & (df.iloc[:, 0] == \"France\")].index[0]\n",
    "us_cpi_row = df[(df.iloc[:, 1].str.contains(\"Prices, Consumer Price Index\", na=False)) & (df.iloc[:, 0] == \"United States\")].index[0]\n",
    "\n",
    "# Extract CPI data\n",
    "france_cpi = pd.to_numeric(df.iloc[france_cpi_row, 2:], errors=\"coerce\")\n",
    "us_cpi = pd.to_numeric(df.iloc[us_cpi_row, 2:], errors=\"coerce\")\n",
    "\n",
    "# Compute Monthly Inflation Rate (percentage change)\n",
    "france_inflation = france_cpi.pct_change() * 100\n",
    "us_inflation = us_cpi.pct_change() * 100\n",
    "\n",
    "# Create DataFrame for visualization\n",
    "inflation_df = pd.DataFrame({\n",
    "    \"Month\": range(1, len(france_inflation) + 1),\n",
    "    \"France Inflation (%)\": france_inflation.values,\n",
    "    \"US Inflation (%)\": us_inflation.values\n",
    "})\n",
    "\n",
    "# Display first few rows\n",
    "print(inflation_df)\n",
    "\n",
    "\n",
    "inflation_df.to_json('../Data/Monthly_inflation.json', orient='records', indent=4)\n",
    "\n"
   ]
  },
  {
   "cell_type": "markdown",
   "metadata": {},
   "source": [
    "## 5. The monthly growth in industrial production"
   ]
  },
  {
   "cell_type": "code",
   "execution_count": 75,
   "metadata": {},
   "outputs": [
    {
     "name": "stdout",
     "output_type": "stream",
     "text": [
      "     Month  France IP Growth (%)  US IP Growth (%)\n",
      "0        1                   NaN               NaN\n",
      "1        2             -3.869477          2.917232\n",
      "2        3              2.343046          0.560316\n",
      "3        4              0.352216         -0.229433\n",
      "4        5              2.281369         -0.788436\n",
      "..     ...                   ...               ...\n",
      "368    369            -25.892857          3.346457\n",
      "369    370             38.855422          0.761905\n",
      "370    371             10.195228         -1.348456\n",
      "371    372             -5.216535         -2.593255\n",
      "372    373             -4.880582         -1.468852\n",
      "\n",
      "[373 rows x 3 columns]\n"
     ]
    }
   ],
   "source": [
    "import pandas as pd\n",
    "\n",
    "# Load the dataset\n",
    "file_path = \"../data/IMF.xlsx\"  # Update this with your actual file path\n",
    "df = pd.read_excel(file_path, header=None, engine=\"openpyxl\")\n",
    "\n",
    "# Find row indices for France and US Industrial Production dynamically\n",
    "france_ip_row = df[(df.iloc[:, 1].str.contains(\"Economic Activity, Industrial Production\", na=False)) & (df.iloc[:, 0] == \"France\")].index[0]\n",
    "us_ip_row = df[(df.iloc[:, 1].str.contains(\"Economic Activity, Industrial Production\", na=False)) & (df.iloc[:, 0] == \"United States\")].index[0]\n",
    "\n",
    "# Extract Industrial Production Index data\n",
    "france_ip = pd.to_numeric(df.iloc[france_ip_row, 2:], errors=\"coerce\")\n",
    "us_ip = pd.to_numeric(df.iloc[us_ip_row, 2:], errors=\"coerce\")\n",
    "\n",
    "# Compute Monthly Growth in Industrial Production (percentage change)\n",
    "france_ip_growth = france_ip.pct_change() * 100\n",
    "us_ip_growth = us_ip.pct_change() * 100\n",
    "\n",
    "# Create DataFrame for visualization\n",
    "industrial_production_df = pd.DataFrame({\n",
    "    \"Month\": range(1, len(france_ip_growth) + 1),\n",
    "    \"France IP Growth (%)\": france_ip_growth.values,\n",
    "    \"US IP Growth (%)\": us_ip_growth.values\n",
    "})\n",
    "\n",
    "# Display first few rows\n",
    "print(industrial_production_df)\n",
    "\n",
    "\n",
    "industrial_production_df.to_json('../Data/Montly_industrial_production.json', orient='records', indent=4)\n"
   ]
  },
  {
   "cell_type": "markdown",
   "metadata": {},
   "source": [
    "## 6. The growth in industrial production versus 12 months ago (i.e. January 1971 versus January 1970 etc.)\n"
   ]
  },
  {
   "cell_type": "code",
   "execution_count": 76,
   "metadata": {},
   "outputs": [
    {
     "name": "stdout",
     "output_type": "stream",
     "text": [
      "     Month  France YoY IP Growth (%)  US YoY IP Growth (%)\n",
      "0        1                       NaN                   NaN\n",
      "1        2                       NaN                   NaN\n",
      "2        3                       NaN                   NaN\n",
      "3        4                       NaN                   NaN\n",
      "4        5                       NaN                   NaN\n",
      "..     ...                       ...                   ...\n",
      "368    369                  4.097257              1.915362\n",
      "369    370                  4.818828              2.506136\n",
      "370    371                  5.340079              1.768071\n",
      "371    372                 -0.058014              0.302552\n",
      "372    373                 -1.578180             -1.326504\n",
      "\n",
      "[373 rows x 3 columns]\n"
     ]
    }
   ],
   "source": [
    "import pandas as pd\n",
    "\n",
    "# Load the dataset\n",
    "file_path = \"../data/IMF.xlsx\"  \n",
    "df = pd.read_excel(file_path, header=None, engine=\"openpyxl\")\n",
    "\n",
    "# Find row indices for France and US Industrial Production dynamically\n",
    "france_ip_row = df[(df.iloc[:, 1].str.contains(\"Economic Activity, Industrial Production\", na=False)) & (df.iloc[:, 0] == \"France\")].index[0]\n",
    "us_ip_row = df[(df.iloc[:, 1].str.contains(\"Economic Activity, Industrial Production\", na=False)) & (df.iloc[:, 0] == \"United States\")].index[0]\n",
    "\n",
    "# Extract Industrial Production Index data\n",
    "france_ip = pd.to_numeric(df.iloc[france_ip_row, 2:], errors=\"coerce\")\n",
    "us_ip = pd.to_numeric(df.iloc[us_ip_row, 2:], errors=\"coerce\")\n",
    "\n",
    "# Compute Year-over-Year (YoY) Growth in Industrial Production\n",
    "france_ip_yoy_growth = france_ip.pct_change(periods=12) * 100\n",
    "us_ip_yoy_growth = us_ip.pct_change(periods=12) * 100\n",
    "\n",
    "# Create DataFrame for visualization\n",
    "industrial_production_yoy_df = pd.DataFrame({\n",
    "    \"Month\": range(1, len(france_ip_yoy_growth) + 1),\n",
    "    \"France YoY IP Growth (%)\": france_ip_yoy_growth.values,\n",
    "    \"US YoY IP Growth (%)\": us_ip_yoy_growth.values\n",
    "})\n",
    "\n",
    "# Display first few rows\n",
    "print(industrial_production_yoy_df)\n",
    "\n",
    "industrial_production_yoy_df.to_json('../Data/YoY_growth.json', orient='records', indent=4)\n",
    "\n"
   ]
  },
  {
   "cell_type": "markdown",
   "metadata": {},
   "source": [
    "## 7. An index of the value of international reserves (value of reserves for January 1960 = 100)"
   ]
  },
  {
   "cell_type": "code",
   "execution_count": 77,
   "metadata": {},
   "outputs": [
    {
     "name": "stdout",
     "output_type": "stream",
     "text": [
      "     Month  France Reserves Index  US Reserves Index\n",
      "0        1              96.604962         100.508513\n",
      "1        2              97.606777         100.385124\n",
      "2        3             100.000000         100.000000\n",
      "3        4             104.064027          99.761634\n",
      "4        5             108.406892          99.449889\n",
      "..     ...                    ...                ...\n",
      "368    369            3279.167057         368.806996\n",
      "369    370            3459.655053         374.019855\n",
      "370    371            3593.424484         387.237606\n",
      "371    372            3703.018203         388.206054\n",
      "372    373            3790.137149         389.406351\n",
      "\n",
      "[373 rows x 3 columns]\n"
     ]
    }
   ],
   "source": [
    "import pandas as pd\n",
    "\n",
    "# Load the dataset\n",
    "file_path = \"../data/IMF.xlsx\"  # Update this with your actual file path\n",
    "df = pd.read_excel(file_path, header=None, engine=\"openpyxl\")\n",
    "\n",
    "# Find row indices for France and U.S. International Reserves\n",
    "france_reserves_row = df[(df.iloc[:, 1].str.contains(\"International Reserves\", na=False)) & (df.iloc[:, 0] == \"France\")].index[0]\n",
    "us_reserves_row = df[(df.iloc[:, 1].str.contains(\"International Reserves\", na=False)) & (df.iloc[:, 0] == \"United States\")].index[0]\n",
    "\n",
    "# Extract International Reserves data\n",
    "france_reserves = pd.to_numeric(df.iloc[france_reserves_row, 2:], errors=\"coerce\")\n",
    "us_reserves = pd.to_numeric(df.iloc[us_reserves_row, 2:], errors=\"coerce\")\n",
    "\n",
    "# Find the value of reserves in January 1960 (assumes the first column is Jan 1960)\n",
    "jan_1960_index = 2  # Assuming the first data column corresponds to Jan 1960\n",
    "france_reserves_jan_1960 = france_reserves.iloc[jan_1960_index]\n",
    "us_reserves_jan_1960 = us_reserves.iloc[jan_1960_index]\n",
    "\n",
    "# Construct the Index (Normalize to Jan 1960 = 100)\n",
    "france_reserves_index = (france_reserves / france_reserves_jan_1960) * 100\n",
    "us_reserves_index = (us_reserves / us_reserves_jan_1960) * 100\n",
    "\n",
    "# Create DataFrame for visualization\n",
    "reserves_index_df = pd.DataFrame({\n",
    "    \"Month\": range(1, len(france_reserves_index) + 1),\n",
    "    \"France Reserves Index\": france_reserves_index.values,\n",
    "    \"US Reserves Index\": us_reserves_index.values\n",
    "})\n",
    "\n",
    "# Display first few rows\n",
    "print(reserves_index_df)\n"
   ]
  },
  {
   "cell_type": "markdown",
   "metadata": {},
   "source": [
    "# US"
   ]
  },
  {
   "cell_type": "markdown",
   "metadata": {},
   "source": [
    "## Constructing: \n",
    "## 1. monthly inflation rate and \n",
    "## 2. an index of the value of international reserves (value of reserves for January 1960 = 100)"
   ]
  },
  {
   "cell_type": "code",
   "execution_count": 78,
   "metadata": {},
   "outputs": [
    {
     "name": "stdout",
     "output_type": "stream",
     "text": [
      "     Month  US Inflation Rate (%)  US Reserves Index\n",
      "0        1                    NaN         100.508513\n",
      "1        2              -0.340136         100.385124\n",
      "2        3               0.341297         100.000000\n",
      "3        4               0.000000          99.761634\n",
      "4        5               0.340136          99.449889\n",
      "..     ...                    ...                ...\n",
      "368    369               0.920245         368.806996\n",
      "369    370               0.835866         374.019855\n",
      "370    371               0.602864         387.237606\n",
      "371    372               0.224719         388.206054\n",
      "372    373               0.000000         389.406351\n",
      "\n",
      "[373 rows x 3 columns]\n"
     ]
    }
   ],
   "source": [
    "import pandas as pd\n",
    "\n",
    "# Load the dataset\n",
    "file_path = \"../data/IMF.xlsx\"  \n",
    "df = pd.read_excel(file_path, header=None, engine=\"openpyxl\")\n",
    "\n",
    "# Find row indices dynamically\n",
    "us_cpi_row = df[(df.iloc[:, 1].str.contains(\"Prices, Consumer Price Index\", na=False)) & (df.iloc[:, 0] == \"United States\")].index[0]\n",
    "us_reserves_row = df[(df.iloc[:, 1].str.contains(\"International Reserves\", na=False)) & (df.iloc[:, 0] == \"United States\")].index[0]\n",
    "\n",
    "# Extract U.S. data\n",
    "us_cpi = pd.to_numeric(df.iloc[us_cpi_row, 2:], errors=\"coerce\")\n",
    "us_reserves = pd.to_numeric(df.iloc[us_reserves_row, 2:], errors=\"coerce\")\n",
    "\n",
    "# (i) Compute Monthly Inflation Rate\n",
    "us_inflation_rate = us_cpi.pct_change() * 100  # Convert to percentage\n",
    "\n",
    "# (ii) Compute International Reserves Index (Jan 1960 = 100)\n",
    "jan_1960_index = 2  # Assuming first data column corresponds to Jan 1960\n",
    "us_reserves_jan_1960 = us_reserves.iloc[jan_1960_index]\n",
    "us_reserves_index = (us_reserves / us_reserves_jan_1960) * 100\n",
    "\n",
    "# Create DataFrame for visualization\n",
    "us_data_df = pd.DataFrame({\n",
    "    \"Month\": range(1, len(us_cpi) + 1),\n",
    "    \"US Inflation Rate (%)\": us_inflation_rate.values,\n",
    "    \"US Reserves Index\": us_reserves_index.values\n",
    "})\n",
    "\n",
    "# Display first few rows\n",
    "print(us_data_df)\n"
   ]
  },
  {
   "cell_type": "markdown",
   "metadata": {},
   "source": [
    "## Identify outliers"
   ]
  },
  {
   "cell_type": "code",
   "execution_count": 79,
   "metadata": {},
   "outputs": [
    {
     "name": "stdout",
     "output_type": "stream",
     "text": [
      "3: 0 outliers detected\n",
      "9: 0 outliers detected\n",
      "2: 3 outliers detected\n",
      "4: 0 outliers detected\n",
      "None: 2 outliers detected\n",
      "       Exchange Rate  US Inflation Rate (%)  Industrial Production Growth (%)  \\\n",
      "count     373.000000             372.000000                        361.000000   \n",
      "mean        5.485297               0.408794                          3.419042   \n",
      "std         1.203652               0.351030                          6.062155   \n",
      "min         4.004645              -0.457457                        -26.505263   \n",
      "25%         4.937060               0.197343                          0.498146   \n",
      "50%         4.937060               0.330579                          3.542234   \n",
      "75%         5.736900               0.582275                          6.585736   \n",
      "max        10.111500               1.805869                         63.276998   \n",
      "\n",
      "       International Reserves Index  RER Growth (%)  \n",
      "count                    373.000000      372.000000  \n",
      "mean                    1539.572007       -0.085581  \n",
      "std                     1386.827325        2.268182  \n",
      "min                       96.604962       -7.143997  \n",
      "25%                      307.120118       -0.831223  \n",
      "50%                     1016.948630       -0.088601  \n",
      "75%                     3003.230428        0.524457  \n",
      "max                     4457.929109       12.851293  \n"
     ]
    }
   ],
   "source": [
    "from scipy.stats import zscore\n",
    "import numpy as np\n",
    "\n",
    "# Function to detect and set extreme outliers to NaN using a higher IQR multiplier\n",
    "def detect_outliers(series, iqr_multiplier=10.0, z_threshold=10.0):  # More lenient thresholds\n",
    "    Q1 = series.quantile(0.25)\n",
    "    Q3 = series.quantile(0.75)\n",
    "    IQR = Q3 - Q1\n",
    "    lower_bound = Q1 - iqr_multiplier * IQR\n",
    "    upper_bound = Q3 + iqr_multiplier * IQR\n",
    "    z_scores = np.abs(zscore(series, nan_policy='omit'))  # Compute Z-scores\n",
    "\n",
    "    # Identify outliers based on both methods (looser thresholds)\n",
    "    outliers = ((series < lower_bound) | (series > upper_bound)) | (z_scores > z_threshold)\n",
    "\n",
    "    print(f\"{series.name}: {outliers.sum()} outliers detected\")  # Should be 0\n",
    "    return series  # No values are masked\n",
    "\n",
    "# Apply outlier detection with an extremely high threshold\n",
    "exchange_rate_clean = detect_outliers(exchange_rate, iqr_multiplier=7.0, z_threshold=4.0)\n",
    "us_inflation_rate_clean = detect_outliers(us_inflation_rate, iqr_multiplier=7.0, z_threshold=4.0)\n",
    "industrial_production_growth_clean = detect_outliers(france_ip_yoy_growth, iqr_multiplier=7.0, z_threshold=4.0)\n",
    "international_reserves_clean = detect_outliers(france_reserves_index, iqr_multiplier=7.0, z_threshold=4.0)\n",
    "rer_growth_clean = detect_outliers(monthly_growth_rer, iqr_multiplier=7.0, z_threshold=4.0)\n",
    "\n",
    "# Combine into cleaned DataFrame\n",
    "cleaned_data = pd.DataFrame({\n",
    "    \"Exchange Rate\": exchange_rate_clean,\n",
    "    \"US Inflation Rate (%)\": us_inflation_rate_clean,\n",
    "    \"Industrial Production Growth (%)\": industrial_production_growth_clean,\n",
    "    \"International Reserves Index\": international_reserves_clean,\n",
    "    \"RER Growth (%)\": rer_growth_clean\n",
    "})\n",
    "\n",
    "# Display summary statistics\n",
    "print(cleaned_data.describe())\n"
   ]
  },
  {
   "cell_type": "markdown",
   "metadata": {},
   "source": [
    "## Interpolate missing data"
   ]
  },
  {
   "cell_type": "code",
   "execution_count": 80,
   "metadata": {},
   "outputs": [
    {
     "name": "stdout",
     "output_type": "stream",
     "text": [
      "Exchange Rate                        0\n",
      "US Inflation Rate (%)                1\n",
      "Industrial Production Growth (%)    12\n",
      "International Reserves Index         0\n",
      "RER Growth (%)                       1\n",
      "dtype: int64\n"
     ]
    }
   ],
   "source": [
    "# Function to fill missing values using mean of surrounding values\n",
    "def fill_missing_values(series):\n",
    "    return series.interpolate(method=\"linear\")\n",
    "\n",
    "# Now use it in your cleaned_data_filled\n",
    "cleaned_data_filled = cleaned_data.copy()  # Make a copy to preserve original data\n",
    "\n",
    "columns_to_fill = [\n",
    "    \"Exchange Rate\",\n",
    "    \"US Inflation Rate (%)\",\n",
    "    \"Industrial Production Growth (%)\",\n",
    "    \"International Reserves Index\",\n",
    "    \"RER Growth (%)\"\n",
    "]\n",
    "\n",
    "for col in columns_to_fill:\n",
    "    if col in cleaned_data_filled.columns:\n",
    "        cleaned_data_filled[col] = fill_missing_values(cleaned_data_filled[col])\n",
    "    else:\n",
    "        print(f\"Warning: Column '{col}' not found in DataFrame.\")\n",
    "\n",
    "# Check if there are still missing values\n",
    "print(cleaned_data_filled.isna().sum())\n"
   ]
  },
  {
   "cell_type": "markdown",
   "metadata": {},
   "source": [
    "# UH GG\n",
    "# UH TRYING TO CONVERT ALL THE PREVIOUS DF INTO DATETIME & MERGE THEM INTO 1 SET"
   ]
  },
  {
   "cell_type": "markdown",
   "metadata": {},
   "source": [
    "## Formatting into date format and show fully merged dataset"
   ]
  },
  {
   "cell_type": "code",
   "execution_count": 81,
   "metadata": {},
   "outputs": [
    {
     "name": "stderr",
     "output_type": "stream",
     "text": [
      "C:\\Users\\Xueli\\AppData\\Local\\Temp\\ipykernel_16996\\902630998.py:33: FutureWarning: 'M' is deprecated and will be removed in a future version, please use 'ME' instead.\n",
      "  df[\"Date\"] = pd.date_range(start=start_date, periods=len(df), freq=\"M\")\n",
      "C:\\Users\\Xueli\\AppData\\Local\\Temp\\ipykernel_16996\\902630998.py:33: FutureWarning: 'M' is deprecated and will be removed in a future version, please use 'ME' instead.\n",
      "  df[\"Date\"] = pd.date_range(start=start_date, periods=len(df), freq=\"M\")\n",
      "C:\\Users\\Xueli\\AppData\\Local\\Temp\\ipykernel_16996\\902630998.py:33: FutureWarning: 'M' is deprecated and will be removed in a future version, please use 'ME' instead.\n",
      "  df[\"Date\"] = pd.date_range(start=start_date, periods=len(df), freq=\"M\")\n",
      "C:\\Users\\Xueli\\AppData\\Local\\Temp\\ipykernel_16996\\902630998.py:33: FutureWarning: 'M' is deprecated and will be removed in a future version, please use 'ME' instead.\n",
      "  df[\"Date\"] = pd.date_range(start=start_date, periods=len(df), freq=\"M\")\n",
      "C:\\Users\\Xueli\\AppData\\Local\\Temp\\ipykernel_16996\\902630998.py:33: FutureWarning: 'M' is deprecated and will be removed in a future version, please use 'ME' instead.\n",
      "  df[\"Date\"] = pd.date_range(start=start_date, periods=len(df), freq=\"M\")\n",
      "C:\\Users\\Xueli\\AppData\\Local\\Temp\\ipykernel_16996\\902630998.py:33: FutureWarning: 'M' is deprecated and will be removed in a future version, please use 'ME' instead.\n",
      "  df[\"Date\"] = pd.date_range(start=start_date, periods=len(df), freq=\"M\")\n",
      "C:\\Users\\Xueli\\AppData\\Local\\Temp\\ipykernel_16996\\902630998.py:33: FutureWarning: 'M' is deprecated and will be removed in a future version, please use 'ME' instead.\n",
      "  df[\"Date\"] = pd.date_range(start=start_date, periods=len(df), freq=\"M\")\n"
     ]
    },
    {
     "data": {
      "text/html": [
       "<div>\n",
       "<style scoped>\n",
       "    .dataframe tbody tr th:only-of-type {\n",
       "        vertical-align: middle;\n",
       "    }\n",
       "\n",
       "    .dataframe tbody tr th {\n",
       "        vertical-align: top;\n",
       "    }\n",
       "\n",
       "    .dataframe thead th {\n",
       "        text-align: right;\n",
       "    }\n",
       "</style>\n",
       "<table border=\"1\" class=\"dataframe\">\n",
       "  <thead>\n",
       "    <tr style=\"text-align: right;\">\n",
       "      <th></th>\n",
       "      <th>Date</th>\n",
       "      <th>RER Index</th>\n",
       "      <th>Growth (%)</th>\n",
       "      <th>Real Exchange Rate Growth (%)</th>\n",
       "      <th>France Inflation (%)</th>\n",
       "      <th>US Inflation (%)</th>\n",
       "      <th>France IP Growth (%)</th>\n",
       "      <th>US IP Growth (%)</th>\n",
       "      <th>France YoY IP Growth (%)</th>\n",
       "      <th>US YoY IP Growth (%)</th>\n",
       "      <th>France Reserves Index</th>\n",
       "      <th>US Reserves Index_x</th>\n",
       "      <th>US Inflation Rate (%)</th>\n",
       "      <th>US Reserves Index_y</th>\n",
       "    </tr>\n",
       "  </thead>\n",
       "  <tbody>\n",
       "    <tr>\n",
       "      <th>0</th>\n",
       "      <td>1959-12-01</td>\n",
       "      <td>6.520281</td>\n",
       "      <td>NaN</td>\n",
       "      <td>NaN</td>\n",
       "      <td>NaN</td>\n",
       "      <td>NaN</td>\n",
       "      <td>NaN</td>\n",
       "      <td>NaN</td>\n",
       "      <td>NaN</td>\n",
       "      <td>NaN</td>\n",
       "      <td>NaN</td>\n",
       "      <td>NaN</td>\n",
       "      <td>NaN</td>\n",
       "      <td>NaN</td>\n",
       "    </tr>\n",
       "    <tr>\n",
       "      <th>1</th>\n",
       "      <td>1959-12-31</td>\n",
       "      <td>NaN</td>\n",
       "      <td>NaN</td>\n",
       "      <td>NaN</td>\n",
       "      <td>NaN</td>\n",
       "      <td>NaN</td>\n",
       "      <td>NaN</td>\n",
       "      <td>NaN</td>\n",
       "      <td>NaN</td>\n",
       "      <td>NaN</td>\n",
       "      <td>96.604962</td>\n",
       "      <td>100.508513</td>\n",
       "      <td>NaN</td>\n",
       "      <td>100.508513</td>\n",
       "    </tr>\n",
       "    <tr>\n",
       "      <th>2</th>\n",
       "      <td>1960-01-01</td>\n",
       "      <td>6.413193</td>\n",
       "      <td>NaN</td>\n",
       "      <td>NaN</td>\n",
       "      <td>NaN</td>\n",
       "      <td>NaN</td>\n",
       "      <td>NaN</td>\n",
       "      <td>NaN</td>\n",
       "      <td>NaN</td>\n",
       "      <td>NaN</td>\n",
       "      <td>NaN</td>\n",
       "      <td>NaN</td>\n",
       "      <td>NaN</td>\n",
       "      <td>NaN</td>\n",
       "    </tr>\n",
       "    <tr>\n",
       "      <th>3</th>\n",
       "      <td>1960-01-31</td>\n",
       "      <td>NaN</td>\n",
       "      <td>0.0</td>\n",
       "      <td>-1.642377</td>\n",
       "      <td>1.323986</td>\n",
       "      <td>-0.340136</td>\n",
       "      <td>-3.869477</td>\n",
       "      <td>2.917232</td>\n",
       "      <td>NaN</td>\n",
       "      <td>NaN</td>\n",
       "      <td>97.606777</td>\n",
       "      <td>100.385124</td>\n",
       "      <td>-0.340136</td>\n",
       "      <td>100.385124</td>\n",
       "    </tr>\n",
       "    <tr>\n",
       "      <th>4</th>\n",
       "      <td>1960-02-01</td>\n",
       "      <td>6.420277</td>\n",
       "      <td>NaN</td>\n",
       "      <td>NaN</td>\n",
       "      <td>NaN</td>\n",
       "      <td>NaN</td>\n",
       "      <td>NaN</td>\n",
       "      <td>NaN</td>\n",
       "      <td>NaN</td>\n",
       "      <td>NaN</td>\n",
       "      <td>NaN</td>\n",
       "      <td>NaN</td>\n",
       "      <td>NaN</td>\n",
       "      <td>NaN</td>\n",
       "    </tr>\n",
       "  </tbody>\n",
       "</table>\n",
       "</div>"
      ],
      "text/plain": [
       "        Date  RER Index  Growth (%)  Real Exchange Rate Growth (%)  \\\n",
       "0 1959-12-01   6.520281         NaN                            NaN   \n",
       "1 1959-12-31        NaN         NaN                            NaN   \n",
       "2 1960-01-01   6.413193         NaN                            NaN   \n",
       "3 1960-01-31        NaN         0.0                      -1.642377   \n",
       "4 1960-02-01   6.420277         NaN                            NaN   \n",
       "\n",
       "   France Inflation (%)  US Inflation (%)  France IP Growth (%)  \\\n",
       "0                   NaN               NaN                   NaN   \n",
       "1                   NaN               NaN                   NaN   \n",
       "2                   NaN               NaN                   NaN   \n",
       "3              1.323986         -0.340136             -3.869477   \n",
       "4                   NaN               NaN                   NaN   \n",
       "\n",
       "   US IP Growth (%)  France YoY IP Growth (%)  US YoY IP Growth (%)  \\\n",
       "0               NaN                       NaN                   NaN   \n",
       "1               NaN                       NaN                   NaN   \n",
       "2               NaN                       NaN                   NaN   \n",
       "3          2.917232                       NaN                   NaN   \n",
       "4               NaN                       NaN                   NaN   \n",
       "\n",
       "   France Reserves Index  US Reserves Index_x  US Inflation Rate (%)  \\\n",
       "0                    NaN                  NaN                    NaN   \n",
       "1              96.604962           100.508513                    NaN   \n",
       "2                    NaN                  NaN                    NaN   \n",
       "3              97.606777           100.385124              -0.340136   \n",
       "4                    NaN                  NaN                    NaN   \n",
       "\n",
       "   US Reserves Index_y  \n",
       "0                  NaN  \n",
       "1           100.508513  \n",
       "2                  NaN  \n",
       "3           100.385124  \n",
       "4                  NaN  "
      ]
     },
     "metadata": {},
     "output_type": "display_data"
    }
   ],
   "source": [
    "import pandas as pd\n",
    "\n",
    "# List of DataFrames\n",
    "dfs = {\n",
    "    \"monthly_growth_df\": monthly_growth_df,\n",
    "    \"monthly_growth_rer_df\": monthly_growth_rer_df,\n",
    "    \"rer_index_df\": rer_index_df,\n",
    "    \"inflation_df\": inflation_df,\n",
    "    \"industrial_production_df\": industrial_production_df,\n",
    "    \"industrial_production_yoy_df\": industrial_production_yoy_df,\n",
    "    \"reserves_index_df\": reserves_index_df,\n",
    "    \"us_data_df\": us_data_df\n",
    "}\n",
    "\n",
    "# Identify a reference DataFrame with a 'Date' column\n",
    "reference_df = None\n",
    "for name, df in dfs.items():\n",
    "    if \"Date\" in df.columns:\n",
    "        reference_df = df\n",
    "        break\n",
    "\n",
    "# Ensure a valid reference DataFrame is found\n",
    "if reference_df is None:\n",
    "    raise ValueError(\"No DataFrame with a 'Date' column found!\")\n",
    "\n",
    "# Get the earliest date from the reference DataFrame\n",
    "start_date = reference_df[\"Date\"].min()\n",
    "\n",
    "# Convert DataFrames with 'Month' instead of 'Date'\n",
    "for name, df in dfs.items():\n",
    "    if \"Month\" in df.columns and \"Date\" not in df.columns:\n",
    "        # Convert 'Month' to a Date format using start_date\n",
    "        df[\"Date\"] = pd.date_range(start=start_date, periods=len(df), freq=\"M\")\n",
    "\n",
    "# Standardize all Date formats and drop the 'Month' column if present\n",
    "for name, df in dfs.items():\n",
    "    if \"Date\" in df.columns:\n",
    "        df[\"Date\"] = pd.to_datetime(df[\"Date\"])  # Ensure Date is in proper format\n",
    "    if \"Month\" in df.columns:\n",
    "        df.drop(columns=[\"Month\"], inplace=True)  # Drop Month column to avoid conflicts\n",
    "\n",
    "# Merge all DataFrames on 'Date' using an outer join\n",
    "merged_df = reference_df.copy()\n",
    "for name, df in dfs.items():\n",
    "    if df is not reference_df:  # Ensure we're not merging the reference DF with itself\n",
    "        merged_df = merged_df.merge(df, on=\"Date\", how=\"outer\")\n",
    "\n",
    "# Show only the head of the merged DataFrame\n",
    "display(merged_df.head())  # This will show the first 5 rows by default\n",
    "\n",
    "# Optionally, save the merged dataset\n",
    "merged_df.to_csv(\"../Data/full_merged_dataset.csv\", index=False)\n",
    "merged_df.to_json(\"../Data/full_merged_dataset.json\", orient=\"records\", indent=4)\n"
   ]
  },
  {
   "cell_type": "markdown",
   "metadata": {},
   "source": [
    "# Question 5 \n",
    "### Zhu Zhu - changes to question 4 to be made above, dont put anything of Q4 here"
   ]
  },
  {
   "cell_type": "markdown",
   "metadata": {},
   "source": [
    " For the graphs in 5.2, you should clearly indicate the time at which your country left the Bretton\n",
    " Woods system if it is sensible to do so and show the relevant data for every month from January 1960\n",
    " to December 1990\n",
    "\n",
    " 5.2.1 Exchange Rate and International Reserve Graphs\n",
    "\n",
    " Plot the following time series graphs for your country versus the US dollar, presenting all the graphs\n",
    " together:\n",
    "\n",
    " • The monthly growth in the nominal exchange rate - used Ming's numbers\n",
    "\n",
    " • The level of the nominal exchange rate - im j taking raw nominal data idk what else it would be?\n",
    "\n",
    " • The monthly growth in the real exchange rate - Ming's data again\n",
    "\n",
    " • The real exchange rate index - thx Ming! note: weird date thing going on....."
   ]
  },
  {
   "cell_type": "markdown",
   "metadata": {},
   "source": [
    "# MZ'S UPDATED GRAPH CODE STARTS HERE (LEVEL OF NOMINAL EXCHANGE RATE IS WRONGGGGG)"
   ]
  },
  {
   "cell_type": "code",
   "execution_count": 82,
   "metadata": {},
   "outputs": [
    {
     "name": "stdout",
     "output_type": "stream",
     "text": [
      "Index(['Date', 'RER Index', 'Growth (%)', 'Real Exchange Rate Growth (%)',\n",
      "       'France Inflation (%)', 'US Inflation (%)', 'France IP Growth (%)',\n",
      "       'US IP Growth (%)', 'France YoY IP Growth (%)', 'US YoY IP Growth (%)',\n",
      "       'France Reserves Index', 'US Reserves Index_x', 'US Inflation Rate (%)',\n",
      "       'US Reserves Index_y'],\n",
      "      dtype='object')\n"
     ]
    }
   ],
   "source": [
    "print(merged_df.columns)\n"
   ]
  },
  {
   "cell_type": "code",
   "execution_count": 89,
   "metadata": {},
   "outputs": [
    {
     "name": "stdout",
     "output_type": "stream",
     "text": [
      "<class 'pandas.core.frame.DataFrame'>\n",
      "RangeIndex: 746 entries, 0 to 745\n",
      "Data columns (total 4 columns):\n",
      " #   Column                         Non-Null Count  Dtype         \n",
      "---  ------                         --------------  -----         \n",
      " 0   Date                           746 non-null    datetime64[ns]\n",
      " 1   Growth (%)                     372 non-null    float64       \n",
      " 2   Real Exchange Rate Growth (%)  372 non-null    float64       \n",
      " 3   RER Index                      373 non-null    float64       \n",
      "dtypes: datetime64[ns](1), float64(3)\n",
      "memory usage: 23.4 KB\n",
      "None\n",
      "        Date  Growth (%)  Real Exchange Rate Growth (%)  RER Index\n",
      "0 1959-12-01         NaN                            NaN   6.520281\n",
      "1 1959-12-31         NaN                            NaN        NaN\n",
      "2 1960-01-01         NaN                            NaN   6.413193\n",
      "3 1960-01-31         0.0                      -1.642377        NaN\n",
      "4 1960-02-01         NaN                            NaN   6.420277\n"
     ]
    }
   ],
   "source": [
    "print(merged_df[[\"Date\", \"Growth (%)\", \"Real Exchange Rate Growth (%)\", \"RER Index\"]].info())\n",
    "print(merged_df[[\"Date\", \"Growth (%)\", \"Real Exchange Rate Growth (%)\", \"RER Index\"]].head())\n"
   ]
  },
  {
   "cell_type": "code",
   "execution_count": 91,
   "metadata": {},
   "outputs": [
    {
     "data": {
      "image/png": "[encoded data removed]",
      "text/plain": [
       "<Figure size 1400x1000 with 4 Axes>"
      ]
     },
     "metadata": {},
     "output_type": "display_data"
    }
   ],
   "source": [
    "import pandas as pd\n",
    "import matplotlib.pyplot as plt\n",
    "\n",
    "# Load merged dataset\n",
    "file_path = \"../Data/full_merged_dataset.csv\"\n",
    "merged_df = pd.read_csv(file_path)\n",
    "\n",
    "# Convert Date column to datetime format\n",
    "merged_df[\"Date\"] = pd.to_datetime(merged_df[\"Date\"])\n",
    "\n",
    "# Drop missing values or interpolate\n",
    "merged_df = merged_df.interpolate()\n",
    "\n",
    "# Focus on recent years\n",
    "merged_df = merged_df[merged_df[\"Date\"] >= \"1980-01-01\"]\n",
    "\n",
    "# Plot time series graphs\n",
    "fig, axes = plt.subplots(2, 2, figsize=(14, 10))\n",
    "fig.suptitle(\"Exchange Rate Trends vs US Dollar\", fontsize=14)\n",
    "\n",
    "# 1. Monthly Growth in Nominal Exchange Rate\n",
    "if \"Growth (%)\" in merged_df.columns:\n",
    "    axes[0, 0].plot(merged_df[\"Date\"], merged_df[\"Growth (%)\"], label=\"Monthly Growth (Nominal)\", color=\"blue\", marker=\"o\")\n",
    "    axes[0, 0].set_title(\"Monthly Growth in Nominal Exchange Rate\")\n",
    "    axes[0, 0].set_ylabel(\"% Growth\")\n",
    "    axes[0, 0].legend()\n",
    "\n",
    "# 2. Level of Nominal Exchange Rate\n",
    "if \"Real Exchange Rate Growth (%)\" in merged_df.columns:\n",
    "    axes[0, 1].plot(merged_df[\"Date\"], merged_df[\"Real Exchange Rate Growth (%)\"], label=\"Nominal Exchange Rate\", color=\"green\", marker=\"o\")\n",
    "    axes[0, 1].set_title(\"Level of Nominal Exchange Rate\")\n",
    "    axes[0, 1].set_ylabel(\"Exchange Rate\")\n",
    "    axes[0, 1].legend()\n",
    "\n",
    "# 3. Monthly Growth in Real Exchange Rate\n",
    "if \"Real Exchange Rate Growth (%)\" in merged_df.columns:\n",
    "    axes[1, 0].plot(merged_df[\"Date\"], merged_df[\"Real Exchange Rate Growth (%)\"], label=\"Monthly Growth (Real)\", color=\"red\", marker=\"o\")\n",
    "    axes[1, 0].set_title(\"Monthly Growth in Real Exchange Rate\")\n",
    "    axes[1, 0].set_ylabel(\"% Growth\")\n",
    "    axes[1, 0].legend()\n",
    "\n",
    "# 4. Real Exchange Rate Index\n",
    "if \"RER Index\" in merged_df.columns:\n",
    "    axes[1, 1].plot(merged_df[\"Date\"], merged_df[\"RER Index\"], label=\"Real Exchange Rate Index\", color=\"purple\", marker=\"o\")\n",
    "    axes[1, 1].set_title(\"Real Exchange Rate Index\")\n",
    "    axes[1, 1].set_ylabel(\"Index\")\n",
    "    axes[1, 1].legend()\n",
    "\n",
    "# Formatting\n",
    "for ax in axes.flat:\n",
    "    ax.set_xlabel(\"Date\")\n",
    "    ax.grid(True)\n",
    "    ax.legend()\n",
    "\n",
    "plt.tight_layout(rect=[0, 0, 1, 0.96])\n",
    "plt.show()\n"
   ]
  },
  {
   "cell_type": "markdown",
   "metadata": {},
   "source": [
    "# MZ'S UPDATED CODE ENDS HERE"
   ]
  },
  {
   "cell_type": "code",
   "execution_count": 84,
   "metadata": {},
   "outputs": [
    {
     "data": {
      "text/html": [
       "\n",
       "            <div id=\"IkZ9RO\"></div>\n",
       "            <script type=\"text/javascript\" data-lets-plot-script=\"library\">\n",
       "                if(!window.letsPlotCallQueue) {\n",
       "                    window.letsPlotCallQueue = [];\n",
       "                }; \n",
       "                window.letsPlotCall = function(f) {\n",
       "                    window.letsPlotCallQueue.push(f);\n",
       "                };\n",
       "                (function() {\n",
       "                    var script = document.createElement(\"script\");\n",
       "                    script.type = \"text/javascript\";\n",
       "                    script.src = \"https://cdn.jsdelivr.net/gh/JetBrains/lets-plot@v4.5.2/js-package/distr/lets-plot.min.js\";\n",
       "                    script.onload = function() {\n",
       "                        window.letsPlotCall = function(f) {f();};\n",
       "                        window.letsPlotCallQueue.forEach(function(f) {f();});\n",
       "                        window.letsPlotCallQueue = [];\n",
       "                        \n",
       "                    };\n",
       "                    script.onerror = function(event) {\n",
       "                        window.letsPlotCall = function(f) {};    // noop\n",
       "                        window.letsPlotCallQueue = [];\n",
       "                        var div = document.createElement(\"div\");\n",
       "                        div.style.color = 'darkred';\n",
       "                        div.textContent = 'Error loading Lets-Plot JS';\n",
       "                        document.getElementById(\"IkZ9RO\").appendChild(div);\n",
       "                    };\n",
       "                    var e = document.getElementById(\"IkZ9RO\");\n",
       "                    e.appendChild(script);\n",
       "                })()\n",
       "            </script>\n",
       "            "
      ]
     },
     "metadata": {},
     "output_type": "display_data"
    }
   ],
   "source": [
    "import pandas as pd\n",
    "import sqlite3\n",
    "import json\n",
    "import numpy as np\n",
    "from lets_plot import *\n",
    "LetsPlot.setup_html()\n",
    "import datetime"
   ]
  },
  {
   "cell_type": "code",
   "execution_count": 85,
   "metadata": {},
   "outputs": [
    {
     "data": {
      "text/html": [
       "<div>\n",
       "<style scoped>\n",
       "    .dataframe tbody tr th:only-of-type {\n",
       "        vertical-align: middle;\n",
       "    }\n",
       "\n",
       "    .dataframe tbody tr th {\n",
       "        vertical-align: top;\n",
       "    }\n",
       "\n",
       "    .dataframe thead th {\n",
       "        text-align: right;\n",
       "    }\n",
       "</style>\n",
       "<table border=\"1\" class=\"dataframe\">\n",
       "  <thead>\n",
       "    <tr style=\"text-align: right;\">\n",
       "      <th></th>\n",
       "      <th>Month</th>\n",
       "      <th>Growth (%)</th>\n",
       "    </tr>\n",
       "  </thead>\n",
       "  <tbody>\n",
       "    <tr>\n",
       "      <th>0</th>\n",
       "      <td>1</td>\n",
       "      <td>NaN</td>\n",
       "    </tr>\n",
       "    <tr>\n",
       "      <th>1</th>\n",
       "      <td>2</td>\n",
       "      <td>0.0</td>\n",
       "    </tr>\n",
       "    <tr>\n",
       "      <th>2</th>\n",
       "      <td>3</td>\n",
       "      <td>0.0</td>\n",
       "    </tr>\n",
       "    <tr>\n",
       "      <th>3</th>\n",
       "      <td>4</td>\n",
       "      <td>0.0</td>\n",
       "    </tr>\n",
       "    <tr>\n",
       "      <th>4</th>\n",
       "      <td>5</td>\n",
       "      <td>0.0</td>\n",
       "    </tr>\n",
       "  </tbody>\n",
       "</table>\n",
       "</div>"
      ],
      "text/plain": [
       "   Month  Growth (%)\n",
       "0      1         NaN\n",
       "1      2         0.0\n",
       "2      3         0.0\n",
       "3      4         0.0\n",
       "4      5         0.0"
      ]
     },
     "metadata": {},
     "output_type": "display_data"
    }
   ],
   "source": [
    "df_graph_1 = pd.read_json('../Data/monthly_nominal_exchange_rate_growth.json')\n",
    "\n",
    "# Display the first few rows\n",
    "display(df_graph_1.head())"
   ]
  },
  {
   "cell_type": "code",
   "execution_count": 86,
   "metadata": {},
   "outputs": [
    {
     "name": "stderr",
     "output_type": "stream",
     "text": [
      "C:\\Users\\Xueli\\AppData\\Local\\Temp\\ipykernel_16996\\610503480.py:3: FutureWarning: A value is trying to be set on a copy of a DataFrame or Series through chained assignment using an inplace method.\n",
      "The behavior will change in pandas 3.0. This inplace method will never work because the intermediate object on which we are setting values always behaves as a copy.\n",
      "\n",
      "For example, when doing 'df[col].method(value, inplace=True)', try using 'df.method({col: value}, inplace=True)' or df[col] = df[col].method(value) instead, to perform the operation inplace on the original object.\n",
      "\n",
      "\n",
      "  df_graph_1['Growth (%)'].fillna(0, inplace=True)\n"
     ]
    },
    {
     "data": {
      "text/html": [
       "   <div id=\"ORMIl2\"></div>\n",
       "   <script type=\"text/javascript\" data-lets-plot-script=\"plot\">\n",
       "   \n",
       "   (function() {\n",
       "   // ----------\n",
       "   \n",
       "   var containerDiv = document.getElementById(\"ORMIl2\");\n",
       "   var observer = new ResizeObserver(function(entries) {\n",
       "       for (let entry of entries) {\n",
       "           var width = containerDiv.clientWidth\n",
       "           if (entry.contentBoxSize && width > 0) {\n",
       "           \n",
       "               // Render plot\n",
       "               if (observer) {\n",
       "                   observer.disconnect();\n",
       "                   observer = null;\n",
       "               }\n",
       "\n",
       "               var plotSpec={\n",
       "\"data\":{\n",
       "\"Month\":[2.0,3.0,4.0,5.0,6.0,7.0,8.0,9.0,10.0,11.0,12.0,13.0,14.0,15.0,16.0,17.0,18.0,19.0,20.0,21.0,22.0,23.0,24.0,25.0,26.0,27.0,28.0,29.0,30.0,31.0,32.0,33.0,34.0,35.0,36.0,37.0,38.0,39.0,40.0,41.0,42.0,43.0,44.0,45.0,46.0,47.0,48.0,49.0,50.0,51.0,52.0,53.0,54.0,55.0,56.0,57.0,58.0,59.0,60.0,61.0,62.0,63.0,64.0,65.0,66.0,67.0,68.0,69.0,70.0,71.0,72.0,73.0,74.0,75.0,76.0,77.0,78.0,79.0,80.0,81.0,82.0,83.0,84.0,85.0,86.0,87.0,88.0,89.0,90.0,91.0,92.0,93.0,94.0,95.0,96.0,97.0,98.0,99.0,100.0,101.0,102.0,103.0,104.0,105.0,106.0,107.0,108.0,109.0,110.0,111.0,112.0,113.0,114.0,115.0,116.0,117.0,118.0,119.0,120.0,121.0,122.0,123.0,124.0,125.0,126.0,127.0,128.0,129.0,130.0,131.0,132.0,133.0,134.0,135.0,136.0,137.0,138.0,139.0,140.0,141.0,142.0,143.0,144.0,145.0,146.0,147.0,148.0,149.0,150.0,151.0,152.0,153.0,154.0,155.0,156.0,157.0,158.0,159.0,160.0,161.0,162.0,163.0,164.0,165.0,166.0,167.0,168.0,169.0,170.0,171.0,172.0,173.0,174.0,175.0,176.0,177.0,178.0,179.0,180.0,181.0,182.0,183.0,184.0,185.0,186.0,187.0,188.0,189.0,190.0,191.0,192.0,193.0,194.0,195.0,196.0,197.0,198.0,199.0,200.0,201.0,202.0,203.0,204.0,205.0,206.0,207.0,208.0,209.0,210.0,211.0,212.0,213.0,214.0,215.0,216.0,217.0,218.0,219.0,220.0,221.0,222.0,223.0,224.0,225.0,226.0,227.0,228.0,229.0,230.0,231.0,232.0,233.0,234.0,235.0,236.0,237.0,238.0,239.0,240.0,241.0,242.0,243.0,244.0,245.0,246.0,247.0,248.0,249.0,250.0,251.0,252.0,253.0,254.0,255.0,256.0,257.0,258.0,259.0,260.0,261.0,262.0,263.0,264.0,265.0,266.0,267.0,268.0,269.0,270.0,271.0,272.0,273.0,274.0,275.0,276.0,277.0,278.0,279.0,280.0,281.0,282.0,283.0,284.0,285.0,286.0,287.0,288.0,289.0,290.0,291.0,292.0,293.0,294.0,295.0,296.0,297.0,298.0,299.0,300.0,301.0,302.0,303.0,304.0,305.0,306.0,307.0,308.0,309.0,310.0,311.0,312.0,313.0,314.0,315.0,316.0,317.0,318.0,319.0,320.0,321.0,322.0,323.0,324.0,325.0,326.0,327.0,328.0,329.0,330.0,331.0,332.0,333.0,334.0,335.0,336.0,337.0,338.0,339.0,340.0,341.0,342.0,343.0,344.0,345.0,346.0,347.0,348.0,349.0,350.0,351.0,352.0,353.0,354.0,355.0,356.0,357.0,358.0,359.0,360.0,361.0,362.0,363.0,364.0,365.0,366.0,367.0,368.0,369.0,370.0,371.0,372.0,373.0],\n",
       "\"Growth (%)\":[0.0,0.0,0.0,0.0,0.0,0.0,0.0,0.0,0.0,0.0,0.0,0.0,0.0,0.0,0.0,0.0,0.0,0.0,0.0,0.0,0.0,0.0,0.0,0.0,0.0,0.0,0.0,0.0,0.0,0.0,0.0,0.0,0.0,0.0,0.0,0.0,0.0,0.0,0.0,0.0,0.0,0.0,0.0,0.0,0.0,0.0,0.0,0.0,0.0,0.0,0.0,0.0,0.0,0.0,0.0,0.0,0.0,0.0,0.0,0.0,0.0,0.0,0.0,0.0,0.0,0.0,0.0,0.0,0.0,0.0,0.0,0.0,0.0,0.0,0.0,0.0,0.0,0.0,0.0,0.0,0.0,0.0,0.0,0.0,0.0,0.0,0.0,0.0,0.0,0.0,0.0,0.0,0.0,0.0,0.0,0.0,0.0,0.0,0.0,0.0,0.0,0.0,0.0,0.0,0.0,0.0,0.0,0.0,0.0,0.0,0.0,0.0,0.0,0.0,0.0,12.4999493651,0.0,0.0,0.0,0.0,0.0,0.0,0.0,0.0,0.0,0.0,0.0,0.0,0.0,0.0,0.0,0.0,0.0,0.0,0.0,0.0,0.0,0.0,0.0,0.0,0.0,0.0,0.0,-2.9358699984000003,-4.0353872422,-1.6335877863000001,-0.9326947316,-0.08563368930000001,-0.4612916165,0.0351105984,-0.2651325663,0.0200140098,0.0450518096,0.35667637900000004,0.33771863500000004,0.9258788167,-0.07117075390000001,-6.270548435,-5.4256230006,1.0565144133,-1.7098607941,-4.8185071577,-4.7982153723,4.7944914311,0.2599505711,-1.0624841893,4.5444527705,4.2744863724,9.3041949264,-1.3969386239000001,-2.6757304022,0.9785307434,0.0048685492,0.6468051745,-2.7449485323,0.3442999235,0.3888435457,-1.4197151058,-1.1831275721,-3.2792075627,-3.4246276156,-2.1248396752,-1.7392034953,-0.008401243400000001,-3.4435205842,-1.2654679429,5.5454583882,3.5495448181,2.1504895606,-1.4409094916,0.0440839358,1.141430355,0.3984063745,-0.053688873000000005,3.2045066214,1.1489421373,1.4306693828000001,2.2178102756,2.5830808208000002,-0.9983279237,1.3053009168,0.1496856601,-0.0648217402,-0.2635766909,0.1244833989,0.0398505604,-0.28808423980000003,-0.2823179792,-0.24703557310000002,-1.7809482216,0.9404849376000001,0.4971940534,-1.2637309226,-0.0268192254,-0.111129404,-1.2423256008,-1.5979972883,2.5864444874,-2.5914980683,-2.7325766421,1.4461142717,-1.4835519243,-3.1209079004999998,-1.7706690921,0.0344005137,-3.1660514920000002,3.3405938026,-1.0240784669,-1.8286190458,0.8252381639,0.2642532856,1.471720117,1.303268515,-0.9620402516000001,-2.7560768638,0.29920369410000003,-1.343574566,-0.08333137310000001,-0.8554543919,-2.276059341,-0.6837186426,1.4214253879,5.3227854296,0.6676557865,-3.7145357414999998,-1.6335414129,-1.4005057385000002,2.3426711389,0.20721892930000002,2.0150043527,4.8649412860000005,2.6612721966,1.6136095155999999,7.0457434444,0.038243996700000005,2.728370242,7.509401422,3.1371834584,2.4411785491,3.1399799985,-5.6373819286,-0.34548126430000003,-0.1795619578,1.79706841,1.9158093642,3.3012308807,2.0723235953,1.6492730502000001,-3.6822884812,9.4055042654,4.0446261653,1.0328405307,2.1443340711,1.1763540105,0.9430134458,-4.9537749324,-1.2818456246,1.6604130354,1.8759626845000001,4.3589268146,1.5512881981,3.1399730686,1.5176229564,3.3523574481000002,0.24874384360000001,-1.3820654064,2.8104164048999998,2.5622828059,2.509007624,-3.1307829285,-3.8603405101,1.3971856459,4.1448925261,-0.3562172333,3.7981899689,1.4005217632,4.7066125146,1.4893685702,-2.5824811679,3.5175112436,2.1207143461,3.8409189441000002,0.4051356807,-6.9257775807,0.6322254442,-1.3863811545,-4.9435723922,-3.9830136184000002,1.579052334,-6.827814799,-2.1431670282,-2.4852430775,-2.6031383144999998,-4.4798612963,-2.7813071584999998,3.3534877709,-1.1352898672,0.203803393,-2.83762554,-2.8973999913,-0.6868662841000001,-1.9595808383,1.1558840146,-1.2377732158,-5.3264657333,-1.7742117753,0.3319965814,-1.1974576549,-1.0262787035,1.7656124363,1.2576131687,0.8225769743,-2.413737504,-0.5353336748,-5.2044053888,-2.9737496933000003,0.6935288699000001,2.8984987355,-0.7443044153,-0.2458642127,0.9453892469,3.2787457054,4.9528023101,2.8317672802000002,-0.6399424208000001,-2.0912397839,-3.9774829111,0.4405212556,4.2324689402,0.9103563029,0.2790461695,0.0,4.6135846193,1.5763383006,-4.4220268119,1.2173669381,1.3995908888,-3.9421195529,-1.7843044370999999,-4.4115755627,-3.125,-1.1632348345,1.090851602,-1.4856904551,-1.2488093978,1.1824384668,-2.9003671798,-4.1341696209,-0.2958411561,-2.9006181645,-2.0470127326,1.3178682132000001]\n",
       "},\n",
       "\"mapping\":{\n",
       "\"x\":\"Month\",\n",
       "\"y\":\"Growth (%)\"\n",
       "},\n",
       "\"data_meta\":{\n",
       "\"series_annotations\":[{\n",
       "\"type\":\"int\",\n",
       "\"column\":\"Month\"\n",
       "},{\n",
       "\"type\":\"float\",\n",
       "\"column\":\"Growth (%)\"\n",
       "}]\n",
       "},\n",
       "\"ggtitle\":{\n",
       "\"text\":\"Monthly Nominal Growth Over Time\"\n",
       "},\n",
       "\"guides\":{\n",
       "\"x\":{\n",
       "\"title\":\"Month\"\n",
       "},\n",
       "\"y\":{\n",
       "\"title\":\"Growth (%)\"\n",
       "}\n",
       "},\n",
       "\"ggsize\":{\n",
       "\"width\":800.0,\n",
       "\"height\":400.0\n",
       "},\n",
       "\"kind\":\"plot\",\n",
       "\"scales\":[],\n",
       "\"layers\":[{\n",
       "\"geom\":\"line\",\n",
       "\"mapping\":{\n",
       "},\n",
       "\"data_meta\":{\n",
       "},\n",
       "\"color\":\"blue\",\n",
       "\"size\":1.0,\n",
       "\"data\":{\n",
       "}\n",
       "}],\n",
       "\"metainfo_list\":[],\n",
       "\"spec_id\":\"2\"\n",
       "};\n",
       "               window.letsPlotCall(function() {\n",
       "       \n",
       "               var toolbar = null;\n",
       "               var plotContainer = containerDiv;               \n",
       "               \n",
       "                   var options = {\n",
       "                       sizing: {\n",
       "                           width_mode: \"min\",\n",
       "                           height_mode: \"scaled\",\n",
       "                           width: width\n",
       "                       }\n",
       "                   };\n",
       "                   var fig = LetsPlot.buildPlotFromProcessedSpecs(plotSpec, -1, -1, plotContainer, options);\n",
       "                   if (toolbar) {\n",
       "                     toolbar.bind(fig);\n",
       "                   }\n",
       "               });\n",
       "               \n",
       "               break;\n",
       "           }\n",
       "       }\n",
       "   });\n",
       "   \n",
       "   observer.observe(containerDiv);\n",
       "   \n",
       "   // ----------\n",
       "   })();\n",
       "   \n",
       "   </script>"
      ],
      "text/plain": [
       "<lets_plot.plot.core.PlotSpec at 0x2bb6433baf0>"
      ]
     },
     "metadata": {},
     "output_type": "display_data"
    }
   ],
   "source": [
    "df_graph_1['Growth (%)'] = pd.to_numeric(df_graph_1['Growth (%)'], errors='coerce')\n",
    "df_graph_1 = df_graph_1.dropna(subset=['Growth (%)'])\n",
    "df_graph_1['Growth (%)'].fillna(0, inplace=True)\n",
    "\n",
    "a =   ggplot(df_graph_1, aes(x='Month', y='Growth (%)')) + \\\n",
    "        geom_line(color='blue', size=1) + \\\n",
    "        labs(title='Monthly Nominal Growth Over Time', x='Month', y='Growth (%)') + \\\n",
    "        ggsize(800, 400)\n",
    "\n",
    "display(a)"
   ]
  },
  {
   "cell_type": "code",
   "execution_count": 87,
   "metadata": {},
   "outputs": [
    {
     "ename": "BadZipFile",
     "evalue": "File is not a zip file",
     "output_type": "error",
     "traceback": [
      "\u001b[1;31m---------------------------------------------------------------------------\u001b[0m",
      "\u001b[1;31mBadZipFile\u001b[0m                                Traceback (most recent call last)",
      "Cell \u001b[1;32mIn[87], line 1\u001b[0m\n\u001b[1;32m----> 1\u001b[0m nominal_rate_df \u001b[38;5;241m=\u001b[39m \u001b[43mpd\u001b[49m\u001b[38;5;241;43m.\u001b[39;49m\u001b[43mread_excel\u001b[49m\u001b[43m(\u001b[49m\u001b[43mfile_path\u001b[49m\u001b[43m,\u001b[49m\u001b[43m \u001b[49m\u001b[43mheader\u001b[49m\u001b[38;5;241;43m=\u001b[39;49m\u001b[38;5;241;43m1\u001b[39;49m\u001b[43m,\u001b[49m\u001b[43m \u001b[49m\u001b[43mengine\u001b[49m\u001b[38;5;241;43m=\u001b[39;49m\u001b[38;5;124;43m\"\u001b[39;49m\u001b[38;5;124;43mopenpyxl\u001b[39;49m\u001b[38;5;124;43m\"\u001b[39;49m\u001b[43m)\u001b[49m\n\u001b[0;32m      2\u001b[0m nominal_rate_df\u001b[38;5;241m.\u001b[39mcolumns \u001b[38;5;241m=\u001b[39m nominal_rate_df\u001b[38;5;241m.\u001b[39mcolumns\u001b[38;5;241m.\u001b[39mastype(\u001b[38;5;28mstr\u001b[39m)\n\u001b[0;32m      4\u001b[0m \u001b[38;5;66;03m# Select only relevant columns (not four-digit years) and filter for France Exchange Rates\u001b[39;00m\n",
      "File \u001b[1;32mc:\\Users\\Xueli\\AppData\\Local\\Programs\\Python\\Python313\\Lib\\site-packages\\pandas\\io\\excel\\_base.py:495\u001b[0m, in \u001b[0;36mread_excel\u001b[1;34m(io, sheet_name, header, names, index_col, usecols, dtype, engine, converters, true_values, false_values, skiprows, nrows, na_values, keep_default_na, na_filter, verbose, parse_dates, date_parser, date_format, thousands, decimal, comment, skipfooter, storage_options, dtype_backend, engine_kwargs)\u001b[0m\n\u001b[0;32m    493\u001b[0m \u001b[38;5;28;01mif\u001b[39;00m \u001b[38;5;129;01mnot\u001b[39;00m \u001b[38;5;28misinstance\u001b[39m(io, ExcelFile):\n\u001b[0;32m    494\u001b[0m     should_close \u001b[38;5;241m=\u001b[39m \u001b[38;5;28;01mTrue\u001b[39;00m\n\u001b[1;32m--> 495\u001b[0m     io \u001b[38;5;241m=\u001b[39m \u001b[43mExcelFile\u001b[49m\u001b[43m(\u001b[49m\n\u001b[0;32m    496\u001b[0m \u001b[43m        \u001b[49m\u001b[43mio\u001b[49m\u001b[43m,\u001b[49m\n\u001b[0;32m    497\u001b[0m \u001b[43m        \u001b[49m\u001b[43mstorage_options\u001b[49m\u001b[38;5;241;43m=\u001b[39;49m\u001b[43mstorage_options\u001b[49m\u001b[43m,\u001b[49m\n\u001b[0;32m    498\u001b[0m \u001b[43m        \u001b[49m\u001b[43mengine\u001b[49m\u001b[38;5;241;43m=\u001b[39;49m\u001b[43mengine\u001b[49m\u001b[43m,\u001b[49m\n\u001b[0;32m    499\u001b[0m \u001b[43m        \u001b[49m\u001b[43mengine_kwargs\u001b[49m\u001b[38;5;241;43m=\u001b[39;49m\u001b[43mengine_kwargs\u001b[49m\u001b[43m,\u001b[49m\n\u001b[0;32m    500\u001b[0m \u001b[43m    \u001b[49m\u001b[43m)\u001b[49m\n\u001b[0;32m    501\u001b[0m \u001b[38;5;28;01melif\u001b[39;00m engine \u001b[38;5;129;01mand\u001b[39;00m engine \u001b[38;5;241m!=\u001b[39m io\u001b[38;5;241m.\u001b[39mengine:\n\u001b[0;32m    502\u001b[0m     \u001b[38;5;28;01mraise\u001b[39;00m \u001b[38;5;167;01mValueError\u001b[39;00m(\n\u001b[0;32m    503\u001b[0m         \u001b[38;5;124m\"\u001b[39m\u001b[38;5;124mEngine should not be specified when passing \u001b[39m\u001b[38;5;124m\"\u001b[39m\n\u001b[0;32m    504\u001b[0m         \u001b[38;5;124m\"\u001b[39m\u001b[38;5;124man ExcelFile - ExcelFile already has the engine set\u001b[39m\u001b[38;5;124m\"\u001b[39m\n\u001b[0;32m    505\u001b[0m     )\n",
      "File \u001b[1;32mc:\\Users\\Xueli\\AppData\\Local\\Programs\\Python\\Python313\\Lib\\site-packages\\pandas\\io\\excel\\_base.py:1567\u001b[0m, in \u001b[0;36mExcelFile.__init__\u001b[1;34m(self, path_or_buffer, engine, storage_options, engine_kwargs)\u001b[0m\n\u001b[0;32m   1564\u001b[0m \u001b[38;5;28mself\u001b[39m\u001b[38;5;241m.\u001b[39mengine \u001b[38;5;241m=\u001b[39m engine\n\u001b[0;32m   1565\u001b[0m \u001b[38;5;28mself\u001b[39m\u001b[38;5;241m.\u001b[39mstorage_options \u001b[38;5;241m=\u001b[39m storage_options\n\u001b[1;32m-> 1567\u001b[0m \u001b[38;5;28mself\u001b[39m\u001b[38;5;241m.\u001b[39m_reader \u001b[38;5;241m=\u001b[39m \u001b[38;5;28;43mself\u001b[39;49m\u001b[38;5;241;43m.\u001b[39;49m\u001b[43m_engines\u001b[49m\u001b[43m[\u001b[49m\u001b[43mengine\u001b[49m\u001b[43m]\u001b[49m\u001b[43m(\u001b[49m\n\u001b[0;32m   1568\u001b[0m \u001b[43m    \u001b[49m\u001b[38;5;28;43mself\u001b[39;49m\u001b[38;5;241;43m.\u001b[39;49m\u001b[43m_io\u001b[49m\u001b[43m,\u001b[49m\n\u001b[0;32m   1569\u001b[0m \u001b[43m    \u001b[49m\u001b[43mstorage_options\u001b[49m\u001b[38;5;241;43m=\u001b[39;49m\u001b[43mstorage_options\u001b[49m\u001b[43m,\u001b[49m\n\u001b[0;32m   1570\u001b[0m \u001b[43m    \u001b[49m\u001b[43mengine_kwargs\u001b[49m\u001b[38;5;241;43m=\u001b[39;49m\u001b[43mengine_kwargs\u001b[49m\u001b[43m,\u001b[49m\n\u001b[0;32m   1571\u001b[0m \u001b[43m\u001b[49m\u001b[43m)\u001b[49m\n",
      "File \u001b[1;32mc:\\Users\\Xueli\\AppData\\Local\\Programs\\Python\\Python313\\Lib\\site-packages\\pandas\\io\\excel\\_openpyxl.py:553\u001b[0m, in \u001b[0;36mOpenpyxlReader.__init__\u001b[1;34m(self, filepath_or_buffer, storage_options, engine_kwargs)\u001b[0m\n\u001b[0;32m    541\u001b[0m \u001b[38;5;250m\u001b[39m\u001b[38;5;124;03m\"\"\"\u001b[39;00m\n\u001b[0;32m    542\u001b[0m \u001b[38;5;124;03mReader using openpyxl engine.\u001b[39;00m\n\u001b[0;32m    543\u001b[0m \n\u001b[1;32m   (...)\u001b[0m\n\u001b[0;32m    550\u001b[0m \u001b[38;5;124;03m    Arbitrary keyword arguments passed to excel engine.\u001b[39;00m\n\u001b[0;32m    551\u001b[0m \u001b[38;5;124;03m\"\"\"\u001b[39;00m\n\u001b[0;32m    552\u001b[0m import_optional_dependency(\u001b[38;5;124m\"\u001b[39m\u001b[38;5;124mopenpyxl\u001b[39m\u001b[38;5;124m\"\u001b[39m)\n\u001b[1;32m--> 553\u001b[0m \u001b[38;5;28;43msuper\u001b[39;49m\u001b[43m(\u001b[49m\u001b[43m)\u001b[49m\u001b[38;5;241;43m.\u001b[39;49m\u001b[38;5;21;43m__init__\u001b[39;49m\u001b[43m(\u001b[49m\n\u001b[0;32m    554\u001b[0m \u001b[43m    \u001b[49m\u001b[43mfilepath_or_buffer\u001b[49m\u001b[43m,\u001b[49m\n\u001b[0;32m    555\u001b[0m \u001b[43m    \u001b[49m\u001b[43mstorage_options\u001b[49m\u001b[38;5;241;43m=\u001b[39;49m\u001b[43mstorage_options\u001b[49m\u001b[43m,\u001b[49m\n\u001b[0;32m    556\u001b[0m \u001b[43m    \u001b[49m\u001b[43mengine_kwargs\u001b[49m\u001b[38;5;241;43m=\u001b[39;49m\u001b[43mengine_kwargs\u001b[49m\u001b[43m,\u001b[49m\n\u001b[0;32m    557\u001b[0m \u001b[43m\u001b[49m\u001b[43m)\u001b[49m\n",
      "File \u001b[1;32mc:\\Users\\Xueli\\AppData\\Local\\Programs\\Python\\Python313\\Lib\\site-packages\\pandas\\io\\excel\\_base.py:573\u001b[0m, in \u001b[0;36mBaseExcelReader.__init__\u001b[1;34m(self, filepath_or_buffer, storage_options, engine_kwargs)\u001b[0m\n\u001b[0;32m    571\u001b[0m \u001b[38;5;28mself\u001b[39m\u001b[38;5;241m.\u001b[39mhandles\u001b[38;5;241m.\u001b[39mhandle\u001b[38;5;241m.\u001b[39mseek(\u001b[38;5;241m0\u001b[39m)\n\u001b[0;32m    572\u001b[0m \u001b[38;5;28;01mtry\u001b[39;00m:\n\u001b[1;32m--> 573\u001b[0m     \u001b[38;5;28mself\u001b[39m\u001b[38;5;241m.\u001b[39mbook \u001b[38;5;241m=\u001b[39m \u001b[38;5;28;43mself\u001b[39;49m\u001b[38;5;241;43m.\u001b[39;49m\u001b[43mload_workbook\u001b[49m\u001b[43m(\u001b[49m\u001b[38;5;28;43mself\u001b[39;49m\u001b[38;5;241;43m.\u001b[39;49m\u001b[43mhandles\u001b[49m\u001b[38;5;241;43m.\u001b[39;49m\u001b[43mhandle\u001b[49m\u001b[43m,\u001b[49m\u001b[43m \u001b[49m\u001b[43mengine_kwargs\u001b[49m\u001b[43m)\u001b[49m\n\u001b[0;32m    574\u001b[0m \u001b[38;5;28;01mexcept\u001b[39;00m \u001b[38;5;167;01mException\u001b[39;00m:\n\u001b[0;32m    575\u001b[0m     \u001b[38;5;28mself\u001b[39m\u001b[38;5;241m.\u001b[39mclose()\n",
      "File \u001b[1;32mc:\\Users\\Xueli\\AppData\\Local\\Programs\\Python\\Python313\\Lib\\site-packages\\pandas\\io\\excel\\_openpyxl.py:572\u001b[0m, in \u001b[0;36mOpenpyxlReader.load_workbook\u001b[1;34m(self, filepath_or_buffer, engine_kwargs)\u001b[0m\n\u001b[0;32m    568\u001b[0m \u001b[38;5;28;01mfrom\u001b[39;00m\u001b[38;5;250m \u001b[39m\u001b[38;5;21;01mopenpyxl\u001b[39;00m\u001b[38;5;250m \u001b[39m\u001b[38;5;28;01mimport\u001b[39;00m load_workbook\n\u001b[0;32m    570\u001b[0m default_kwargs \u001b[38;5;241m=\u001b[39m {\u001b[38;5;124m\"\u001b[39m\u001b[38;5;124mread_only\u001b[39m\u001b[38;5;124m\"\u001b[39m: \u001b[38;5;28;01mTrue\u001b[39;00m, \u001b[38;5;124m\"\u001b[39m\u001b[38;5;124mdata_only\u001b[39m\u001b[38;5;124m\"\u001b[39m: \u001b[38;5;28;01mTrue\u001b[39;00m, \u001b[38;5;124m\"\u001b[39m\u001b[38;5;124mkeep_links\u001b[39m\u001b[38;5;124m\"\u001b[39m: \u001b[38;5;28;01mFalse\u001b[39;00m}\n\u001b[1;32m--> 572\u001b[0m \u001b[38;5;28;01mreturn\u001b[39;00m \u001b[43mload_workbook\u001b[49m\u001b[43m(\u001b[49m\n\u001b[0;32m    573\u001b[0m \u001b[43m    \u001b[49m\u001b[43mfilepath_or_buffer\u001b[49m\u001b[43m,\u001b[49m\n\u001b[0;32m    574\u001b[0m \u001b[43m    \u001b[49m\u001b[38;5;241;43m*\u001b[39;49m\u001b[38;5;241;43m*\u001b[39;49m\u001b[43m(\u001b[49m\u001b[43mdefault_kwargs\u001b[49m\u001b[43m \u001b[49m\u001b[38;5;241;43m|\u001b[39;49m\u001b[43m \u001b[49m\u001b[43mengine_kwargs\u001b[49m\u001b[43m)\u001b[49m\u001b[43m,\u001b[49m\n\u001b[0;32m    575\u001b[0m \u001b[43m\u001b[49m\u001b[43m)\u001b[49m\n",
      "File \u001b[1;32mc:\\Users\\Xueli\\AppData\\Local\\Programs\\Python\\Python313\\Lib\\site-packages\\openpyxl\\reader\\excel.py:346\u001b[0m, in \u001b[0;36mload_workbook\u001b[1;34m(filename, read_only, keep_vba, data_only, keep_links, rich_text)\u001b[0m\n\u001b[0;32m    316\u001b[0m \u001b[38;5;28;01mdef\u001b[39;00m\u001b[38;5;250m \u001b[39m\u001b[38;5;21mload_workbook\u001b[39m(filename, read_only\u001b[38;5;241m=\u001b[39m\u001b[38;5;28;01mFalse\u001b[39;00m, keep_vba\u001b[38;5;241m=\u001b[39mKEEP_VBA,\n\u001b[0;32m    317\u001b[0m                   data_only\u001b[38;5;241m=\u001b[39m\u001b[38;5;28;01mFalse\u001b[39;00m, keep_links\u001b[38;5;241m=\u001b[39m\u001b[38;5;28;01mTrue\u001b[39;00m, rich_text\u001b[38;5;241m=\u001b[39m\u001b[38;5;28;01mFalse\u001b[39;00m):\n\u001b[0;32m    318\u001b[0m \u001b[38;5;250m    \u001b[39m\u001b[38;5;124;03m\"\"\"Open the given filename and return the workbook\u001b[39;00m\n\u001b[0;32m    319\u001b[0m \n\u001b[0;32m    320\u001b[0m \u001b[38;5;124;03m    :param filename: the path to open or a file-like object\u001b[39;00m\n\u001b[1;32m   (...)\u001b[0m\n\u001b[0;32m    344\u001b[0m \n\u001b[0;32m    345\u001b[0m \u001b[38;5;124;03m    \"\"\"\u001b[39;00m\n\u001b[1;32m--> 346\u001b[0m     reader \u001b[38;5;241m=\u001b[39m \u001b[43mExcelReader\u001b[49m\u001b[43m(\u001b[49m\u001b[43mfilename\u001b[49m\u001b[43m,\u001b[49m\u001b[43m \u001b[49m\u001b[43mread_only\u001b[49m\u001b[43m,\u001b[49m\u001b[43m \u001b[49m\u001b[43mkeep_vba\u001b[49m\u001b[43m,\u001b[49m\n\u001b[0;32m    347\u001b[0m \u001b[43m                         \u001b[49m\u001b[43mdata_only\u001b[49m\u001b[43m,\u001b[49m\u001b[43m \u001b[49m\u001b[43mkeep_links\u001b[49m\u001b[43m,\u001b[49m\u001b[43m \u001b[49m\u001b[43mrich_text\u001b[49m\u001b[43m)\u001b[49m\n\u001b[0;32m    348\u001b[0m     reader\u001b[38;5;241m.\u001b[39mread()\n\u001b[0;32m    349\u001b[0m     \u001b[38;5;28;01mreturn\u001b[39;00m reader\u001b[38;5;241m.\u001b[39mwb\n",
      "File \u001b[1;32mc:\\Users\\Xueli\\AppData\\Local\\Programs\\Python\\Python313\\Lib\\site-packages\\openpyxl\\reader\\excel.py:123\u001b[0m, in \u001b[0;36mExcelReader.__init__\u001b[1;34m(self, fn, read_only, keep_vba, data_only, keep_links, rich_text)\u001b[0m\n\u001b[0;32m    121\u001b[0m \u001b[38;5;28;01mdef\u001b[39;00m\u001b[38;5;250m \u001b[39m\u001b[38;5;21m__init__\u001b[39m(\u001b[38;5;28mself\u001b[39m, fn, read_only\u001b[38;5;241m=\u001b[39m\u001b[38;5;28;01mFalse\u001b[39;00m, keep_vba\u001b[38;5;241m=\u001b[39mKEEP_VBA,\n\u001b[0;32m    122\u001b[0m              data_only\u001b[38;5;241m=\u001b[39m\u001b[38;5;28;01mFalse\u001b[39;00m, keep_links\u001b[38;5;241m=\u001b[39m\u001b[38;5;28;01mTrue\u001b[39;00m, rich_text\u001b[38;5;241m=\u001b[39m\u001b[38;5;28;01mFalse\u001b[39;00m):\n\u001b[1;32m--> 123\u001b[0m     \u001b[38;5;28mself\u001b[39m\u001b[38;5;241m.\u001b[39marchive \u001b[38;5;241m=\u001b[39m \u001b[43m_validate_archive\u001b[49m\u001b[43m(\u001b[49m\u001b[43mfn\u001b[49m\u001b[43m)\u001b[49m\n\u001b[0;32m    124\u001b[0m     \u001b[38;5;28mself\u001b[39m\u001b[38;5;241m.\u001b[39mvalid_files \u001b[38;5;241m=\u001b[39m \u001b[38;5;28mself\u001b[39m\u001b[38;5;241m.\u001b[39marchive\u001b[38;5;241m.\u001b[39mnamelist()\n\u001b[0;32m    125\u001b[0m     \u001b[38;5;28mself\u001b[39m\u001b[38;5;241m.\u001b[39mread_only \u001b[38;5;241m=\u001b[39m read_only\n",
      "File \u001b[1;32mc:\\Users\\Xueli\\AppData\\Local\\Programs\\Python\\Python313\\Lib\\site-packages\\openpyxl\\reader\\excel.py:95\u001b[0m, in \u001b[0;36m_validate_archive\u001b[1;34m(filename)\u001b[0m\n\u001b[0;32m     88\u001b[0m             msg \u001b[38;5;241m=\u001b[39m (\u001b[38;5;124m'\u001b[39m\u001b[38;5;124mopenpyxl does not support \u001b[39m\u001b[38;5;132;01m%s\u001b[39;00m\u001b[38;5;124m file format, \u001b[39m\u001b[38;5;124m'\u001b[39m\n\u001b[0;32m     89\u001b[0m                    \u001b[38;5;124m'\u001b[39m\u001b[38;5;124mplease check you can open \u001b[39m\u001b[38;5;124m'\u001b[39m\n\u001b[0;32m     90\u001b[0m                    \u001b[38;5;124m'\u001b[39m\u001b[38;5;124mit with Excel first. \u001b[39m\u001b[38;5;124m'\u001b[39m\n\u001b[0;32m     91\u001b[0m                    \u001b[38;5;124m'\u001b[39m\u001b[38;5;124mSupported formats are: \u001b[39m\u001b[38;5;132;01m%s\u001b[39;00m\u001b[38;5;124m'\u001b[39m) \u001b[38;5;241m%\u001b[39m (file_format,\n\u001b[0;32m     92\u001b[0m                                                    \u001b[38;5;124m'\u001b[39m\u001b[38;5;124m,\u001b[39m\u001b[38;5;124m'\u001b[39m\u001b[38;5;241m.\u001b[39mjoin(SUPPORTED_FORMATS))\n\u001b[0;32m     93\u001b[0m         \u001b[38;5;28;01mraise\u001b[39;00m InvalidFileException(msg)\n\u001b[1;32m---> 95\u001b[0m archive \u001b[38;5;241m=\u001b[39m \u001b[43mZipFile\u001b[49m\u001b[43m(\u001b[49m\u001b[43mfilename\u001b[49m\u001b[43m,\u001b[49m\u001b[43m \u001b[49m\u001b[38;5;124;43m'\u001b[39;49m\u001b[38;5;124;43mr\u001b[39;49m\u001b[38;5;124;43m'\u001b[39;49m\u001b[43m)\u001b[49m\n\u001b[0;32m     96\u001b[0m \u001b[38;5;28;01mreturn\u001b[39;00m archive\n",
      "File \u001b[1;32mc:\\Users\\Xueli\\AppData\\Local\\Programs\\Python\\Python313\\Lib\\zipfile\\__init__.py:1380\u001b[0m, in \u001b[0;36mZipFile.__init__\u001b[1;34m(self, file, mode, compression, allowZip64, compresslevel, strict_timestamps, metadata_encoding)\u001b[0m\n\u001b[0;32m   1378\u001b[0m \u001b[38;5;28;01mtry\u001b[39;00m:\n\u001b[0;32m   1379\u001b[0m     \u001b[38;5;28;01mif\u001b[39;00m mode \u001b[38;5;241m==\u001b[39m \u001b[38;5;124m'\u001b[39m\u001b[38;5;124mr\u001b[39m\u001b[38;5;124m'\u001b[39m:\n\u001b[1;32m-> 1380\u001b[0m         \u001b[38;5;28;43mself\u001b[39;49m\u001b[38;5;241;43m.\u001b[39;49m\u001b[43m_RealGetContents\u001b[49m\u001b[43m(\u001b[49m\u001b[43m)\u001b[49m\n\u001b[0;32m   1381\u001b[0m     \u001b[38;5;28;01melif\u001b[39;00m mode \u001b[38;5;129;01min\u001b[39;00m (\u001b[38;5;124m'\u001b[39m\u001b[38;5;124mw\u001b[39m\u001b[38;5;124m'\u001b[39m, \u001b[38;5;124m'\u001b[39m\u001b[38;5;124mx\u001b[39m\u001b[38;5;124m'\u001b[39m):\n\u001b[0;32m   1382\u001b[0m         \u001b[38;5;66;03m# set the modified flag so central directory gets written\u001b[39;00m\n\u001b[0;32m   1383\u001b[0m         \u001b[38;5;66;03m# even if no files are added to the archive\u001b[39;00m\n\u001b[0;32m   1384\u001b[0m         \u001b[38;5;28mself\u001b[39m\u001b[38;5;241m.\u001b[39m_didModify \u001b[38;5;241m=\u001b[39m \u001b[38;5;28;01mTrue\u001b[39;00m\n",
      "File \u001b[1;32mc:\\Users\\Xueli\\AppData\\Local\\Programs\\Python\\Python313\\Lib\\zipfile\\__init__.py:1447\u001b[0m, in \u001b[0;36mZipFile._RealGetContents\u001b[1;34m(self)\u001b[0m\n\u001b[0;32m   1445\u001b[0m     \u001b[38;5;28;01mraise\u001b[39;00m BadZipFile(\u001b[38;5;124m\"\u001b[39m\u001b[38;5;124mFile is not a zip file\u001b[39m\u001b[38;5;124m\"\u001b[39m)\n\u001b[0;32m   1446\u001b[0m \u001b[38;5;28;01mif\u001b[39;00m \u001b[38;5;129;01mnot\u001b[39;00m endrec:\n\u001b[1;32m-> 1447\u001b[0m     \u001b[38;5;28;01mraise\u001b[39;00m BadZipFile(\u001b[38;5;124m\"\u001b[39m\u001b[38;5;124mFile is not a zip file\u001b[39m\u001b[38;5;124m\"\u001b[39m)\n\u001b[0;32m   1448\u001b[0m \u001b[38;5;28;01mif\u001b[39;00m \u001b[38;5;28mself\u001b[39m\u001b[38;5;241m.\u001b[39mdebug \u001b[38;5;241m>\u001b[39m \u001b[38;5;241m1\u001b[39m:\n\u001b[0;32m   1449\u001b[0m     \u001b[38;5;28mprint\u001b[39m(endrec)\n",
      "\u001b[1;31mBadZipFile\u001b[0m: File is not a zip file"
     ]
    }
   ],
   "source": [
    "nominal_rate_df = pd.read_excel(file_path, header=1, engine=\"openpyxl\")\n",
    "nominal_rate_df.columns = nominal_rate_df.columns.astype(str)\n",
    "\n",
    "# Select only relevant columns (not four-digit years) and filter for France Exchange Rates\n",
    "monthly_cols = [x for x in nominal_rate_df.columns if not (x.strip().isdigit() and len(x.strip()) == 4)]\n",
    "filtered_df = nominal_rate_df.loc[(nominal_rate_df.iloc[:, 0] == 'France') & \n",
    "                      (nominal_rate_df.iloc[:, 1].str.contains('Exchange Rates', na=False)), monthly_cols]\n",
    "\n",
    "# Melt and reshape the data\n",
    "df_graph_2 = pd.melt(filtered_df, id_vars=['Unnamed: 0', 'Unnamed: 1'], \n",
    "                    var_name='Date', value_name='Exchange Rate')[['Date', 'Exchange Rate']]\n",
    "\n",
    "# Display the result\n",
    "display(df_graph_2.head())"
   ]
  },
  {
   "cell_type": "code",
   "execution_count": null,
   "metadata": {},
   "outputs": [],
   "source": [
    "df_graph_2['Exchange Rate'] = pd.to_numeric(df_graph_2['Exchange Rate'], errors='coerce')\n",
    "df_graph_2 = df_graph_2.dropna(subset=['Exchange Rate'])\n",
    "df_graph_2['Exchange Rate'].fillna(0, inplace=True)\n",
    "\n",
    "b =   ggplot(df_graph_2, aes(x='Date', y='Exchange Rate')) + \\\n",
    "        geom_line(color='red', size=1) + \\\n",
    "        labs(title='Monthly Nominal Exchange Rate Over Time', x='Date', y='Nominal Exchange Rate') + \\\n",
    "        ggsize(800, 400)\n",
    "\n",
    "display(b)"
   ]
  },
  {
   "cell_type": "code",
   "execution_count": null,
   "metadata": {},
   "outputs": [],
   "source": [
    "df_graph_3 = pd.read_json('../Data/monthly_real_exchange_rate_growth.json')\n",
    "\n",
    "# Display the first few rows\n",
    "display(df_graph_3.head())"
   ]
  },
  {
   "cell_type": "code",
   "execution_count": null,
   "metadata": {},
   "outputs": [],
   "source": [
    "df_graph_3['Real Exchange Rate Growth (%)'] = pd.to_numeric(df_graph_3['Real Exchange Rate Growth (%)'], errors='coerce')\n",
    "df_graph_3 = df_graph_3.dropna(subset=['Real Exchange Rate Growth (%)'])\n",
    "df_graph_3['Real Exchange Rate Growth (%)'].fillna(0, inplace=True)\n",
    "\n",
    "c =   ggplot(df_graph_3, aes(x='Month', y='Real Exchange Rate Growth (%)')) + \\\n",
    "        geom_line(color='Green', size=1) + \\\n",
    "        labs(title='Monthly Real Growth Over Time', x='Month', y='Real Exchange Rate Growth (%)') + \\\n",
    "        ggsize(800, 400)\n",
    "\n",
    "display(c)"
   ]
  },
  {
   "cell_type": "code",
   "execution_count": null,
   "metadata": {},
   "outputs": [],
   "source": [
    "df_graph_4 = pd.read_json('../Data/real_exchange_rate_index.json')\n",
    "\n",
    "display(df_graph_4)"
   ]
  },
  {
   "cell_type": "code",
   "execution_count": null,
   "metadata": {},
   "outputs": [],
   "source": [
    "df_graph_4['RER Index'] = pd.to_numeric(df_graph_4['RER Index'], errors='coerce')\n",
    "df_graph_4 = df_graph_4.dropna(subset=['RER Index'])\n",
    "df_graph_4['RER Index'].fillna(0, inplace=True)\n",
    "\n",
    "d =   ggplot(df_graph_4, aes(x='Date', y='RER Index')) + \\\n",
    "        geom_line(color='Magenta', size=1) + \\\n",
    "        labs(title='Real Exchange Rate Index', x='Date', y='RER Index') + \\\n",
    "        ggsize(800, 400)\n",
    "\n",
    "display(d)"
   ]
  },
  {
   "cell_type": "code",
   "execution_count": null,
   "metadata": {},
   "outputs": [],
   "source": [
    "gggrid([a, b, c, d], ncol=2) + ggsize(900, 600)"
   ]
  },
  {
   "cell_type": "markdown",
   "metadata": {},
   "source": [
    "Putting all 4 graphs to one graph"
   ]
  },
  {
   "cell_type": "code",
   "execution_count": null,
   "metadata": {},
   "outputs": [],
   "source": [
    "df_graph_4['Date'] = pd.to_datetime(df_graph_4['Date'], unit='ms')\n",
    "\n",
    "# Convert month numbers to datetime, assuming they start from Dec 1959\n",
    "df_graph_1['Month'] = pd.to_numeric(df_graph_1['Month'], errors='coerce')\n",
    "\n",
    "# Convert month numbers to datetime\n",
    "start_date = pd.to_datetime('1959-12-01')\n",
    "df_graph_1['Date'] = start_date + pd.to_timedelta((df_graph_1['Month'] - 1) * 30, unit='D')\n",
    "\n",
    "df_graph_3['Month'] = pd.to_numeric(df_graph_3['Month'], errors='coerce')\n",
    "df_graph_3['Date'] = start_date + pd.to_timedelta((df_graph_3['Month'] - 1) * 30, unit='D')\n",
    "\n",
    "# Convert string dates to datetime for df_graph_2\n",
    "df_graph_2['Date'] = pd.to_datetime(df_graph_2['Date'], format='%b %Y')\n",
    "\n",
    "display(df_graph_4.tail())"
   ]
  },
  {
   "cell_type": "code",
   "execution_count": null,
   "metadata": {},
   "outputs": [],
   "source": [
    "df_graph_1_2 = df_graph_1.drop(['Month'], errors='ignore')\n",
    "df_graph_2_2 = df_graph_2.drop(['Date'], axis=1)\n",
    "df_graph_3_2 = df_graph_3.drop(['Month'], errors='ignore')\n",
    "df_graph_3_3 = df_graph_3_2.drop(['Date'], axis=1)\n",
    "df_graph_4_2 = df_graph_4.drop(['Date'], axis=1)\n",
    "\n",
    "# Ensure Date columns are in datetime format\n",
    "df_graph_1_2['Date'] = pd.to_datetime(df_graph_1['Date'])\n",
    "\n",
    "display(df_graph_3_3.tail())"
   ]
  },
  {
   "cell_type": "code",
   "execution_count": null,
   "metadata": {},
   "outputs": [],
   "source": [
    "# Ensure Date columns are in datetime format\n",
    "df_graph_1['Date'] = pd.to_datetime(df_graph_1['Date'])\n",
    "\n",
    "combined_df = pd.concat([df_graph_4_2, df_graph_3_3, df_graph_2_2, df_graph_1_2], axis=1)\n",
    "\n",
    "display(combined_df)"
   ]
  },
  {
   "cell_type": "code",
   "execution_count": null,
   "metadata": {},
   "outputs": [],
   "source": [
    "melted_df = combined_df.melt(id_vars='Date', \n",
    "                               var_name='Metric', \n",
    "                               value_name='Value')\n",
    "\n",
    "bretton_woods_end = pd.to_datetime('1971-08-01').timestamp() * 1000\n",
    "\n",
    "p = ggplot(melted_df, aes(x='Date', y='Value', color='Metric')) + \\\n",
    "    geom_line() + \\\n",
    "    geom_vline(xintercept=bretton_woods_end, color='black', linetype='dashed', size=1) + \\\n",
    "    ggtitle('Combined Exchange Rate and Growth Metrics Over Time') + \\\n",
    "    scale_color_manual(values=['blue', 'red', 'green', 'magenta']) + \\\n",
    "    ggsize(900, 450)\n",
    "\n",
    "p"
   ]
  },
  {
   "cell_type": "markdown",
   "metadata": {},
   "source": [
    "## 5.2.2 Inflation and Industrial Production Graphs\n",
    " Plot the following time series graphs, presenting the inflation graphs together and the industrial production graphs together:\n",
    "\n",
    " • Monthly inflation.\n",
    "\n",
    " • The difference between monthly inflation in your country versus the US.\n",
    "\n",
    " • The monthly growth in industrial production.\n",
    "\n",
    " • The growth in industrial production versus 12 months ago.\n",
    "\n",
    " Why are your results for the monthly versus 12 monthly growth in industrial production so different?\n",
    " Which measure is more useful?"
   ]
  },
  {
   "cell_type": "code",
   "execution_count": null,
   "metadata": {},
   "outputs": [],
   "source": [
    "Monthly_inflation_graph_df = pd.read_json('../Data/Monthly_inflation.json')\n",
    "\n",
    "display(Monthly_inflation_graph_df.head())\n"
   ]
  },
  {
   "cell_type": "code",
   "execution_count": null,
   "metadata": {},
   "outputs": [],
   "source": [
    "Monthly_inflation_graph_df['US-France Inflation Difference'] = Monthly_inflation_graph_df['France Inflation (%)'] - Monthly_inflation_graph_df['US Inflation (%)']\n",
    "\n",
    "start_date = pd.to_datetime('1959-12-01')\n",
    "Monthly_inflation_graph_df['Date'] = start_date + pd.to_timedelta((Monthly_inflation_graph_df['Month'] - 1) * 30, unit='D')\n",
    "\n",
    "Monthly_inflation_graph_df_2 = Monthly_inflation_graph_df.drop(['Month'], axis=1)\n",
    "\n",
    "display(Monthly_inflation_graph_df_2.head())"
   ]
  },
  {
   "cell_type": "code",
   "execution_count": null,
   "metadata": {},
   "outputs": [],
   "source": [
    "Monthly_growth_graph_df = pd.read_json('../Data/Montly_industrial_production.json')\n",
    "\n",
    "start_date = pd.to_datetime('1959-12-01')\n",
    "Monthly_growth_graph_df['Date'] = start_date + pd.to_timedelta((Monthly_growth_graph_df['Month'] - 1) * 30, unit='D')\n",
    "\n",
    "Monthly_inflation_graph_df_2 = Monthly_inflation_graph_df.drop(['Month'], axis=1)\n",
    "\n",
    "Monthly_growth_graph_df_2 = Monthly_growth_graph_df.drop(['Month'], axis=1)\n",
    "\n",
    "display(Monthly_growth_graph_df_2.head())"
   ]
  },
  {
   "cell_type": "code",
   "execution_count": null,
   "metadata": {},
   "outputs": [],
   "source": [
    "Growth_vs_12_months_df = pd.read_json('../Data/YoY_growth.json')\n",
    "\n",
    "Growth_vs_12_months_df_2 = Growth_vs_12_months_df.drop(['Month'], axis=1)\n",
    "\n",
    "display(Growth_vs_12_months_df_2.tail())"
   ]
  },
  {
   "cell_type": "code",
   "execution_count": null,
   "metadata": {},
   "outputs": [],
   "source": [
    "combined_df = pd.concat([Growth_vs_12_months_df_2, Monthly_growth_graph_df_2], axis=1)\n",
    "\n",
    "display(combined_df.head())"
   ]
  },
  {
   "cell_type": "code",
   "execution_count": null,
   "metadata": {},
   "outputs": [],
   "source": [
    "melted_df = combined_df.melt(id_vars='Date', \n",
    "                               var_name='Metric', \n",
    "                               value_name='Value')\n",
    "\n",
    "bretton_woods_end = pd.to_datetime('1971-08-01').timestamp() * 1000\n",
    "\n",
    "Industrial_Production_graphs = ggplot(melted_df, aes(x='Date', y='Value', color='Metric')) + \\\n",
    "    geom_line() + \\\n",
    "    geom_vline(xintercept=bretton_woods_end, color='black', linetype='dashed', size=1) + \\\n",
    "    ggtitle('Industrial Production data') + \\\n",
    "    scale_color_manual(values=['blue', 'red', 'green', 'magenta', 'black', 'pink', 'yellow']) + \\\n",
    "    ggsize(1200, 600)\n",
    "\n",
    "Industrial_Production_graphs"
   ]
  },
  {
   "cell_type": "code",
   "execution_count": null,
   "metadata": {},
   "outputs": [],
   "source": [
    "melted_df_2 = Monthly_inflation_graph_df_2.melt(id_vars='Date', \n",
    "                               var_name='Metric', \n",
    "                               value_name='Value')\n",
    "\n",
    "bretton_woods_end = pd.to_datetime('1971-08-01').timestamp() * 1000\n",
    "\n",
    "Inflation_graphs = ggplot(melted_df_2, aes(x='Date', y='Value', color='Metric')) + \\\n",
    "    geom_line() + \\\n",
    "    geom_vline(xintercept=bretton_woods_end, color='black', linetype='dashed', size=1) + \\\n",
    "    ggtitle('Inflation Data') + \\\n",
    "    scale_color_manual(values=['blue', 'red', 'green', 'magenta', 'black', 'pink', 'yellow']) + \\\n",
    "    ggsize(1200, 600)\n",
    "\n",
    "Inflation_graphs"
   ]
  },
  {
   "cell_type": "markdown",
   "metadata": {},
   "source": [
    "# q6"
   ]
  },
  {
   "cell_type": "code",
   "execution_count": null,
   "metadata": {},
   "outputs": [],
   "source": [
    "# Load the dataset\n",
    "file_path = \"../Data/International_Financial_Statistics_ UK and Germany.xlsx\"  # Update this with your actual file path\n",
    "q6_data = pd.read_excel(file_path, header=None, engine=\"openpyxl\")\n",
    "\n",
    "q6_data"
   ]
  },
  {
   "cell_type": "code",
   "execution_count": null,
   "metadata": {},
   "outputs": [],
   "source": [
    "us_cpi_row1 = q6_data.iloc[8, 2:]\n",
    "us_cpi_list = us_cpi_row1.tolist()"
   ]
  },
  {
   "cell_type": "code",
   "execution_count": null,
   "metadata": {},
   "outputs": [],
   "source": [
    "german_exchange_rate_row = q6_data.iloc[3, 2:]  # The exchange rates start from the 3rd column (index 2)\n",
    "german_cpi_row = q6_data.iloc[4, 2:]\n",
    "\n",
    "# Convert the exchange rates and cpi into a list\n",
    "german_exchange_rate_list = german_exchange_rate_row.tolist()\n",
    "german_cpi_list = german_cpi_row.tolist()"
   ]
  },
  {
   "cell_type": "code",
   "execution_count": null,
   "metadata": {},
   "outputs": [],
   "source": [
    "uk_exchange_rate_row = q6_data.iloc[6, 2:]  # The exchange rates start from the 3rd column (index 2)\n",
    "uk_cpi_row = q6_data.iloc[7, 2:]\n",
    "\n",
    "# Convert the exchange rates and cpi into a list\n",
    "uk_exchange_rate_list = uk_exchange_rate_row.tolist()\n",
    "uk_cpi_list = uk_cpi_row.tolist()"
   ]
  },
  {
   "cell_type": "code",
   "execution_count": null,
   "metadata": {},
   "outputs": [],
   "source": [
    "# finding the german real exchange rate\n",
    "german_nominal = pd.Series(german_exchange_rate_list)\n",
    "us_cpi_pandas = pd.Series(us_cpi_list)\n",
    "german_cpi_pandas = pd.Series(german_cpi_list)\n",
    "german_rer = german_nominal * (us_cpi_pandas / german_cpi_pandas)"
   ]
  },
  {
   "cell_type": "code",
   "execution_count": null,
   "metadata": {},
   "outputs": [],
   "source": [
    "# finding the uk real exchange rate\n",
    "uk_nominal = pd.Series(uk_exchange_rate_list)\n",
    "us_cpi_pandas = pd.Series(us_cpi_list)\n",
    "uk_cpi_pandas = pd.Series(uk_cpi_list)\n",
    "uk_rer = uk_nominal * (us_cpi_pandas / uk_cpi_pandas)"
   ]
  },
  {
   "cell_type": "code",
   "execution_count": null,
   "metadata": {},
   "outputs": [],
   "source": [
    "# gbp to gdm (german deutsche mark) exchange rate \n",
    "gbp_to_german = [gbp / eur for gbp, eur in zip(german_nominal, uk_nominal)]"
   ]
  },
  {
   "cell_type": "code",
   "execution_count": null,
   "metadata": {},
   "outputs": [],
   "source": [
    "# finding the date as a panda table \n",
    "date_row1 = q6_data.iloc[1, 2:]\n",
    "date_list1 = date_row1.tolist()"
   ]
  },
  {
   "cell_type": "code",
   "execution_count": null,
   "metadata": {},
   "outputs": [],
   "source": [
    "gbp_to_gdm = pd.DataFrame({\n",
    "    'Date': date_list1,\n",
    "    'GBP_to_GDM': gbp_to_german\n",
    "})\n",
    "\n",
    "gbp_to_gdm"
   ]
  },
  {
   "cell_type": "code",
   "execution_count": null,
   "metadata": {},
   "outputs": [],
   "source": [
    "plot = ggplot(gbp_to_gdm) + \\\n",
    "    geom_line(aes(x='Date', y='GBP_to_GDM'), color='blue') + \\\n",
    "    labs(title=\"GBP to German Exchange Rate\", x=\"Date\", y=\"Exchange Rate\") + \\\n",
    "    theme_minimal()\n",
    "\n",
    "plot.show()"
   ]
  },
  {
   "cell_type": "code",
   "execution_count": null,
   "metadata": {},
   "outputs": [],
   "source": [
    "uk_rer_table = pd.DataFrame({\n",
    "    'Date': date_list1,\n",
    "    'uk_rer': uk_rer \n",
    "\n",
    "})"
   ]
  },
  {
   "cell_type": "code",
   "execution_count": null,
   "metadata": {},
   "outputs": [],
   "source": [
    "plot2 = ggplot(uk_rer_table) + \\\n",
    "    geom_line(aes(x='Date', y='uk_rer'), color='blue') + \\\n",
    "    labs(title=\"UK Real Exchange Rate\", x=\"Date\", y=\"Real Exchange Rate\") + \\\n",
    "    theme_minimal()\n",
    "plot2.show()"
   ]
  },
  {
   "cell_type": "markdown",
   "metadata": {},
   "source": [
    "inflation difference (for point 3) and inflation of the uk (for point 4)"
   ]
  },
  {
   "cell_type": "code",
   "execution_count": null,
   "metadata": {},
   "outputs": [],
   "source": [
    "uk_inflation = uk_cpi_pandas.pct_change() * 100\n",
    "uk_inflation_table = pd.DataFrame({\n",
    "    'Date': date_list1,\n",
    "    'uk_inflation': uk_inflation\n",
    "})\n",
    "uk_inflation_table\n",
    "\n",
    "germany_inflation = german_cpi_pandas.pct_change() * 100\n",
    "germany_inflation_table = pd.DataFrame({\n",
    "    'Date': date_list1,\n",
    "    'germany_inflation': germany_inflation\n",
    "\n",
    "})"
   ]
  },
  {
   "cell_type": "code",
   "execution_count": null,
   "metadata": {},
   "outputs": [],
   "source": [
    "inflation_table = pd.merge(uk_inflation_table, germany_inflation_table, on='Date')\n",
    "\n",
    "# Melt the DataFrame to have 'Source' as a categorical variable for coloring\n",
    "inflation_table_melted = pd.melt(inflation_table, id_vars=[\"Date\"], \n",
    "                                 value_vars=[\"uk_inflation\", \"germany_inflation\"],\n",
    "                                 var_name=\"Country\", value_name=\"Inflation\")\n",
    "\n",
    "# Setup lets-plot for HTML rendering\n",
    "\n",
    "\n",
    "# Create the plot\n",
    "plot5 = ggplot(inflation_table_melted) + \\\n",
    "    geom_line(aes(x='Date', y='Inflation', color='Country'), size=1) + \\\n",
    "    labs(title=\"UK vs Germany Inflation\", x=\"Date\", y=\"Inflation (%)\") + \\\n",
    "    theme_minimal() + \\\n",
    "    scale_color_manual(values={\"uk_inflation\": \"red\", \"germany_inflation\": \"blue\"})  # Set the colors for each country\n",
    "\n",
    "# Display the plot\n",
    "plot5.show()"
   ]
  },
  {
   "cell_type": "code",
   "execution_count": null,
   "metadata": {},
   "outputs": [],
   "source": [
    "uk_industrial_production_row = q6_data.iloc[5, 2:]\n",
    "uk_industrial_production_list = uk_industrial_production_row.tolist()\n",
    "uk_industrial_production_pandas =pd.Series(uk_industrial_production_list)\n",
    "uk_ip_growth = uk_industrial_production_pandas.pct_change() * 100\n",
    "\n",
    "germany_industrial_production_row = q6_data.iloc[2, 2:]\n",
    "germany_industrial_production_list = germany_industrial_production_row.tolist()\n",
    "germany_industrial_production_pandas = pd.Series(germany_industrial_production_list)\n",
    "germany_ip_growth = germany_industrial_production_pandas.pct_change() * 100 "
   ]
  },
  {
   "cell_type": "code",
   "execution_count": null,
   "metadata": {},
   "outputs": [],
   "source": [
    "uk_ip_growth_table = pd.DataFrame({\n",
    "    'Date': date_list1,\n",
    "    'uk_ip_growth': uk_ip_growth\n",
    "})\n",
    "\n",
    "germany_ip_growth_table = pd.DataFrame({\n",
    "    'Date': date_list1,\n",
    "    'germany_ip_growth': germany_ip_growth\n",
    "})\n",
    "\n",
    "growth_table = pd.merge(germany_ip_growth_table, uk_ip_growth_table, on='Date')"
   ]
  },
  {
   "cell_type": "code",
   "execution_count": null,
   "metadata": {},
   "outputs": [],
   "source": [
    "# Melt the DataFrame to long format for ggplot\n",
    "growth_table_melted = pd.melt(growth_table, id_vars=[\"Date\"], \n",
    "                              value_vars=[\"uk_ip_growth\", \"germany_ip_growth\"], \n",
    "                              var_name=\"Country\", value_name=\"IP_Growth\")\n",
    "\n",
    "# Create the plot\n",
    "plot = ggplot(growth_table_melted) + \\\n",
    "    geom_line(aes(x='Date', y='IP_Growth', color='Country'), size=1) + \\\n",
    "    labs(title=\"UK vs Germany Industrial Production Growth\", x=\"Date\", y=\"Industrial Production Growth (%)\") + \\\n",
    "    theme_minimal() + \\\n",
    "    scale_color_manual(values={\"uk_ip_growth\": \"red\", \"germany_ip_growth\": \"blue\"})  # Set the colors for each country\n",
    "\n",
    "# Display the plot\n",
    "plot.show()"
   ]
  }
 ],
 "metadata": {
  "kernelspec": {
   "display_name": "Python 3",
   "language": "python",
   "name": "python3"
  },
  "language_info": {
   "codemirror_mode": {
    "name": "ipython",
    "version": 3
   },
   "file_extension": ".py",
   "mimetype": "text/x-python",
   "name": "python",
   "nbconvert_exporter": "python",
   "pygments_lexer": "ipython3",
   "version": "3.13.1"
  }
 },
 "nbformat": 4,
 "nbformat_minor": 2
}
